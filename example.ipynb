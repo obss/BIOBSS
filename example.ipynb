{
 "cells": [
  {
   "cell_type": "code",
   "execution_count": 1,
   "metadata": {},
   "outputs": [],
   "source": [
    "import importlib\n",
    "import biobss\n",
    "import pandas as pd\n",
    "import numpy as np"
   ]
  },
  {
   "cell_type": "code",
   "execution_count": 2,
   "metadata": {},
   "outputs": [],
   "source": [
    "import neurokit2 as nk"
   ]
  },
  {
   "cell_type": "code",
   "execution_count": 3,
   "metadata": {},
   "outputs": [],
   "source": [
    "import matplotlib.pyplot as plt"
   ]
  },
  {
   "cell_type": "code",
   "execution_count": 4,
   "metadata": {},
   "outputs": [],
   "source": [
    "importlib.reload(biobss);"
   ]
  },
  {
   "cell_type": "code",
   "execution_count": 5,
   "metadata": {},
   "outputs": [],
   "source": [
    "data=pd.read_pickle(r\"G:\\Obss Backup\\Workspace\\R&D Projects\\rdinc\\WESAD\\DATA_EXTRACTED\\S17.pkl\")"
   ]
  },
  {
   "cell_type": "markdown",
   "metadata": {},
   "source": [
    "Prepare the input signals"
   ]
  },
  {
   "cell_type": "code",
   "execution_count": 6,
   "metadata": {},
   "outputs": [],
   "source": [
    "EDA_Chest=data['signal']['chest']['EDA']\n",
    "Labels=data['label']\n",
    "EDA_Wrist=data['signal']['wrist']['EDA']\n",
    "sr_chest=700\n",
    "sr_wrist=4\n",
    "EDA_Chest=EDA_Chest.flatten()"
   ]
  },
  {
   "cell_type": "code",
   "execution_count": 7,
   "metadata": {},
   "outputs": [],
   "source": [
    "eda_win=biobss.signaltools.naive_segment(EDA_Chest,window_size=60,overlap_size=20,sampling_rate=700)"
   ]
  },
  {
   "cell_type": "code",
   "execution_count": null,
   "metadata": {},
   "outputs": [],
   "source": [
    "parallel_features=biobss.edatools.feature_extraction.from_windows(eda_win,sr=700,parallel=True)"
   ]
  },
  {
   "cell_type": "code",
   "execution_count": 8,
   "metadata": {},
   "outputs": [
    {
     "data": {
      "text/html": [
       "<div>\n",
       "<style scoped>\n",
       "    .dataframe tbody tr th:only-of-type {\n",
       "        vertical-align: middle;\n",
       "    }\n",
       "\n",
       "    .dataframe tbody tr th {\n",
       "        vertical-align: top;\n",
       "    }\n",
       "\n",
       "    .dataframe thead th {\n",
       "        text-align: right;\n",
       "    }\n",
       "</style>\n",
       "<table border=\"1\" class=\"dataframe\">\n",
       "  <thead>\n",
       "    <tr style=\"text-align: right;\">\n",
       "      <th></th>\n",
       "      <th>scr_mean</th>\n",
       "      <th>scr_std</th>\n",
       "      <th>scr_max</th>\n",
       "      <th>scr_min</th>\n",
       "      <th>scr_drange</th>\n",
       "      <th>scrkusc</th>\n",
       "      <th>scrsksc</th>\n",
       "      <th>scrmosc</th>\n",
       "      <th>scr_activity</th>\n",
       "      <th>scr_complexity</th>\n",
       "      <th>...</th>\n",
       "      <th>scr_f2sc</th>\n",
       "      <th>scr_f3sc</th>\n",
       "      <th>scl_mean</th>\n",
       "      <th>scl_std</th>\n",
       "      <th>scl_max</th>\n",
       "      <th>scl_min</th>\n",
       "      <th>scl_drange</th>\n",
       "      <th>sclkusc</th>\n",
       "      <th>sclsksc</th>\n",
       "      <th>sclmosc</th>\n",
       "    </tr>\n",
       "  </thead>\n",
       "  <tbody>\n",
       "    <tr>\n",
       "      <th>0</th>\n",
       "      <td>7.839344e-06</td>\n",
       "      <td>0.006531</td>\n",
       "      <td>0.071816</td>\n",
       "      <td>0.071816</td>\n",
       "      <td>0.109138</td>\n",
       "      <td>5.779271</td>\n",
       "      <td>1.241259</td>\n",
       "      <td>0.000043</td>\n",
       "      <td>0.253222</td>\n",
       "      <td>2.521045</td>\n",
       "      <td>...</td>\n",
       "      <td>1.883300</td>\n",
       "      <td>1.753310</td>\n",
       "      <td>5.432983</td>\n",
       "      <td>0.050687</td>\n",
       "      <td>5.613186</td>\n",
       "      <td>5.613186</td>\n",
       "      <td>0.225165</td>\n",
       "      <td>4.413212</td>\n",
       "      <td>2.287239</td>\n",
       "      <td>0.002569</td>\n",
       "    </tr>\n",
       "    <tr>\n",
       "      <th>1</th>\n",
       "      <td>-1.230960e-05</td>\n",
       "      <td>0.006539</td>\n",
       "      <td>0.068675</td>\n",
       "      <td>0.068675</td>\n",
       "      <td>0.105998</td>\n",
       "      <td>5.784089</td>\n",
       "      <td>1.299605</td>\n",
       "      <td>0.000043</td>\n",
       "      <td>0.254333</td>\n",
       "      <td>2.719577</td>\n",
       "      <td>...</td>\n",
       "      <td>1.841919</td>\n",
       "      <td>1.774195</td>\n",
       "      <td>5.491939</td>\n",
       "      <td>0.089239</td>\n",
       "      <td>5.626497</td>\n",
       "      <td>5.626497</td>\n",
       "      <td>0.238476</td>\n",
       "      <td>-1.746864</td>\n",
       "      <td>0.266422</td>\n",
       "      <td>0.007964</td>\n",
       "    </tr>\n",
       "    <tr>\n",
       "      <th>2</th>\n",
       "      <td>2.750874e-06</td>\n",
       "      <td>0.006531</td>\n",
       "      <td>0.066660</td>\n",
       "      <td>0.066660</td>\n",
       "      <td>0.117435</td>\n",
       "      <td>5.958007</td>\n",
       "      <td>1.302236</td>\n",
       "      <td>0.000043</td>\n",
       "      <td>0.253231</td>\n",
       "      <td>2.919235</td>\n",
       "      <td>...</td>\n",
       "      <td>1.745375</td>\n",
       "      <td>1.790704</td>\n",
       "      <td>5.548025</td>\n",
       "      <td>0.087951</td>\n",
       "      <td>5.702619</td>\n",
       "      <td>5.702619</td>\n",
       "      <td>0.314598</td>\n",
       "      <td>-0.670291</td>\n",
       "      <td>-0.829072</td>\n",
       "      <td>0.007735</td>\n",
       "    </tr>\n",
       "    <tr>\n",
       "      <th>3</th>\n",
       "      <td>-7.686530e-06</td>\n",
       "      <td>0.006678</td>\n",
       "      <td>0.066660</td>\n",
       "      <td>0.066660</td>\n",
       "      <td>0.285981</td>\n",
       "      <td>41.206660</td>\n",
       "      <td>0.088101</td>\n",
       "      <td>0.000045</td>\n",
       "      <td>0.272559</td>\n",
       "      <td>2.729140</td>\n",
       "      <td>...</td>\n",
       "      <td>1.888006</td>\n",
       "      <td>2.333203</td>\n",
       "      <td>5.577679</td>\n",
       "      <td>0.052042</td>\n",
       "      <td>5.702619</td>\n",
       "      <td>5.702619</td>\n",
       "      <td>0.258082</td>\n",
       "      <td>0.431265</td>\n",
       "      <td>-0.640758</td>\n",
       "      <td>0.002708</td>\n",
       "    </tr>\n",
       "    <tr>\n",
       "      <th>4</th>\n",
       "      <td>2.659813e-06</td>\n",
       "      <td>0.006843</td>\n",
       "      <td>0.066660</td>\n",
       "      <td>0.066660</td>\n",
       "      <td>0.301228</td>\n",
       "      <td>70.566219</td>\n",
       "      <td>-0.851628</td>\n",
       "      <td>0.000047</td>\n",
       "      <td>0.293758</td>\n",
       "      <td>2.625909</td>\n",
       "      <td>...</td>\n",
       "      <td>1.882967</td>\n",
       "      <td>1.834415</td>\n",
       "      <td>5.513147</td>\n",
       "      <td>0.093657</td>\n",
       "      <td>5.702619</td>\n",
       "      <td>5.702619</td>\n",
       "      <td>0.344486</td>\n",
       "      <td>-1.258467</td>\n",
       "      <td>-0.052375</td>\n",
       "      <td>0.008772</td>\n",
       "    </tr>\n",
       "    <tr>\n",
       "      <th>...</th>\n",
       "      <td>...</td>\n",
       "      <td>...</td>\n",
       "      <td>...</td>\n",
       "      <td>...</td>\n",
       "      <td>...</td>\n",
       "      <td>...</td>\n",
       "      <td>...</td>\n",
       "      <td>...</td>\n",
       "      <td>...</td>\n",
       "      <td>...</td>\n",
       "      <td>...</td>\n",
       "      <td>...</td>\n",
       "      <td>...</td>\n",
       "      <td>...</td>\n",
       "      <td>...</td>\n",
       "      <td>...</td>\n",
       "      <td>...</td>\n",
       "      <td>...</td>\n",
       "      <td>...</td>\n",
       "      <td>...</td>\n",
       "      <td>...</td>\n",
       "    </tr>\n",
       "    <tr>\n",
       "      <th>288</th>\n",
       "      <td>-1.708755e-06</td>\n",
       "      <td>0.004661</td>\n",
       "      <td>0.099183</td>\n",
       "      <td>0.099183</td>\n",
       "      <td>0.255932</td>\n",
       "      <td>76.185976</td>\n",
       "      <td>0.245980</td>\n",
       "      <td>0.000022</td>\n",
       "      <td>-0.039730</td>\n",
       "      <td>4.095387</td>\n",
       "      <td>...</td>\n",
       "      <td>0.909098</td>\n",
       "      <td>0.760102</td>\n",
       "      <td>7.218197</td>\n",
       "      <td>0.008646</td>\n",
       "      <td>7.237281</td>\n",
       "      <td>7.237281</td>\n",
       "      <td>0.038132</td>\n",
       "      <td>-0.692533</td>\n",
       "      <td>-0.037473</td>\n",
       "      <td>0.000075</td>\n",
       "    </tr>\n",
       "    <tr>\n",
       "      <th>289</th>\n",
       "      <td>-1.898873e-06</td>\n",
       "      <td>0.004751</td>\n",
       "      <td>0.099183</td>\n",
       "      <td>0.099183</td>\n",
       "      <td>0.255932</td>\n",
       "      <td>95.667623</td>\n",
       "      <td>-0.471486</td>\n",
       "      <td>0.000023</td>\n",
       "      <td>-0.023158</td>\n",
       "      <td>3.975816</td>\n",
       "      <td>...</td>\n",
       "      <td>0.990520</td>\n",
       "      <td>0.928054</td>\n",
       "      <td>7.214393</td>\n",
       "      <td>0.009851</td>\n",
       "      <td>7.235344</td>\n",
       "      <td>7.235344</td>\n",
       "      <td>0.041796</td>\n",
       "      <td>-0.975535</td>\n",
       "      <td>0.068930</td>\n",
       "      <td>0.000097</td>\n",
       "    </tr>\n",
       "    <tr>\n",
       "      <th>290</th>\n",
       "      <td>1.439638e-06</td>\n",
       "      <td>0.004606</td>\n",
       "      <td>0.099183</td>\n",
       "      <td>0.099183</td>\n",
       "      <td>0.251475</td>\n",
       "      <td>72.494963</td>\n",
       "      <td>0.318229</td>\n",
       "      <td>0.000021</td>\n",
       "      <td>-0.050048</td>\n",
       "      <td>3.751570</td>\n",
       "      <td>...</td>\n",
       "      <td>0.915107</td>\n",
       "      <td>1.165733</td>\n",
       "      <td>7.210509</td>\n",
       "      <td>0.007912</td>\n",
       "      <td>7.228855</td>\n",
       "      <td>7.228855</td>\n",
       "      <td>0.035307</td>\n",
       "      <td>-0.596616</td>\n",
       "      <td>0.495465</td>\n",
       "      <td>0.000063</td>\n",
       "    </tr>\n",
       "    <tr>\n",
       "      <th>291</th>\n",
       "      <td>2.066295e-06</td>\n",
       "      <td>0.004584</td>\n",
       "      <td>0.083887</td>\n",
       "      <td>0.083887</td>\n",
       "      <td>0.236179</td>\n",
       "      <td>46.108134</td>\n",
       "      <td>0.570331</td>\n",
       "      <td>0.000021</td>\n",
       "      <td>-0.054326</td>\n",
       "      <td>3.972471</td>\n",
       "      <td>...</td>\n",
       "      <td>0.962206</td>\n",
       "      <td>0.794777</td>\n",
       "      <td>7.232567</td>\n",
       "      <td>0.053105</td>\n",
       "      <td>7.406784</td>\n",
       "      <td>7.406784</td>\n",
       "      <td>0.213236</td>\n",
       "      <td>2.314450</td>\n",
       "      <td>1.895640</td>\n",
       "      <td>0.002820</td>\n",
       "    </tr>\n",
       "    <tr>\n",
       "      <th>292</th>\n",
       "      <td>-8.452317e-07</td>\n",
       "      <td>0.004453</td>\n",
       "      <td>0.062374</td>\n",
       "      <td>0.062374</td>\n",
       "      <td>0.096912</td>\n",
       "      <td>11.020523</td>\n",
       "      <td>0.908311</td>\n",
       "      <td>0.000020</td>\n",
       "      <td>-0.079401</td>\n",
       "      <td>4.825730</td>\n",
       "      <td>...</td>\n",
       "      <td>0.744087</td>\n",
       "      <td>0.959492</td>\n",
       "      <td>7.271391</td>\n",
       "      <td>0.064191</td>\n",
       "      <td>7.406145</td>\n",
       "      <td>7.406145</td>\n",
       "      <td>0.211283</td>\n",
       "      <td>-1.257226</td>\n",
       "      <td>0.413095</td>\n",
       "      <td>0.004121</td>\n",
       "    </tr>\n",
       "  </tbody>\n",
       "</table>\n",
       "<p>293 rows × 26 columns</p>\n",
       "</div>"
      ],
      "text/plain": [
       "         scr_mean   scr_std   scr_max   scr_min  scr_drange    scrkusc  \\\n",
       "0    7.839344e-06  0.006531  0.071816  0.071816    0.109138   5.779271   \n",
       "1   -1.230960e-05  0.006539  0.068675  0.068675    0.105998   5.784089   \n",
       "2    2.750874e-06  0.006531  0.066660  0.066660    0.117435   5.958007   \n",
       "3   -7.686530e-06  0.006678  0.066660  0.066660    0.285981  41.206660   \n",
       "4    2.659813e-06  0.006843  0.066660  0.066660    0.301228  70.566219   \n",
       "..            ...       ...       ...       ...         ...        ...   \n",
       "288 -1.708755e-06  0.004661  0.099183  0.099183    0.255932  76.185976   \n",
       "289 -1.898873e-06  0.004751  0.099183  0.099183    0.255932  95.667623   \n",
       "290  1.439638e-06  0.004606  0.099183  0.099183    0.251475  72.494963   \n",
       "291  2.066295e-06  0.004584  0.083887  0.083887    0.236179  46.108134   \n",
       "292 -8.452317e-07  0.004453  0.062374  0.062374    0.096912  11.020523   \n",
       "\n",
       "      scrsksc   scrmosc  scr_activity  scr_complexity  ...  scr_f2sc  \\\n",
       "0    1.241259  0.000043      0.253222        2.521045  ...  1.883300   \n",
       "1    1.299605  0.000043      0.254333        2.719577  ...  1.841919   \n",
       "2    1.302236  0.000043      0.253231        2.919235  ...  1.745375   \n",
       "3    0.088101  0.000045      0.272559        2.729140  ...  1.888006   \n",
       "4   -0.851628  0.000047      0.293758        2.625909  ...  1.882967   \n",
       "..        ...       ...           ...             ...  ...       ...   \n",
       "288  0.245980  0.000022     -0.039730        4.095387  ...  0.909098   \n",
       "289 -0.471486  0.000023     -0.023158        3.975816  ...  0.990520   \n",
       "290  0.318229  0.000021     -0.050048        3.751570  ...  0.915107   \n",
       "291  0.570331  0.000021     -0.054326        3.972471  ...  0.962206   \n",
       "292  0.908311  0.000020     -0.079401        4.825730  ...  0.744087   \n",
       "\n",
       "     scr_f3sc  scl_mean   scl_std   scl_max   scl_min  scl_drange   sclkusc  \\\n",
       "0    1.753310  5.432983  0.050687  5.613186  5.613186    0.225165  4.413212   \n",
       "1    1.774195  5.491939  0.089239  5.626497  5.626497    0.238476 -1.746864   \n",
       "2    1.790704  5.548025  0.087951  5.702619  5.702619    0.314598 -0.670291   \n",
       "3    2.333203  5.577679  0.052042  5.702619  5.702619    0.258082  0.431265   \n",
       "4    1.834415  5.513147  0.093657  5.702619  5.702619    0.344486 -1.258467   \n",
       "..        ...       ...       ...       ...       ...         ...       ...   \n",
       "288  0.760102  7.218197  0.008646  7.237281  7.237281    0.038132 -0.692533   \n",
       "289  0.928054  7.214393  0.009851  7.235344  7.235344    0.041796 -0.975535   \n",
       "290  1.165733  7.210509  0.007912  7.228855  7.228855    0.035307 -0.596616   \n",
       "291  0.794777  7.232567  0.053105  7.406784  7.406784    0.213236  2.314450   \n",
       "292  0.959492  7.271391  0.064191  7.406145  7.406145    0.211283 -1.257226   \n",
       "\n",
       "      sclsksc   sclmosc  \n",
       "0    2.287239  0.002569  \n",
       "1    0.266422  0.007964  \n",
       "2   -0.829072  0.007735  \n",
       "3   -0.640758  0.002708  \n",
       "4   -0.052375  0.008772  \n",
       "..        ...       ...  \n",
       "288 -0.037473  0.000075  \n",
       "289  0.068930  0.000097  \n",
       "290  0.495465  0.000063  \n",
       "291  1.895640  0.002820  \n",
       "292  0.413095  0.004121  \n",
       "\n",
       "[293 rows x 26 columns]"
      ]
     },
     "execution_count": 8,
     "metadata": {},
     "output_type": "execute_result"
    }
   ],
   "source": [
    "serial_features=biobss.edatools.feature_extraction.from_windows(eda_win,sr=700,)"
   ]
  },
  {
   "cell_type": "code",
   "execution_count": null,
   "metadata": {},
   "outputs": [],
   "source": [
    "dat=biobss.edatools.eda_decompose(EDA_Chest,700,method='bandpass')"
   ]
  },
  {
   "cell_type": "code",
   "execution_count": null,
   "metadata": {},
   "outputs": [
    {
     "data": {
      "text/plain": [
       "[<matplotlib.lines.Line2D at 0x23615202d00>]"
      ]
     },
     "execution_count": 7,
     "metadata": {},
     "output_type": "execute_result"
    },
    {
     "data": {
      "image/png": "[encoded data removed]",
      "text/plain": [
       "<Figure size 432x288 with 1 Axes>"
      ]
     },
     "metadata": {
      "needs_background": "light"
     },
     "output_type": "display_data"
    }
   ],
   "source": [
    "plt.plot(dat['EDA_Phasic'])"
   ]
  },
  {
   "cell_type": "code",
   "execution_count": null,
   "metadata": {},
   "outputs": [
    {
     "ename": "NameError",
     "evalue": "name 'nk' is not defined",
     "output_type": "error",
     "traceback": [
      "\u001b[1;31m---------------------------------------------------------------------------\u001b[0m",
      "\u001b[1;31mNameError\u001b[0m                                 Traceback (most recent call last)",
      "\u001b[1;32mc:\\Users\\Cagatay\\Desktop\\Workspace\\Biobss\\biobss\\example.ipynb Cell 11'\u001b[0m in \u001b[0;36m<module>\u001b[1;34m\u001b[0m\n\u001b[1;32m----> <a href='vscode-notebook-cell:/c%3A/Users/Cagatay/Desktop/Workspace/Biobss/biobss/example.ipynb#ch0000010?line=0'>1</a>\u001b[0m d\u001b[39m=\u001b[39mnk\u001b[39m.\u001b[39meda_phasic(EDA_Chest,\u001b[39m700\u001b[39m)\n",
      "\u001b[1;31mNameError\u001b[0m: name 'nk' is not defined"
     ]
    }
   ],
   "source": [
    "d=nk.eda_phasic(EDA_Chest,700)"
   ]
  },
  {
   "cell_type": "code",
   "execution_count": null,
   "metadata": {},
   "outputs": [
    {
     "ename": "NameError",
     "evalue": "name 'd' is not defined",
     "output_type": "error",
     "traceback": [
      "\u001b[1;31m---------------------------------------------------------------------------\u001b[0m",
      "\u001b[1;31mNameError\u001b[0m                                 Traceback (most recent call last)",
      "\u001b[1;32mc:\\Users\\Cagatay\\Desktop\\Workspace\\Biobss\\biobss\\example.ipynb Cell 12'\u001b[0m in \u001b[0;36m<module>\u001b[1;34m\u001b[0m\n\u001b[1;32m----> <a href='vscode-notebook-cell:/c%3A/Users/Cagatay/Desktop/Workspace/Biobss/biobss/example.ipynb#ch0000011?line=0'>1</a>\u001b[0m plt\u001b[39m.\u001b[39mplot(d[\u001b[39m'\u001b[39m\u001b[39mEDA_Phasic\u001b[39m\u001b[39m'\u001b[39m])\n",
      "\u001b[1;31mNameError\u001b[0m: name 'd' is not defined"
     ]
    }
   ],
   "source": [
    "plt.plot(d['EDA_Phasic'])"
   ]
  },
  {
   "cell_type": "code",
   "execution_count": null,
   "metadata": {},
   "outputs": [
    {
     "data": {
      "text/plain": [
       "[<matplotlib.lines.Line2D at 0x1d1e600c2b0>]"
      ]
     },
     "execution_count": 11,
     "metadata": {},
     "output_type": "execute_result"
    },
    {
     "data": {
      "image/png": "[encoded data removed]",
      "text/plain": [
       "<Figure size 432x288 with 1 Axes>"
      ]
     },
     "metadata": {
      "needs_background": "light"
     },
     "output_type": "display_data"
    }
   ],
   "source": [
    "plt.plot(Labels)"
   ]
  },
  {
   "cell_type": "code",
   "execution_count": null,
   "metadata": {},
   "outputs": [],
   "source": [
    "EDA_windows=biobss.signaltools.naive_segment(EDA_Chest,window_size=120,overlap_size=120,sampling_rate=700)"
   ]
  },
  {
   "cell_type": "code",
   "execution_count": null,
   "metadata": {},
   "outputs": [
    {
     "ename": "TypeError",
     "evalue": "cannot concatenate object of type '<class 'dict'>'; only Series and DataFrame objs are valid",
     "output_type": "error",
     "traceback": [
      "\u001b[1;31m---------------------------------------------------------------------------\u001b[0m",
      "\u001b[1;31mTypeError\u001b[0m                                 Traceback (most recent call last)",
      "\u001b[1;32mc:\\Users\\Cagatay\\Desktop\\Workspace\\Biobss\\biobss\\example.ipynb Cell 15'\u001b[0m in \u001b[0;36m<module>\u001b[1;34m\u001b[0m\n\u001b[1;32m----> <a href='vscode-notebook-cell:/c%3A/Users/Cagatay/Desktop/Workspace/Biobss/biobss/example.ipynb#ch0000014?line=0'>1</a>\u001b[0m f\u001b[39m=\u001b[39mbiobss\u001b[39m.\u001b[39;49medatools\u001b[39m.\u001b[39;49mfeature_extraction\u001b[39m.\u001b[39;49mfrom_windows(EDA_windows,sr\u001b[39m=\u001b[39;49m\u001b[39m700\u001b[39;49m,parallel\u001b[39m=\u001b[39;49m\u001b[39mFalse\u001b[39;49;00m)\n",
      "File \u001b[1;32mc:\\Users\\Cagatay\\Desktop\\Workspace\\Biobss\\biobss\\biobss\\edatools\\feature_extraction.py:38\u001b[0m, in \u001b[0;36mfrom_windows\u001b[1;34m(eda_windows, sr, parallel, n_jobs)\u001b[0m\n\u001b[0;32m     <a href='file:///c%3A/Users/Cagatay/Desktop/Workspace/Biobss/biobss/biobss/edatools/feature_extraction.py?line=35'>36</a>\u001b[0m     features\u001b[39m=\u001b[39m[]\n\u001b[0;32m     <a href='file:///c%3A/Users/Cagatay/Desktop/Workspace/Biobss/biobss/biobss/edatools/feature_extraction.py?line=36'>37</a>\u001b[0m     \u001b[39mfor\u001b[39;00m w \u001b[39min\u001b[39;00m eda_windows:\n\u001b[1;32m---> <a href='file:///c%3A/Users/Cagatay/Desktop/Workspace/Biobss/biobss/biobss/edatools/feature_extraction.py?line=37'>38</a>\u001b[0m         features\u001b[39m.\u001b[39mappend(from_signal(w,sr))\n\u001b[0;32m     <a href='file:///c%3A/Users/Cagatay/Desktop/Workspace/Biobss/biobss/biobss/edatools/feature_extraction.py?line=38'>39</a>\u001b[0m     features\u001b[39m=\u001b[39mpd\u001b[39m.\u001b[39mDataFrame(features)\n\u001b[0;32m     <a href='file:///c%3A/Users/Cagatay/Desktop/Workspace/Biobss/biobss/biobss/edatools/feature_extraction.py?line=39'>40</a>\u001b[0m \u001b[39mreturn\u001b[39;00m features\n",
      "File \u001b[1;32mc:\\Users\\Cagatay\\Desktop\\Workspace\\Biobss\\biobss\\biobss\\edatools\\feature_extraction.py:27\u001b[0m, in \u001b[0;36mfrom_signal\u001b[1;34m(signal, sr)\u001b[0m\n\u001b[0;32m     <a href='file:///c%3A/Users/Cagatay/Desktop/Workspace/Biobss/biobss/biobss/edatools/feature_extraction.py?line=24'>25</a>\u001b[0m eda_phasic \u001b[39m=\u001b[39m decomposed_[\u001b[39m'\u001b[39m\u001b[39mEDA_Phasic\u001b[39m\u001b[39m'\u001b[39m]\n\u001b[0;32m     <a href='file:///c%3A/Users/Cagatay/Desktop/Workspace/Biobss/biobss/biobss/edatools/feature_extraction.py?line=25'>26</a>\u001b[0m eda_tonic \u001b[39m=\u001b[39m decomposed_[\u001b[39m'\u001b[39m\u001b[39mEDA_Tonic\u001b[39m\u001b[39m'\u001b[39m]\n\u001b[1;32m---> <a href='file:///c%3A/Users/Cagatay/Desktop/Workspace/Biobss/biobss/biobss/edatools/feature_extraction.py?line=26'>27</a>\u001b[0m features \u001b[39m=\u001b[39m from_decomposed(eda_phasic, eda_tonic, sr)\n\u001b[0;32m     <a href='file:///c%3A/Users/Cagatay/Desktop/Workspace/Biobss/biobss/biobss/edatools/feature_extraction.py?line=27'>28</a>\u001b[0m \u001b[39mreturn\u001b[39;00m features\n",
      "File \u001b[1;32mc:\\Users\\Cagatay\\Desktop\\Workspace\\Biobss\\biobss\\biobss\\edatools\\feature_extraction.py:19\u001b[0m, in \u001b[0;36mfrom_decomposed\u001b[1;34m(signal_phasic, signal_tonic, sr)\u001b[0m\n\u001b[0;32m     <a href='file:///c%3A/Users/Cagatay/Desktop/Workspace/Biobss/biobss/biobss/edatools/feature_extraction.py?line=16'>17</a>\u001b[0m phasic_features \u001b[39m=\u001b[39m from_scr(signal_phasic, sr)\n\u001b[0;32m     <a href='file:///c%3A/Users/Cagatay/Desktop/Workspace/Biobss/biobss/biobss/edatools/feature_extraction.py?line=17'>18</a>\u001b[0m tonic_features \u001b[39m=\u001b[39m from_scl(signal_tonic, sr)\n\u001b[1;32m---> <a href='file:///c%3A/Users/Cagatay/Desktop/Workspace/Biobss/biobss/biobss/edatools/feature_extraction.py?line=18'>19</a>\u001b[0m \u001b[39mreturn\u001b[39;00m pd\u001b[39m.\u001b[39;49mconcat([phasic_features, tonic_features],axis\u001b[39m=\u001b[39;49m\u001b[39m0\u001b[39;49m, ignore_index\u001b[39m=\u001b[39;49m\u001b[39mTrue\u001b[39;49;00m)\n",
      "File \u001b[1;32m~\\miniconda3\\envs\\mlenv\\lib\\site-packages\\pandas\\util\\_decorators.py:311\u001b[0m, in \u001b[0;36mdeprecate_nonkeyword_arguments.<locals>.decorate.<locals>.wrapper\u001b[1;34m(*args, **kwargs)\u001b[0m\n\u001b[0;32m    <a href='file:///c%3A/Users/Cagatay/miniconda3/envs/mlenv/lib/site-packages/pandas/util/_decorators.py?line=304'>305</a>\u001b[0m \u001b[39mif\u001b[39;00m \u001b[39mlen\u001b[39m(args) \u001b[39m>\u001b[39m num_allow_args:\n\u001b[0;32m    <a href='file:///c%3A/Users/Cagatay/miniconda3/envs/mlenv/lib/site-packages/pandas/util/_decorators.py?line=305'>306</a>\u001b[0m     warnings\u001b[39m.\u001b[39mwarn(\n\u001b[0;32m    <a href='file:///c%3A/Users/Cagatay/miniconda3/envs/mlenv/lib/site-packages/pandas/util/_decorators.py?line=306'>307</a>\u001b[0m         msg\u001b[39m.\u001b[39mformat(arguments\u001b[39m=\u001b[39marguments),\n\u001b[0;32m    <a href='file:///c%3A/Users/Cagatay/miniconda3/envs/mlenv/lib/site-packages/pandas/util/_decorators.py?line=307'>308</a>\u001b[0m         \u001b[39mFutureWarning\u001b[39;00m,\n\u001b[0;32m    <a href='file:///c%3A/Users/Cagatay/miniconda3/envs/mlenv/lib/site-packages/pandas/util/_decorators.py?line=308'>309</a>\u001b[0m         stacklevel\u001b[39m=\u001b[39mstacklevel,\n\u001b[0;32m    <a href='file:///c%3A/Users/Cagatay/miniconda3/envs/mlenv/lib/site-packages/pandas/util/_decorators.py?line=309'>310</a>\u001b[0m     )\n\u001b[1;32m--> <a href='file:///c%3A/Users/Cagatay/miniconda3/envs/mlenv/lib/site-packages/pandas/util/_decorators.py?line=310'>311</a>\u001b[0m \u001b[39mreturn\u001b[39;00m func(\u001b[39m*\u001b[39;49margs, \u001b[39m*\u001b[39;49m\u001b[39m*\u001b[39;49mkwargs)\n",
      "File \u001b[1;32m~\\miniconda3\\envs\\mlenv\\lib\\site-packages\\pandas\\core\\reshape\\concat.py:346\u001b[0m, in \u001b[0;36mconcat\u001b[1;34m(objs, axis, join, ignore_index, keys, levels, names, verify_integrity, sort, copy)\u001b[0m\n\u001b[0;32m    <a href='file:///c%3A/Users/Cagatay/miniconda3/envs/mlenv/lib/site-packages/pandas/core/reshape/concat.py?line=141'>142</a>\u001b[0m \u001b[39m@deprecate_nonkeyword_arguments\u001b[39m(version\u001b[39m=\u001b[39m\u001b[39mNone\u001b[39;00m, allowed_args\u001b[39m=\u001b[39m[\u001b[39m\"\u001b[39m\u001b[39mobjs\u001b[39m\u001b[39m\"\u001b[39m])\n\u001b[0;32m    <a href='file:///c%3A/Users/Cagatay/miniconda3/envs/mlenv/lib/site-packages/pandas/core/reshape/concat.py?line=142'>143</a>\u001b[0m \u001b[39mdef\u001b[39;00m \u001b[39mconcat\u001b[39m(\n\u001b[0;32m    <a href='file:///c%3A/Users/Cagatay/miniconda3/envs/mlenv/lib/site-packages/pandas/core/reshape/concat.py?line=143'>144</a>\u001b[0m     objs: Iterable[NDFrame] \u001b[39m|\u001b[39m Mapping[Hashable, NDFrame],\n\u001b[1;32m   (...)\u001b[0m\n\u001b[0;32m    <a href='file:///c%3A/Users/Cagatay/miniconda3/envs/mlenv/lib/site-packages/pandas/core/reshape/concat.py?line=152'>153</a>\u001b[0m     copy: \u001b[39mbool\u001b[39m \u001b[39m=\u001b[39m \u001b[39mTrue\u001b[39;00m,\n\u001b[0;32m    <a href='file:///c%3A/Users/Cagatay/miniconda3/envs/mlenv/lib/site-packages/pandas/core/reshape/concat.py?line=153'>154</a>\u001b[0m ) \u001b[39m-\u001b[39m\u001b[39m>\u001b[39m DataFrame \u001b[39m|\u001b[39m Series:\n\u001b[0;32m    <a href='file:///c%3A/Users/Cagatay/miniconda3/envs/mlenv/lib/site-packages/pandas/core/reshape/concat.py?line=154'>155</a>\u001b[0m     \u001b[39m\"\"\"\u001b[39;00m\n\u001b[0;32m    <a href='file:///c%3A/Users/Cagatay/miniconda3/envs/mlenv/lib/site-packages/pandas/core/reshape/concat.py?line=155'>156</a>\u001b[0m \u001b[39m    Concatenate pandas objects along a particular axis with optional set logic\u001b[39;00m\n\u001b[0;32m    <a href='file:///c%3A/Users/Cagatay/miniconda3/envs/mlenv/lib/site-packages/pandas/core/reshape/concat.py?line=156'>157</a>\u001b[0m \u001b[39m    along the other axes.\u001b[39;00m\n\u001b[1;32m   (...)\u001b[0m\n\u001b[0;32m    <a href='file:///c%3A/Users/Cagatay/miniconda3/envs/mlenv/lib/site-packages/pandas/core/reshape/concat.py?line=343'>344</a>\u001b[0m \u001b[39m    ValueError: Indexes have overlapping values: ['a']\u001b[39;00m\n\u001b[0;32m    <a href='file:///c%3A/Users/Cagatay/miniconda3/envs/mlenv/lib/site-packages/pandas/core/reshape/concat.py?line=344'>345</a>\u001b[0m \u001b[39m    \"\"\"\u001b[39;00m\n\u001b[1;32m--> <a href='file:///c%3A/Users/Cagatay/miniconda3/envs/mlenv/lib/site-packages/pandas/core/reshape/concat.py?line=345'>346</a>\u001b[0m     op \u001b[39m=\u001b[39m _Concatenator(\n\u001b[0;32m    <a href='file:///c%3A/Users/Cagatay/miniconda3/envs/mlenv/lib/site-packages/pandas/core/reshape/concat.py?line=346'>347</a>\u001b[0m         objs,\n\u001b[0;32m    <a href='file:///c%3A/Users/Cagatay/miniconda3/envs/mlenv/lib/site-packages/pandas/core/reshape/concat.py?line=347'>348</a>\u001b[0m         axis\u001b[39m=\u001b[39;49maxis,\n\u001b[0;32m    <a href='file:///c%3A/Users/Cagatay/miniconda3/envs/mlenv/lib/site-packages/pandas/core/reshape/concat.py?line=348'>349</a>\u001b[0m         ignore_index\u001b[39m=\u001b[39;49mignore_index,\n\u001b[0;32m    <a href='file:///c%3A/Users/Cagatay/miniconda3/envs/mlenv/lib/site-packages/pandas/core/reshape/concat.py?line=349'>350</a>\u001b[0m         join\u001b[39m=\u001b[39;49mjoin,\n\u001b[0;32m    <a href='file:///c%3A/Users/Cagatay/miniconda3/envs/mlenv/lib/site-packages/pandas/core/reshape/concat.py?line=350'>351</a>\u001b[0m         keys\u001b[39m=\u001b[39;49mkeys,\n\u001b[0;32m    <a href='file:///c%3A/Users/Cagatay/miniconda3/envs/mlenv/lib/site-packages/pandas/core/reshape/concat.py?line=351'>352</a>\u001b[0m         levels\u001b[39m=\u001b[39;49mlevels,\n\u001b[0;32m    <a href='file:///c%3A/Users/Cagatay/miniconda3/envs/mlenv/lib/site-packages/pandas/core/reshape/concat.py?line=352'>353</a>\u001b[0m         names\u001b[39m=\u001b[39;49mnames,\n\u001b[0;32m    <a href='file:///c%3A/Users/Cagatay/miniconda3/envs/mlenv/lib/site-packages/pandas/core/reshape/concat.py?line=353'>354</a>\u001b[0m         verify_integrity\u001b[39m=\u001b[39;49mverify_integrity,\n\u001b[0;32m    <a href='file:///c%3A/Users/Cagatay/miniconda3/envs/mlenv/lib/site-packages/pandas/core/reshape/concat.py?line=354'>355</a>\u001b[0m         copy\u001b[39m=\u001b[39;49mcopy,\n\u001b[0;32m    <a href='file:///c%3A/Users/Cagatay/miniconda3/envs/mlenv/lib/site-packages/pandas/core/reshape/concat.py?line=355'>356</a>\u001b[0m         sort\u001b[39m=\u001b[39;49msort,\n\u001b[0;32m    <a href='file:///c%3A/Users/Cagatay/miniconda3/envs/mlenv/lib/site-packages/pandas/core/reshape/concat.py?line=356'>357</a>\u001b[0m     )\n\u001b[0;32m    <a href='file:///c%3A/Users/Cagatay/miniconda3/envs/mlenv/lib/site-packages/pandas/core/reshape/concat.py?line=358'>359</a>\u001b[0m     \u001b[39mreturn\u001b[39;00m op\u001b[39m.\u001b[39mget_result()\n",
      "File \u001b[1;32m~\\miniconda3\\envs\\mlenv\\lib\\site-packages\\pandas\\core\\reshape\\concat.py:436\u001b[0m, in \u001b[0;36m_Concatenator.__init__\u001b[1;34m(self, objs, axis, join, keys, levels, names, ignore_index, verify_integrity, copy, sort)\u001b[0m\n\u001b[0;32m    <a href='file:///c%3A/Users/Cagatay/miniconda3/envs/mlenv/lib/site-packages/pandas/core/reshape/concat.py?line=430'>431</a>\u001b[0m     \u001b[39mif\u001b[39;00m \u001b[39mnot\u001b[39;00m \u001b[39misinstance\u001b[39m(obj, (ABCSeries, ABCDataFrame)):\n\u001b[0;32m    <a href='file:///c%3A/Users/Cagatay/miniconda3/envs/mlenv/lib/site-packages/pandas/core/reshape/concat.py?line=431'>432</a>\u001b[0m         msg \u001b[39m=\u001b[39m (\n\u001b[0;32m    <a href='file:///c%3A/Users/Cagatay/miniconda3/envs/mlenv/lib/site-packages/pandas/core/reshape/concat.py?line=432'>433</a>\u001b[0m             \u001b[39mf\u001b[39m\u001b[39m\"\u001b[39m\u001b[39mcannot concatenate object of type \u001b[39m\u001b[39m'\u001b[39m\u001b[39m{\u001b[39;00m\u001b[39mtype\u001b[39m(obj)\u001b[39m}\u001b[39;00m\u001b[39m'\u001b[39m\u001b[39m; \u001b[39m\u001b[39m\"\u001b[39m\n\u001b[0;32m    <a href='file:///c%3A/Users/Cagatay/miniconda3/envs/mlenv/lib/site-packages/pandas/core/reshape/concat.py?line=433'>434</a>\u001b[0m             \u001b[39m\"\u001b[39m\u001b[39monly Series and DataFrame objs are valid\u001b[39m\u001b[39m\"\u001b[39m\n\u001b[0;32m    <a href='file:///c%3A/Users/Cagatay/miniconda3/envs/mlenv/lib/site-packages/pandas/core/reshape/concat.py?line=434'>435</a>\u001b[0m         )\n\u001b[1;32m--> <a href='file:///c%3A/Users/Cagatay/miniconda3/envs/mlenv/lib/site-packages/pandas/core/reshape/concat.py?line=435'>436</a>\u001b[0m         \u001b[39mraise\u001b[39;00m \u001b[39mTypeError\u001b[39;00m(msg)\n\u001b[0;32m    <a href='file:///c%3A/Users/Cagatay/miniconda3/envs/mlenv/lib/site-packages/pandas/core/reshape/concat.py?line=437'>438</a>\u001b[0m     ndims\u001b[39m.\u001b[39madd(obj\u001b[39m.\u001b[39mndim)\n\u001b[0;32m    <a href='file:///c%3A/Users/Cagatay/miniconda3/envs/mlenv/lib/site-packages/pandas/core/reshape/concat.py?line=439'>440</a>\u001b[0m \u001b[39m# get the sample\u001b[39;00m\n\u001b[0;32m    <a href='file:///c%3A/Users/Cagatay/miniconda3/envs/mlenv/lib/site-packages/pandas/core/reshape/concat.py?line=440'>441</a>\u001b[0m \u001b[39m# want the highest ndim that we have, and must be non-empty\u001b[39;00m\n\u001b[0;32m    <a href='file:///c%3A/Users/Cagatay/miniconda3/envs/mlenv/lib/site-packages/pandas/core/reshape/concat.py?line=441'>442</a>\u001b[0m \u001b[39m# unless all objs are empty\u001b[39;00m\n",
      "\u001b[1;31mTypeError\u001b[0m: cannot concatenate object of type '<class 'dict'>'; only Series and DataFrame objs are valid"
     ]
    }
   ],
   "source": [
    "f=biobss.edatools.feature_extraction.from_windows(EDA_windows,sr=700,parallel=False)"
   ]
  },
  {
   "cell_type": "code",
   "execution_count": null,
   "metadata": {},
   "outputs": [
    {
     "data": {
      "text/plain": [
       "49"
      ]
     },
     "execution_count": 318,
     "metadata": {},
     "output_type": "execute_result"
    }
   ],
   "source": [
    "len(EDA_windows)"
   ]
  },
  {
   "cell_type": "code",
   "execution_count": null,
   "metadata": {},
   "outputs": [
    {
     "data": {
      "text/plain": [
       "[<matplotlib.lines.Line2D at 0x1b431d78640>]"
      ]
     },
     "execution_count": 319,
     "metadata": {},
     "output_type": "execute_result"
    },
    {
     "data": {
      "image/png": "[encoded data removed]",
      "text/plain": [
       "<Figure size 432x288 with 1 Axes>"
      ]
     },
     "metadata": {
      "needs_background": "light"
     },
     "output_type": "display_data"
    }
   ],
   "source": [
    "plt.plot(EDA_Chest)"
   ]
  },
  {
   "cell_type": "code",
   "execution_count": null,
   "metadata": {},
   "outputs": [],
   "source": [
    "from scipy.signal import butter, lfilter\n",
    "from scipy import signal\n",
    "def butter_bandpass(lowcut, highcut, fs, order=5):\n",
    "    return butter(order, [lowcut, highcut], fs=fs, btype='band')\n",
    "def butter_bandpass_filter(data, lowcut, highcut, fs, order=5):\n",
    "    b, a = butter_bandpass(lowcut, highcut, fs, order=order)\n",
    "    y = lfilter(b, a, data)\n",
    "    return y"
   ]
  },
  {
   "cell_type": "code",
   "execution_count": null,
   "metadata": {},
   "outputs": [],
   "source": [
    "w=EDA_windows[40]\n",
    "w=nk.eda_clean(w,method='biosppy')\n",
    "d=nk.eda_phasic(w,700)"
   ]
  },
  {
   "cell_type": "code",
   "execution_count": null,
   "metadata": {},
   "outputs": [
    {
     "data": {
      "text/plain": [
       "[<matplotlib.lines.Line2D at 0x1b431d3bbb0>]"
      ]
     },
     "execution_count": 322,
     "metadata": {},
     "output_type": "execute_result"
    },
    {
     "data": {
      "image/png": "[encoded data removed]",
      "text/plain": [
       "<Figure size 432x288 with 1 Axes>"
      ]
     },
     "metadata": {
      "needs_background": "light"
     },
     "output_type": "display_data"
    }
   ],
   "source": [
    "plt.plot(d['EDA_Phasic'])\n",
    "nk.eda_phasic"
   ]
  },
  {
   "cell_type": "code",
   "execution_count": null,
   "metadata": {},
   "outputs": [],
   "source": [
    "w=w.flatten()\n",
    "scr=nk.signal_filter(w,700,0.2,1)\n",
    "scr_rms=np.sqrt((scr**2).sum()/len(scr))\n",
    "peaks = signal.find_peaks(scr,height=scr_rms)"
   ]
  },
  {
   "cell_type": "code",
   "execution_count": null,
   "metadata": {},
   "outputs": [
    {
     "data": {
      "text/plain": [
       "[<matplotlib.lines.Line2D at 0x1b45fb0aa00>]"
      ]
     },
     "execution_count": 377,
     "metadata": {},
     "output_type": "execute_result"
    },
    {
     "data": {
      "image/png": "[encoded data removed]",
      "text/plain": [
       "<Figure size 432x288 with 1 Axes>"
      ]
     },
     "metadata": {
      "needs_background": "light"
     },
     "output_type": "display_data"
    }
   ],
   "source": [
    "plt.plot(scr)\n",
    "plt.plot(peaks[0],scr[peaks[0]], marker=\"o\", ls=\"\", ms=3 )\n"
   ]
  },
  {
   "cell_type": "code",
   "execution_count": null,
   "metadata": {},
   "outputs": [],
   "source": [
    "pn=[]\n",
    "ts=[]\n",
    "h=[]\n",
    "t_scr=nk.signal_filter(EDA_Chest.flatten(),700,0.2,1) \n",
    "scr_rms=np.sqrt((t_scr**2).sum()/len(t_scr))\n",
    "\n",
    "scr_rms=np.sqrt((scr**2).sum()/len(scr))\n",
    "for w in EDA_windows:\n",
    "    w=w.flatten()\n",
    "    scr=nk.signal_filter(w,700,0.2,1)    \n",
    "    peaks,info = signal.find_peaks(scr,height=scr_rms)\n",
    "    pn.append(len(peaks))\n",
    "    h.append(info['peak_heights'].sum())\n",
    "    ts.append(scr_rms)"
   ]
  },
  {
   "cell_type": "code",
   "execution_count": null,
   "metadata": {},
   "outputs": [
    {
     "data": {
      "text/plain": [
       "[<matplotlib.lines.Line2D at 0x1b45ff44a30>]"
      ]
     },
     "execution_count": 382,
     "metadata": {},
     "output_type": "execute_result"
    },
    {
     "data": {
      "image/png": "[encoded data removed]",
      "text/plain": [
       "<Figure size 432x288 with 1 Axes>"
      ]
     },
     "metadata": {
      "needs_background": "light"
     },
     "output_type": "display_data"
    }
   ],
   "source": [
    "plt.plot(pn)"
   ]
  }
 ],
 "metadata": {
  "interpreter": {
   "hash": "a6178572b9a90d2c5e062ed8640c411078523c298b0cf90d87d3da07bebbeb5c"
  },
  "kernelspec": {
   "display_name": "Python 3.8.12 ('mlenv')",
   "language": "python",
   "name": "python3"
  },
  "language_info": {
   "codemirror_mode": {
    "name": "ipython",
    "version": 3
   },
   "file_extension": ".py",
   "mimetype": "text/x-python",
   "name": "python",
   "nbconvert_exporter": "python",
   "pygments_lexer": "ipython3",
   "version": "3.8.12"
  },
  "orig_nbformat": 4
 },
 "nbformat": 4,
 "nbformat_minor": 2
}
