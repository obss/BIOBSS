{
 "cells": [
  {
   "cell_type": "markdown",
   "metadata": {},
   "source": [
    "__BIOBSS - Activity Indices__\n",
    "\n",
    "_This notebook includes guidelines to help using BIOBSS for calculation of activity indices from ACC signal._"
   ]
  },
  {
   "cell_type": "code",
   "execution_count": 1,
   "metadata": {},
   "outputs": [],
   "source": [
    "#Import BIOBSS and the other required packages\n",
    "\n",
    "import biobss\n",
    "import os\n",
    "import numpy as np\n",
    "import matplotlib.pyplot as plt\n",
    "import pandas as pd\n",
    "\n",
    "#help(biobss)"
   ]
  },
  {
   "cell_type": "markdown",
   "metadata": {},
   "source": [
    "# Table of Contents\n",
    "1.[ACC Sample Data](#sampledata)<br>\n",
    "2.[ACC Signal Filtering](#acc_pre)<br>\n",
    "3.[ACC Dataset Generation](#acc_dataset)<br>\n",
    "4.[Activity indices from ACC signal](#act_ind)<br>\n",
    "5.[ACC Feature Extraction](#acc_features)<br>"
   ]
  },
  {
   "cell_type": "markdown",
   "metadata": {},
   "source": [
    "### __ACC Sample Data__\n",
    "<a id=\"sampledata\"></a>"
   ]
  },
  {
   "cell_type": "code",
   "execution_count": 2,
   "metadata": {},
   "outputs": [],
   "source": [
    "#Load the sample data. The sample data file contains 100 10-s PPG segments. The samling rate of the segments is 64 Hz. \n",
    "\n",
    "data_dir=r'C:\\Users\\ipek.karakus\\Desktop\\biobss\\sample_data'\n",
    "\n",
    "filename='acc_sample_data.csv'\n",
    "fs=32\n",
    "L=60\n",
    "data=pd.read_csv(os.path.join(data_dir,filename), header=None)\n",
    "accx=np.asarray(data.iloc[2:fs*L+2,0]) #The first segment is selected to be used as sample signal. \n",
    "accy=np.asarray(data.iloc[2:fs*L+2,1]) #The first segment is selected to be used as sample signal. \n",
    "accz=np.asarray(data.iloc[2:fs*L+2,2]) #The first segment is selected to be used as sample signal. \n"
   ]
  },
  {
   "cell_type": "markdown",
   "metadata": {},
   "source": [
    "### __ACC Signal Filtering__\n",
    "<a id=\"acc_pre\"></a>"
   ]
  },
  {
   "cell_type": "markdown",
   "metadata": {},
   "source": [
    "BIOBSS library provides a filtering function based on Scipy. This function can be used to implement Butterworth filter by defining the filter parameters. "
   ]
  },
  {
   "cell_type": "code",
   "execution_count": 20,
   "metadata": {},
   "outputs": [],
   "source": [
    "#or defining the parameters.\n",
    "\n",
    "f_accx= biobss.preprocess.filter_signal(accx,fs,'lowpass',N=2,f_upper=10)\n",
    "f_accy= biobss.preprocess.filter_signal(accy,fs,'lowpass',N=2,f_upper=10)\n",
    "f_accz= biobss.preprocess.filter_signal(accz,fs,'lowpass',N=2,f_upper=10)"
   ]
  },
  {
   "cell_type": "markdown",
   "metadata": {},
   "source": [
    "Additionally, pre-defined filter parameters can be used for each specific signal type. In order to use this option, signal_type should be selected as 'ACC'. "
   ]
  },
  {
   "cell_type": "code",
   "execution_count": 21,
   "metadata": {},
   "outputs": [
    {
     "name": "stderr",
     "output_type": "stream",
     "text": [
      "c:\\Users\\ipek.karakus\\.conda\\envs\\biolib\\lib\\site-packages\\biobss\\imutools\\acc_filter.py:11: UserWarning: Default parameters will be used for filtering. 2th order None lowpass filter with f2=10.\n",
      "  warnings.warn(f\"Default parameters will be used for filtering. {N}th order {method} {filter_type} filter with f2={f_upper}.\")\n"
     ]
    }
   ],
   "source": [
    "#PPG signals can be filtered using the method below using pre-determined filter parameters\n",
    "\n",
    "filtered_accx=biobss.preprocess.filter_signal(accx, fs, signal_type='ACC')\n",
    "filtered_accy=biobss.preprocess.filter_signal(accy, fs, signal_type='ACC')\n",
    "filtered_accz=biobss.preprocess.filter_signal(accz, fs, signal_type='ACC')"
   ]
  },
  {
   "cell_type": "markdown",
   "metadata": {},
   "source": [
    "### __ACC Dataset Generation__\n",
    "<a id=\"acc_dataset\"></a>"
   ]
  },
  {
   "cell_type": "markdown",
   "metadata": {},
   "source": [
    "Due to the definitions of activity indices in the literature, some specific preprocessing steps should be applied on the raw signals. In other words, each activity index can be calculated using only specific datasets. BIOBSS package provides functions to automatically apply appropriate preprocessing steps (dataset generation) to prevent errors and make the process easier for the researchers."
   ]
  },
  {
   "cell_type": "code",
   "execution_count": 22,
   "metadata": {},
   "outputs": [],
   "source": [
    "ufxyz = biobss.imutools.generate_dataset(accx,accy,accz,fs,False,None,False,False,False),\n",
    "ufm = biobss.imutools.generate_dataset(accx,accy,accz,fs,False,None,True,False,False),\n",
    "ufm_modified = biobss.imutools.generate_dataset(accx,accy,accz,fs,False,None,True,False,True),\n",
    "ufnm = biobss.imutools.generate_dataset(accx,accy,accz,fs,False,None,True,True,False),\n",
    "fxyz = biobss.imutools.generate_dataset(accx,accy,accz,fs,True,'pre',False,False,False),\n",
    "fxyz_modified = biobss.imutools.generate_dataset(accx,accy,accz,fs,True,'pre',False,False,True),\n",
    "fmpre = biobss.imutools.generate_dataset(accx,accy,accz,fs,True,'pre',True,False,False),\n",
    "specialxyz = biobss.imutools.generate_dataset(accx,accy,accz,fs,True,'pre',False,False,False,'highpass',4,0.2),\n",
    "specialm = biobss.imutools.generate_dataset(accx,accy,accz,fs,True,'pre',True,False,False,'highpass',4,0.2),\n",
    "fmpost = biobss.imutools.generate_dataset(accx,accy,accz,fs,True,'post',True,False,False),\n",
    "fmpost_modified = biobss.imutools.generate_dataset(accx,accy,accz,fs,True,'post',True,False,True)\n",
    "                    "
   ]
  },
  {
   "cell_type": "markdown",
   "metadata": {},
   "source": [
    "### __Activity Indices from ACC Signals__\n",
    "<a id=\"act_ind\"></a>"
   ]
  },
  {
   "cell_type": "code",
   "execution_count": 32,
   "metadata": {},
   "outputs": [
    {
     "name": "stderr",
     "output_type": "stream",
     "text": [
      "c:\\Users\\ipek.karakus\\.conda\\envs\\biolib\\lib\\site-packages\\biobss\\imutools\\acc_activityindex.py:98: UserWarning: Threshold level is required for this activity index, but not provided. Standard deviation of the signal will be used as threshold.\n",
      "  warnings.warn(\"Threshold level is required for this activity index, but not provided. Standard deviation of the signal will be used as threshold.\")\n"
     ]
    }
   ],
   "source": [
    "pim = biobss.imutools.calc_activity_index(accx, accy, accz, signal_length=60, sampling_rate=fs, metric='PIM')\n",
    "zcm = biobss.imutools.calc_activity_index(accx, accy, accz, signal_length=60, sampling_rate=fs, metric='ZCM')\n",
    "tat = biobss.imutools.calc_activity_index(accx, accy, accz, signal_length=60, sampling_rate=fs, metric='TAT')\n",
    "mad = biobss.imutools.calc_activity_index(accx, accy, accz, signal_length=60, sampling_rate=fs, metric='MAD')\n",
    "enmo = biobss.imutools.calc_activity_index(accx, accy, accz, signal_length=60, sampling_rate=fs, metric='ENMO')\n",
    "hfen = biobss.imutools.calc_activity_index(accx, accy, accz, signal_length=60, sampling_rate=fs, metric='HFEN')\n",
    "ai = biobss.imutools.calc_activity_index(accx, accy, accz, signal_length=60, sampling_rate=fs, metric='AI', baseline_variance=[0.5,0.5,0.5])"
   ]
  },
  {
   "cell_type": "markdown",
   "metadata": {},
   "source": [
    "### __ACC Feature Extraction__\n",
    "<a id=\"acc_features\"></a>"
   ]
  },
  {
   "cell_type": "code",
   "execution_count": 3,
   "metadata": {},
   "outputs": [],
   "source": [
    "signals = {}\n",
    "signals['accx'] =accx\n",
    "signals['accy'] =accy\n",
    "signals['accz'] =accz"
   ]
  },
  {
   "cell_type": "code",
   "execution_count": 6,
   "metadata": {},
   "outputs": [
    {
     "data": {
      "text/plain": [
       "{'accx_fft_mean': 0.15411387937890197,\n",
       " 'accx_fft_std': 1.221193879724076,\n",
       " 'accx_fft_mad': 0.1499930519823061,\n",
       " 'accx_fft_min': 0.0019237381328550316,\n",
       " 'accx_fft_max': 37.05885416666666,\n",
       " 'accx_fft_range': 37.05693042853381,\n",
       " 'accx_fft_median': 0.06990092258113458,\n",
       " 'accx_fft_medad': 0.03154271172774663,\n",
       " 'accx_fft_iqr': 0.07006396989971755,\n",
       " 'accx_abmean': 435,\n",
       " 'accx_npeaks': 158,\n",
       " 'accx_skew': 1.1960001411169314,\n",
       " 'accx_kurtosis': 3.9315288215960393,\n",
       " 'accx_energy': 27147.09,\n",
       " 'accx_f1sc': 2.1876925736474537,\n",
       " 'accx_f2sc': 0.9148786645657963,\n",
       " 'accx_f3sc': 0.19959846467090536,\n",
       " 'accx_Entropy': -26.519738345521574,\n",
       " 'accx_max_freq': 0.13333333333333333,\n",
       " 'accy_fft_mean': 0.08629440048286408,\n",
       " 'accy_fft_std': 0.16435688343753996,\n",
       " 'accy_fft_mad': 0.08527381272127706,\n",
       " 'accy_fft_min': 0.00046797536656737084,\n",
       " 'accy_fft_max': 3.0859375,\n",
       " 'accy_fft_range': 3.0854695246334325,\n",
       " 'accy_fft_median': 0.0364463774423682,\n",
       " 'accy_fft_medad': 0.01939112730216174,\n",
       " 'accy_fft_iqr': 0.049752263195653935,\n",
       " 'accy_abmean': 979,\n",
       " 'accy_npeaks': 204,\n",
       " 'accy_skew': -0.8658577862205603,\n",
       " 'accy_kurtosis': 11.330020126101596,\n",
       " 'accy_energy': 409.03,\n",
       " 'accy_f1sc': 0.21078377393793374,\n",
       " 'accy_f2sc': 0.20931222367294264,\n",
       " 'accy_f3sc': 0.2227922194503364,\n",
       " 'accy_Entropy': -136.17315202557648,\n",
       " 'accy_max_freq': 0.6333333333333333,\n",
       " 'accz_fft_mean': 0.16046968051679736,\n",
       " 'accz_fft_std': 1.7027414227218447,\n",
       " 'accz_fft_mad': 0.17388226171299934,\n",
       " 'accz_fft_min': 0.0008761745377882001,\n",
       " 'accz_fft_max': 52.625,\n",
       " 'accz_fft_range': 52.62412382546221,\n",
       " 'accz_fft_median': 0.056218591126363224,\n",
       " 'accz_fft_medad': 0.031305328364111554,\n",
       " 'accz_fft_iqr': 0.08400324272402433,\n",
       " 'accz_abmean': 537,\n",
       " 'accz_npeaks': 200,\n",
       " 'accz_skew': -1.080903389138945,\n",
       " 'accz_kurtosis': 11.830151705895041,\n",
       " 'accz_energy': 53543.68,\n",
       " 'accz_f1sc': 0.5384303811036835,\n",
       " 'accz_f2sc': 0.2016124876989819,\n",
       " 'accz_f3sc': 0.10083012773482265,\n",
       " 'accz_Entropy': 42.289026606523905,\n",
       " 'accz_max_freq': 0.13333333333333333,\n",
       " 'magn_fft_mean': 0.14368959738769907,\n",
       " 'magn_fft_std': 2.0937294867184577,\n",
       " 'magn_fft_mad': 0.14673743536592151,\n",
       " 'magn_fft_min': 0.0020317632036419655,\n",
       " 'magn_fft_max': 64.95937109139595,\n",
       " 'magn_fft_range': 64.9573393281923,\n",
       " 'magn_fft_median': 0.06162172289663556,\n",
       " 'magn_fft_medad': 0.027652293363650132,\n",
       " 'magn_fft_iqr': 0.05856471679162757,\n",
       " 'magn_abmean': 616,\n",
       " 'magn_npeaks': 377,\n",
       " 'magn_skew': 3.396494626353309,\n",
       " 'magn_kurtosis': 44.69517086237444,\n",
       " 'magn_energy': 81099.8,\n",
       " 'magn_f1sc': 0.01992571306169463,\n",
       " 'magn_f2sc': 0.016138935132995268,\n",
       " 'magn_f3sc': 0.007581734705193972,\n",
       " 'magn_Entropy': 99.45864787116773,\n",
       " 'magn_max_freq': 2.2666666666666666,\n",
       " 'accx_mean': -37.05885416666667,\n",
       " 'accx_std': 6.368066060723039,\n",
       " 'accx_mad': 4.422501627604165,\n",
       " 'accx_min': -84.0,\n",
       " 'accx_max': -7.0,\n",
       " 'accx_range': 77.0,\n",
       " 'accx_median': -39.0,\n",
       " 'accx_medad': 1.0,\n",
       " 'accx_iqr': 2.0,\n",
       " 'accx_ncount': 1920,\n",
       " 'accx_pcount': 0,\n",
       " 'accx_momentum': 40.55226535373264,\n",
       " 'accy_mean': -3.0859375,\n",
       " 'accy_std': 3.4322930497594584,\n",
       " 'accy_mad': 1.8251383463541666,\n",
       " 'accy_min': -25.0,\n",
       " 'accy_max': 18.0,\n",
       " 'accy_range': 43.0,\n",
       " 'accy_median': -3.0,\n",
       " 'accy_medad': 1.0,\n",
       " 'accy_iqr': 1.0,\n",
       " 'accy_ncount': 1611,\n",
       " 'accy_pcount': 287,\n",
       " 'accy_momentum': 11.780635579427083,\n",
       " 'accz_mean': 52.625,\n",
       " 'accz_std': 4.3980345989240845,\n",
       " 'accz_mad': 2.7295572916666666,\n",
       " 'accz_min': 14.0,\n",
       " 'accz_max': 71.0,\n",
       " 'accz_range': 57.0,\n",
       " 'accz_median': 52.0,\n",
       " 'accz_medad': 1.0,\n",
       " 'accz_iqr': 2.0,\n",
       " 'accz_ncount': 0,\n",
       " 'accz_pcount': 1920,\n",
       " 'accz_momentum': 19.342708333333334,\n",
       " 'magn_mean': 64.95937109139597,\n",
       " 'magn_std': 2.0562159606854697,\n",
       " 'magn_mad': 0.7235985950166445,\n",
       " 'magn_min': 50.049975024968795,\n",
       " 'magn_max': 94.76286192385707,\n",
       " 'magn_range': 44.71288689888828,\n",
       " 'magn_median': 64.89221833163049,\n",
       " 'magn_medad': 0.23074228902925142,\n",
       " 'magn_iqr': 0.23844783062639863,\n",
       " 'magn_ncount': 0,\n",
       " 'magn_pcount': 1920,\n",
       " 'magn_momentum': 4.22802407697767,\n",
       " 'accx_accy_corr': 0.42857247257373077,\n",
       " 'accx_accz_corr': 0.7804347772006841,\n",
       " 'accy_accz_corr': 0.477248611769363}"
      ]
     },
     "execution_count": 6,
     "metadata": {},
     "output_type": "execute_result"
    }
   ],
   "source": [
    "biobss.imutools.get_acc_features(signals, sampling_rate=fs, magnitude=True)"
   ]
  }
 ],
 "metadata": {
  "kernelspec": {
   "display_name": "Python 3.8.13 ('biolib')",
   "language": "python",
   "name": "python3"
  },
  "language_info": {
   "codemirror_mode": {
    "name": "ipython",
    "version": 3
   },
   "file_extension": ".py",
   "mimetype": "text/x-python",
   "name": "python",
   "nbconvert_exporter": "python",
   "pygments_lexer": "ipython3",
   "version": "3.8.13"
  },
  "orig_nbformat": 4,
  "vscode": {
   "interpreter": {
    "hash": "3a4bcfb23c7e6ad66c655087280fa9f4d0273121ae7909f7735d1e02563a2438"
   }
  }
 },
 "nbformat": 4,
 "nbformat_minor": 2
}
