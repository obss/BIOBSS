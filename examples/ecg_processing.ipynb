{
 "cells": [
  {
   "cell_type": "markdown",
   "metadata": {},
   "source": [
    "__BIOBSS - ECG Signal Processing__\n",
    "\n",
    "_This notebook includes guidelines to help using BIOBSS for ECG signal processing and feature extraction._"
   ]
  },
  {
   "cell_type": "code",
   "execution_count": 1,
   "metadata": {},
   "outputs": [],
   "source": [
    "#Import BIOBSS and the other required packages\n",
    "\n",
    "import biobss\n",
    "import os\n",
    "import numpy as np\n",
    "import matplotlib.pyplot as plt\n",
    "import pandas as pd\n",
    "\n",
    "#help(biobss)"
   ]
  },
  {
   "cell_type": "markdown",
   "metadata": {},
   "source": [
    "# Table of Contents\n",
    "1.[ECG Sample Data](#sampledata)<br>\n",
    "2.[ECG Signal Filtering](#ecg_pre)<br>\n",
    "3.[ECG Peak Detection](#ecg_peak)<br>\n",
    "4.[ECG Delineation](#ecg_waves)<br>\n",
    "5.[ECG Signal Quality Assessment](#ecg_sqa)<br>\n",
    "6.[ECG Feature Extraction](#ecg_features)<br>"
   ]
  },
  {
   "cell_type": "markdown",
   "metadata": {},
   "source": [
    "### __ECG Sample Data__\n",
    "<a id=\"sampledata\"></a>"
   ]
  },
  {
   "cell_type": "code",
   "execution_count": 2,
   "metadata": {},
   "outputs": [],
   "source": [
    "#Load the sample data. The sample data file contains 100 10-s PPG segments. The samling rate of the segments is 64 Hz. \n",
    "\n",
    "data_dir=r'C:\\Users\\ipek.karakus\\Desktop\\biobss\\sample_data'\n",
    "\n",
    "filename='ecg_sample_data.csv'\n",
    "fs=256\n",
    "L=10\n",
    "data=pd.read_csv(os.path.join(data_dir,filename))\n",
    "sig=np.asarray(data.iloc[:fs*L,0]) #The first column is selected to be used as sample signal. \n"
   ]
  },
  {
   "cell_type": "markdown",
   "metadata": {},
   "source": [
    "### __ECG Signal Filtering__\n",
    "<a id=\"ecg_pre\"></a>"
   ]
  },
  {
   "cell_type": "markdown",
   "metadata": {},
   "source": [
    "BIOBSS library provides a filtering function based on Scipy. This function can be used to implement Butterworth filter by defining the filter parameters."
   ]
  },
  {
   "cell_type": "code",
   "execution_count": null,
   "metadata": {},
   "outputs": [],
   "source": [
    "#or defining the parameters.\n",
    "\n",
    "f_sig= biobss.preprocess.filter_signal(sig,fs,'bandpass',N=2,f_lower=0.5,f_upper=5)"
   ]
  },
  {
   "cell_type": "markdown",
   "metadata": {},
   "source": [
    "Additionally, pre-defined filter parameters can be used for each specific signal type. In order to use this option, signal_type should be selected as 'ECG'. "
   ]
  },
  {
   "cell_type": "code",
   "execution_count": null,
   "metadata": {},
   "outputs": [],
   "source": [
    "#ECG signals can be filtered using the method below using pre-determined filter parameters\n",
    "\n",
    "filtered_ecg=biobss.preprocess.filter_signal(sig, sampling_rate=fs, signal_type='ECG', method='elgendi')"
   ]
  },
  {
   "cell_type": "markdown",
   "metadata": {},
   "source": [
    "### __ECG Peak Detection__\n",
    "<a id=\"ecg_peak\"></a>"
   ]
  },
  {
   "cell_type": "code",
   "execution_count": 3,
   "metadata": {},
   "outputs": [],
   "source": [
    "#Signal peaks can be detected as below\n",
    "\n",
    "locs_peaks=biobss.ecgtools.ecg_peaks(sig,fs,'pantompkins')\n",
    "peaks = sig[locs_peaks]"
   ]
  },
  {
   "cell_type": "markdown",
   "metadata": {},
   "source": [
    "### __ECG Delineation__\n",
    "<a id=\"ecg_waves\"></a>"
   ]
  },
  {
   "cell_type": "code",
   "execution_count": 4,
   "metadata": {},
   "outputs": [],
   "source": [
    "_, fiducials = biobss.ecgtools.ecg_waves(sig, locs_peaks, fs, 'neurokit2')\n",
    "\n",
    "p_peaks_locs = fiducials['ECG_P_Peaks']\n",
    "q_peaks_locs = fiducials['ECG_Q_Peaks']\n",
    "s_peaks_locs = fiducials['ECG_S_Peaks']\n",
    "t_peaks_locs = fiducials['ECG_T_Peaks']\n",
    "p_onset_locs = fiducials['ECG_P_Onsets']\n",
    "t_offset_locs = fiducials['ECG_T_Offsets']"
   ]
  },
  {
   "cell_type": "markdown",
   "metadata": {},
   "source": [
    "### __ECG Signal Quality Assessment__\n",
    "<a id=\"ecg_sqa\"></a>"
   ]
  },
  {
   "cell_type": "code",
   "execution_count": null,
   "metadata": {},
   "outputs": [],
   "source": [
    "#Clipping and flatline detection can be done using the methods below\n",
    "#For clipping detection\n",
    "info=biobss.ppgtools.detect_flatline_clipping(sig,threshold=1.0, clipping=True)"
   ]
  },
  {
   "cell_type": "code",
   "execution_count": null,
   "metadata": {},
   "outputs": [],
   "source": [
    "#For flatline detection\n",
    "info=biobss.ppgtools.detect_flatline_clipping(sig,threshold=0.0001,flatline=True, duration=10)"
   ]
  },
  {
   "cell_type": "code",
   "execution_count": null,
   "metadata": {},
   "outputs": [],
   "source": [
    "#The peaks should be detected for the following steps\n",
    "locs_peaks=biobss.ecgtools.ecg_peaks(sig,fs,'pantompkins')\n",
    "peaks = sig[locs_peaks]"
   ]
  },
  {
   "cell_type": "code",
   "execution_count": null,
   "metadata": {},
   "outputs": [],
   "source": [
    "#Template matching method can be applied using the method below.\n",
    "\n",
    "info=biobss.ppgtools.template_matching(sig,locs_peaks)"
   ]
  },
  {
   "cell_type": "markdown",
   "metadata": {},
   "source": [
    "### __ECG Feature Extraction__\n",
    "<a id=\"ecg_features\"></a>"
   ]
  },
  {
   "cell_type": "code",
   "execution_count": null,
   "metadata": {},
   "outputs": [],
   "source": [
    "#Features can be calculated using R-peak locations\n",
    "biobss.ecgtools.ecg_features.from_Rpeaks(sig, locs_peaks, fs)"
   ]
  },
  {
   "cell_type": "code",
   "execution_count": 5,
   "metadata": {},
   "outputs": [
    {
     "data": {
      "text/plain": [
       "{'m': {'ecg_t_PR': 0.15625,\n",
       "  'ecg_t_QR': 0.08203125,\n",
       "  'ecg_t_SR': 0.2734375,\n",
       "  'ecg_t_TR': 0.3984375,\n",
       "  'ecg_t_PQ': 0.07421875,\n",
       "  'ecg_t_PS': 0.4296875,\n",
       "  'ecg_t_PT': 0.5546875,\n",
       "  'ecg_t_QS': 0.35546875,\n",
       "  'ecg_t_QT': 0.48046875,\n",
       "  'ecg_t_ST': 0.125,\n",
       "  'ecg_t_PT_QS': 1.5604395604395604,\n",
       "  'ecg_t_QT_QS': 1.3516483516483517,\n",
       "  'ecg_a_PQ': -0.20500000000000002,\n",
       "  'ecg_a_QR': -0.174,\n",
       "  'ecg_a_RS': 0.159,\n",
       "  'ecg_a_ST': 0.079,\n",
       "  'ecg_a_PS': -0.22,\n",
       "  'ecg_a_PT': -0.14100000000000001,\n",
       "  'ecg_a_QS': -0.015,\n",
       "  'ecg_a_QT': 0.064,\n",
       "  'ecg_a_ST_QS': -5.266666666666667,\n",
       "  'ecg_a_RS_QR': -0.9137931034482759,\n",
       "  'ecg_a_PQ_QS': 13.666666666666668,\n",
       "  'ecg_a_PQ_QT': -3.203125,\n",
       "  'ecg_a_PQ_PS': 0.9318181818181819,\n",
       "  'ecg_a_PQ_QR': 1.17816091954023,\n",
       "  'ecg_a_PQ_RS': -1.289308176100629,\n",
       "  'ecg_a_RS_QS': -10.600000000000001,\n",
       "  'ecg_a_RS_QT': 2.484375,\n",
       "  'ecg_a_ST_PQ': -0.38536585365853654,\n",
       "  'ecg_a_ST_QT': 1.234375}}"
      ]
     },
     "execution_count": 5,
     "metadata": {},
     "output_type": "execute_result"
    }
   ],
   "source": [
    "#or using all fiducial locations\n",
    "biobss.ecgtools.ecg_features.from_waves(sig, locs_peaks, fiducials, fs)"
   ]
  }
 ],
 "metadata": {
  "kernelspec": {
   "display_name": "Python 3.8.13 ('biolib')",
   "language": "python",
   "name": "python3"
  },
  "language_info": {
   "codemirror_mode": {
    "name": "ipython",
    "version": 3
   },
   "file_extension": ".py",
   "mimetype": "text/x-python",
   "name": "python",
   "nbconvert_exporter": "python",
   "pygments_lexer": "ipython3",
   "version": "3.8.13"
  },
  "orig_nbformat": 4,
  "vscode": {
   "interpreter": {
    "hash": "3a4bcfb23c7e6ad66c655087280fa9f4d0273121ae7909f7735d1e02563a2438"
   }
  }
 },
 "nbformat": 4,
 "nbformat_minor": 2
}
