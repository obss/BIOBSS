{
 "cells": [
  {
   "cell_type": "markdown",
   "metadata": {},
   "source": [
    "__BIOBSS - ECG Signal Processing__\n",
    "\n",
    "_This notebook includes guidelines to help using BIOBSS for ECG signal processing and feature extraction._"
   ]
  },
  {
   "cell_type": "code",
   "execution_count": 1,
   "metadata": {},
   "outputs": [],
   "source": [
    "#Import BIOBSS and the other required packages\n",
    "\n",
    "import biobss\n",
    "import os\n",
    "import numpy as np\n",
    "import matplotlib.pyplot as plt\n",
    "import pandas as pd"
   ]
  },
  {
   "cell_type": "markdown",
   "metadata": {},
   "source": [
    "# Table of Contents\n",
    "1. [ECG Sample Data](#sampledata)<br>\n",
    "2. [ECG Signal Preprocessing](#ecg_pre)<br>\n",
    "    2.1. [Filtering](#ecg_filter)<br>\n",
    "    2.2. [Peak Detection](#ecg_peak)<br>\n",
    "    2.3. [Delineation](#ecg_waves)<br>\n",
    "4. [ECG Signal Quality Assessment](#ecg_sqa)<br>\n",
    "    4.1. [Clipping and Flatline Detection](#ecg_cf)<br>\n",
    "    4.2. [Physiological Limits](#ecg_pm)<br>\n",
    "    4.3. [Template Matching](#ecg_tm)<br>\n",
    "5. [ECG Feature Extraction](#ecg_features)<br>\n",
    "    5.1. [Features from R peaks](#ecg_f_rpeaks)<br>\n",
    "    5.2. [Features from P, Q, R, S, T waves](#ecg_f_waves)<br>"
   ]
  },
  {
   "cell_type": "markdown",
   "metadata": {},
   "source": [
    "### __ECG Sample Data__\n",
    "<a id=\"sampledata\"></a>"
   ]
  },
  {
   "cell_type": "markdown",
   "metadata": {},
   "source": [
    "ECG sample data is provided as a csv file in BIOBSS\\sample data. The data file contains an ECG signal of 5 minutes length, sampled at 256 Hz."
   ]
  },
  {
   "cell_type": "code",
   "execution_count": 2,
   "metadata": {},
   "outputs": [],
   "source": [
    "#Load the sample data.\n",
    "\n",
    "data_dir = os.path.join(os.path.normpath(os.getcwd() + os.sep + os.pardir),\"sample_data\")\n",
    "filename='ecg_sample_data.csv'\n",
    "\n",
    "data=pd.read_csv(os.path.join(data_dir,filename))\n",
    "#Select the first segment to be used in the examples\n",
    "fs=256\n",
    "L=10\n",
    "sig=np.asarray(data.iloc[:fs*L,0]) "
   ]
  },
  {
   "cell_type": "markdown",
   "metadata": {},
   "source": [
    "### __ECG Signal Preprocessing__\n",
    "<a id=\"ecg_pre\"></a>"
   ]
  },
  {
   "cell_type": "markdown",
   "metadata": {},
   "source": [
    "#### __Filtering__\n",
    "<a id=\"ecg_filter\"></a>"
   ]
  },
  {
   "cell_type": "markdown",
   "metadata": {},
   "source": [
    "BIOBSS provides a filtering function which uses Scipy. This function can be used to implement Butterworth filter by defining the filter parameters (filter type, filter order, cutoff frequencies) as shown below."
   ]
  },
  {
   "cell_type": "code",
   "execution_count": 3,
   "metadata": {},
   "outputs": [],
   "source": [
    "#Filter ECG signal by defining the filter parameters\n",
    "f_sig= biobss.preprocess.filter_signal(sig,fs,'bandpass',N=2,f_lower=0.5,f_upper=5)"
   ]
  },
  {
   "cell_type": "markdown",
   "metadata": {},
   "source": [
    "As an alternative, predefined filters can be used for each signal type. In order to use this option for ECG signal, signal_type should be selected as 'ECG'. "
   ]
  },
  {
   "cell_type": "code",
   "execution_count": 4,
   "metadata": {},
   "outputs": [],
   "source": [
    "#Filter ECG signal by using predefined filters\n",
    "filtered_ecg=biobss.preprocess.filter_signal(sig, sampling_rate=fs, signal_type='ECG', method='elgendi')"
   ]
  },
  {
   "cell_type": "markdown",
   "metadata": {},
   "source": [
    "#### __Peak Detection__\n",
    "<a id=\"ecg_peak\"></a>"
   ]
  },
  {
   "cell_type": "markdown",
   "metadata": {},
   "source": [
    "BIOBSS provides a specialized peak detection function for ECG signal. The function uses 'ecgdetectors' package to implement methods and returns a dictionary of R-peak locations and amplitudes."
   ]
  },
  {
   "cell_type": "code",
   "execution_count": 5,
   "metadata": {},
   "outputs": [],
   "source": [
    "#Detect peaks using 'pantompkins' method.\n",
    "locs_peaks=biobss.ecgtools.ecg_peaks(sig,fs,'pantompkins')\n",
    "peaks = sig[locs_peaks]"
   ]
  },
  {
   "cell_type": "markdown",
   "metadata": {},
   "source": [
    "#### __Delineation__\n",
    "<a id=\"ecg_waves\"></a>"
   ]
  },
  {
   "cell_type": "markdown",
   "metadata": {},
   "source": [
    "Since ECG signal has a complex waveform including P wave, QRS complex and T wave; BIOBSS also provides a delineation function. This function uses 'neurokit2' method from Neurokit2 package and returns a dictionary of all fiducial locations. "
   ]
  },
  {
   "cell_type": "code",
   "execution_count": 6,
   "metadata": {},
   "outputs": [],
   "source": [
    "#Delineate ECG signal using 'neurokit2' method.\n",
    "\n",
    "fiducials = biobss.ecgtools.ecg_waves(sig, locs_peaks, fs, 'neurokit2')\n",
    "\n",
    "p_peaks_locs = fiducials['ECG_P_Peaks']\n",
    "q_peaks_locs = fiducials['ECG_Q_Peaks']\n",
    "s_peaks_locs = fiducials['ECG_S_Peaks']\n",
    "t_peaks_locs = fiducials['ECG_T_Peaks']\n",
    "p_onset_locs = fiducials['ECG_P_Onsets']\n",
    "t_offset_locs = fiducials['ECG_T_Offsets']"
   ]
  },
  {
   "cell_type": "markdown",
   "metadata": {},
   "source": [
    "### __ECG Signal Quality Assessment__\n",
    "<a id=\"ecg_sqa\"></a>"
   ]
  },
  {
   "cell_type": "markdown",
   "metadata": {},
   "source": [
    "Signal quality assessment is an important step which should be applied prior to signal analysis. For this purpose, rule-based or machine learning based approaches can be applied based on the morphological information from ECG waveform. BIOBSS provides a set of functions for assessing signal quality, which can be applied seperately or consecutively."
   ]
  },
  {
   "cell_type": "markdown",
   "metadata": {},
   "source": [
    "#### __Clipping and Flatline Detection__\n",
    "<a id=\"ecg_cf\"></a>"
   ]
  },
  {
   "cell_type": "markdown",
   "metadata": {},
   "source": [
    "The ___detect_flatline_clipping___ function is used to detect clipped or flat segments of a signal by setting the parameters and returns a dictionary of boundaries. \n",
    "\n",
    "Clipping occurs because of exceeding voltage limits of the signal conditioning circuits. Clipped segments can be detected by setting a threshold and applying rules on the signal amplitude. "
   ]
  },
  {
   "cell_type": "code",
   "execution_count": 7,
   "metadata": {},
   "outputs": [],
   "source": [
    "#Detect clipped segments of ECG signal by setting a threshold value for signal amplitude\n",
    "info=biobss.sqatools.detect_flatline_clipping(sig,threshold=1.0, clipping=True)"
   ]
  },
  {
   "cell_type": "markdown",
   "metadata": {},
   "source": [
    "Flatline detection differs from clipping such that it can occur at any level of signal amplitude and duration of flat segments also matters to detect flatlines. Thus, both an amplitude and duration threshold should be defined to apply the rules. Note that, threshold of signal amplitude is defined as the minimum level of amplitude change required for a signal to be considered as non-flat segment."
   ]
  },
  {
   "cell_type": "code",
   "execution_count": 8,
   "metadata": {},
   "outputs": [],
   "source": [
    "#Detect flat segments of ECG signal by setting thresholds for signal amplitude change and duration of flat segments\n",
    "info=biobss.sqatools.detect_flatline_clipping(sig,threshold=0.0001, flatline=True, duration=10)"
   ]
  },
  {
   "cell_type": "markdown",
   "metadata": {},
   "source": [
    "#### __Physiological Limits__\n",
    "<a id=\"ecg_pm\"></a>"
   ]
  },
  {
   "cell_type": "markdown",
   "metadata": {},
   "source": [
    "The ___check_phys___ function can be used to check for physiological limits. This function takes R-peak locations as argument and return a dictionary of boolean results of the applied rules."
   ]
  },
  {
   "cell_type": "code",
   "execution_count": 9,
   "metadata": {},
   "outputs": [],
   "source": [
    "#Peak detection\n",
    "locs_peaks=biobss.ecgtools.ecg_peaks(sig,fs,'pantompkins')\n",
    "peaks = sig[locs_peaks]"
   ]
  },
  {
   "cell_type": "markdown",
   "metadata": {},
   "source": [
    "Now, the phsyiological limits can be compared to the accepted values in the literature. \n",
    "Reference: https://link.springer.com/book/10.1007/978-3-319-68415-4\n",
    "\n",
    "These values are defined as constants in the corresponding modules as given below. \n",
    "\n",
    "Physiological limits:\n",
    "- HR_MIN = 40 #minimum heart rate\n",
    "- HR_MAX = 180 #maximum heart rate\n",
    "- PP_MAX = 3 #maximum peak to peak interval\n",
    "- MAX_PP_RATIO = 2.2 #maximum P-P interval / minimum P-P interval \n"
   ]
  },
  {
   "cell_type": "code",
   "execution_count": 10,
   "metadata": {},
   "outputs": [],
   "source": [
    "#Check for physiological limits\n",
    "info=biobss.sqatools.check_phys(locs_peaks,fs)"
   ]
  },
  {
   "cell_type": "markdown",
   "metadata": {},
   "source": [
    "#### __Template Matching__\n",
    "<a id=\"ecg_tm\"></a>"
   ]
  },
  {
   "cell_type": "markdown",
   "metadata": {},
   "source": [
    "A common method for signal quality assessment is known as \"Template Matching\". This method is based on the expectation that pulse waveforms will have similar morphology in an ECG segment. A template is generated by aligning the pulses by their R-peaks and averaging them. Then, similarity of each pulse with the template is assessed using a measure. The ___template_matching___ function uses Pearson correlation as similarity measure. A threshold should be determined for correlation coefficient below which the pulse is \"unacceptable\". The default value is setted as 0.9 for the threshold. The function returns a tuple of correlation coefficients and a boolean result for the quality of the segment."
   ]
  },
  {
   "cell_type": "code",
   "execution_count": 11,
   "metadata": {},
   "outputs": [],
   "source": [
    "#Template matching \n",
    "info=biobss.sqatools.template_matching(sig,locs_peaks)"
   ]
  },
  {
   "cell_type": "markdown",
   "metadata": {},
   "source": [
    "The methods defined above can also be applied simultaneously using the function ___ecg_sqa___. Methods can be provided as a list and the function returns a dictionary of results. "
   ]
  },
  {
   "cell_type": "code",
   "execution_count": 12,
   "metadata": {},
   "outputs": [],
   "source": [
    "info=biobss.ecgtools.ecg_sqa(ecg_sig=sig, sampling_rate=fs, methods=['clipping', 'flatline','physiological','template'], clipping_threshold=1.0, flatline_threshold=0.0001, duration=10, peaks_locs=locs_peaks)"
   ]
  },
  {
   "cell_type": "markdown",
   "metadata": {},
   "source": [
    "### __ECG Feature Extraction__\n",
    "<a id=\"ecg_features\"></a>"
   ]
  },
  {
   "cell_type": "markdown",
   "metadata": {},
   "source": [
    "ECG signal is mostly used for heart rate variability analysis and arrhythmia classification in the literature. For arrhythmia classification, morphological/time domain features are commonly used to train the machine learning models. BIOBSS package provides a set of functions for calculation of the most common ECG features in the literature. Some features can be calculated using only R-peak locations while others requires information on all fiducial points. "
   ]
  },
  {
   "cell_type": "markdown",
   "metadata": {},
   "source": [
    "#### __Features from R peaks__\n",
    "<a id=\"ecg_f_rpeaks\"></a>"
   ]
  },
  {
   "cell_type": "markdown",
   "metadata": {},
   "source": [
    "The ___from_Rpeaks___ function calculates morphological features using R-peak locations. These features are:\n",
    "- 'a_R': Amplitude of R peak\n",
    "- 'RR0': Previous RR interval\n",
    "- 'RR1': Current RR interval\n",
    "- 'RR2': Subsequent RR interval\n",
    "- 'RRm': Mean of RR0, RR1 and RR2\n",
    "- 'RR_0_1': Ratio of RR0 to RR1\n",
    "- 'RR_2_1': Ratio of RR2 to RR1\n",
    "- 'RR_m_1': Ratio of RRm to RR1"
   ]
  },
  {
   "cell_type": "code",
   "execution_count": 13,
   "metadata": {},
   "outputs": [],
   "source": [
    "#Calculate features from R peaks\n",
    "features_rpeaks = biobss.ecgtools.ecg_features.from_Rpeaks(sig, locs_peaks, fs)"
   ]
  },
  {
   "cell_type": "markdown",
   "metadata": {},
   "source": [
    "#### __Features from P, Q, R, S, T waves__\n",
    "<a id=\"ecg_f_waves\"></a>"
   ]
  },
  {
   "cell_type": "markdown",
   "metadata": {},
   "source": [
    "The ___from_waves___ function calculates morphological features using locations of P, Q, R, S, T waves. These features are:\n",
    "- 't_PR': Time between P and R peak locations\n",
    "- 't_QR': Time between Q and R peak locations\n",
    "- 't_SR': Time between S and R peak locations\n",
    "- 't_TR': Time between T and R peak locations\n",
    "- 't_PQ': Time between P and Q peak locations\n",
    "- 't_PS': Time between P and S peak locations\n",
    "- 't_PT': Time between P and T peak locations\n",
    "- 't_QS': Time between Q and S peak locations\n",
    "- 't_QT':Time between Q and T peak locations\n",
    "- 't_ST': Time between S and T peak locations\n",
    "- 't_PT_QS': Ratio of t_PT to t_QS\n",
    "- 't_QT_QS': Ratio of t_QT to t_QS\n",
    "- 'a_PQ': Difference of P wave and Q wave amplitudes\n",
    "- 'a_QR': Difference of Q wave and R wave amplitudes\n",
    "- 'a_RS': Difference of R wave and S wave amplitudes\n",
    "- 'a_ST': Difference of S wave and T wave amplitudes\n",
    "- 'a_PS': Difference of P wave and S wave amplitudes\n",
    "- 'a_PT': Difference of P wave and T wave amplitudes\n",
    "- 'a_QS': Difference of Q wave and S wave amplitudes\n",
    "- 'a_QT': Difference of Q wave and T wave amplitudes\n",
    "- 'a_ST_QS': Ratio of a_ST to a_QS\n",
    "- 'a_RS_QR': Ratio of a_RS to a_QR\n",
    "- 'a_PQ_QS': Ratio of a_PQ to a_QS\n",
    "- 'a_PQ_QT': Ratio of a_PQ to a_QT\n",
    "- 'a_PQ_PS': Ratio of a_PQ to a_PS\n",
    "- 'a_PQ_QR': Ratio of a_PQ to a_QR\n",
    "- 'a_PQ_RS': Ratio of a_PQ to a_RS\n",
    "- 'a_RS_QS': Ratio of a_RS to a_QS\n",
    "- 'a_RS_QT': Ratio of a_RS to a_QT\n",
    "- 'a_ST_PQ': Ratio of a_ST to a_PQ\n",
    "- 'a_ST_QT': Ratio of a_ST to a_QT"
   ]
  },
  {
   "cell_type": "code",
   "execution_count": 14,
   "metadata": {},
   "outputs": [],
   "source": [
    "#Calculate features from P, Q, R, S, T waves\n",
    "features_waves = biobss.ecgtools.ecg_features.from_waves(sig, locs_peaks, fiducials, fs)"
   ]
  }
 ],
 "metadata": {
  "kernelspec": {
   "display_name": "Python 3.8.13 ('biolib')",
   "language": "python",
   "name": "python3"
  },
  "language_info": {
   "codemirror_mode": {
    "name": "ipython",
    "version": 3
   },
   "file_extension": ".py",
   "mimetype": "text/x-python",
   "name": "python",
   "nbconvert_exporter": "python",
   "pygments_lexer": "ipython3",
   "version": "3.8.13"
  },
  "orig_nbformat": 4,
  "vscode": {
   "interpreter": {
    "hash": "3a4bcfb23c7e6ad66c655087280fa9f4d0273121ae7909f7735d1e02563a2438"
   }
  }
 },
 "nbformat": 4,
 "nbformat_minor": 2
}
