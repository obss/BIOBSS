{
 "cells": [
  {
   "cell_type": "markdown",
   "metadata": {},
   "source": [
    "__BIOBSS - Empatica reader__\n",
    "\n",
    "_This notebook includes guidelines to extract files from the Empatica zip archive and correct for the time format._"
   ]
  },
  {
   "cell_type": "code",
   "execution_count": 4,
   "metadata": {},
   "outputs": [],
   "source": [
    "#Import BIOBSS and the other required packages\n",
    "\n",
    "import biobss\n",
    "import os\n",
    "import numpy as np\n",
    "import matplotlib.pyplot as plt\n",
    "import pandas as pd\n",
    "\n",
    "#help(biobss)"
   ]
  },
  {
   "cell_type": "markdown",
   "metadata": {},
   "source": [
    "# Table of Contents\n",
    "1.[Empatica Sample Data](#empatica)<br>\n",
    "2.[Extract Files from Zip Archive](#extract)<br>\n",
    "3.[Timestamp Correction](#time)<br>"
   ]
  },
  {
   "cell_type": "markdown",
   "metadata": {},
   "source": [
    "### __Empatica Sample Data__\n",
    "<a id=\"empatica\"></a>"
   ]
  },
  {
   "cell_type": "code",
   "execution_count": 2,
   "metadata": {},
   "outputs": [],
   "source": [
    "#Define the file paths for the zip files, temporary files and csv files (For Empatica file extraction and time-format correction)\n",
    "zipfiles_dir=\"C:\\\\Users\\\\ipek.karakus\\\\Desktop\\\\biobss\\\\Empatica_files\\\\zip_files\\\\\"\n",
    "temp_dir=\"C:\\\\Users\\\\ipek.karakus\\\\Desktop\\\\biobss\\\\Empatica_files\\\\temp\"\n",
    "csvfiles_dir=\"C:\\\\Users\\\\ipek.karakus\\\\Desktop\\\\biobss\\\\Empatica_files\\\\csv_files\"\n",
    "\n",
    "#Define the name of the zip file (record id)\n",
    "zip_file_name=\"1555678143_A01BC1.zip\""
   ]
  },
  {
   "cell_type": "markdown",
   "metadata": {},
   "source": [
    "### __Extract Files from Zip Archive__\n",
    "<a id=\"extract\"></a>"
   ]
  },
  {
   "cell_type": "code",
   "execution_count": 6,
   "metadata": {},
   "outputs": [
    {
     "ename": "AttributeError",
     "evalue": "module 'biobss.reader' has no attribute 'e4_format'",
     "output_type": "error",
     "traceback": [
      "\u001b[1;31m---------------------------------------------------------------------------\u001b[0m",
      "\u001b[1;31mAttributeError\u001b[0m                            Traceback (most recent call last)",
      "Cell \u001b[1;32mIn [6], line 2\u001b[0m\n\u001b[0;32m      1\u001b[0m \u001b[39m#This method first extracts the csv files from the zip archive to a temporary folder. Then, the files are renamed and moved into the final directory.\u001b[39;00m\n\u001b[1;32m----> 2\u001b[0m biobss\u001b[39m.\u001b[39;49mreader\u001b[39m.\u001b[39;49me4_format\u001b[39m.\u001b[39munzip_and_rename(zipfiles_dir, temp_dir, csvfiles_dir, zip_file_name)\n",
      "\u001b[1;31mAttributeError\u001b[0m: module 'biobss.reader' has no attribute 'e4_format'"
     ]
    }
   ],
   "source": [
    "#This method first extracts the csv files from the zip archive to a temporary folder. Then, the files are renamed and moved into the final directory.\n",
    "biobss.reader.e4_format.unzip_and_rename(zipfiles_dir, temp_dir, csvfiles_dir, zip_file_name)\n"
   ]
  },
  {
   "cell_type": "markdown",
   "metadata": {},
   "source": [
    "### __Timestamp Correction__\n",
    "<a id=\"time\"></a>"
   ]
  },
  {
   "cell_type": "code",
   "execution_count": null,
   "metadata": {},
   "outputs": [],
   "source": [
    "#Define the filename and filesource for timestamp correction.\n",
    "theid = '1555678143_A01BC1' #This is the subject ID number (name of file)\n",
    "filesource = \"C:\\\\Users\\\\ipek.karakus\\\\Desktop\\\\biobss\\\\Empatica_files\\\\csv_files\\\\\" #This is the source folder that contains all of your participant folders\n",
    "\n",
    "#Different methods are used to correct the timestamp since the content of each csv file depends on the type of signal. \n",
    "os.chdir(r'C:\\Users\\ipek.karakus\\Desktop\\biobss\\Empatica_files\\csv_files')\n",
    "#Correct timestamp for EDA, TEMP, HR and BVP signal files.\n",
    "listtyped = ['EDA','TEMP', 'HR','BVP'] \n",
    "[biobss.reader.e4_format.importandexport(filesource, theid, typed) for typed in listtyped]\n",
    "#Correct timestamp for ACC signal files.\n",
    "biobss.reader.e4_format.importandexportAcc(filesource, theid, 'ACC') \n",
    "#Correct timestamp for IBI signal files.\n",
    "biobss.reader.e4_format.importandexportIBI(filesource, theid, 'IBI') "
   ]
  }
 ],
 "metadata": {
  "kernelspec": {
   "display_name": "Python 3.8.5 64-bit ('biolib')",
   "language": "python",
   "name": "python3"
  },
  "language_info": {
   "codemirror_mode": {
    "name": "ipython",
    "version": 3
   },
   "file_extension": ".py",
   "mimetype": "text/x-python",
   "name": "python",
   "nbconvert_exporter": "python",
   "pygments_lexer": "ipython3",
   "version": "3.8.13"
  },
  "orig_nbformat": 4,
  "vscode": {
   "interpreter": {
    "hash": "3a4bcfb23c7e6ad66c655087280fa9f4d0273121ae7909f7735d1e02563a2438"
   }
  }
 },
 "nbformat": 4,
 "nbformat_minor": 2
}
