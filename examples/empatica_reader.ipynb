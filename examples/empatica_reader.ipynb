{
 "cells": [
  {
   "cell_type": "markdown",
   "metadata": {},
   "source": [
    "__BIOBSS - Empatica reader__\n",
    "\n",
    "_This notebook includes guidelines to extract files from the Empatica zip archive and correct for the time format._"
   ]
  },
  {
   "cell_type": "code",
   "execution_count": 1,
   "metadata": {},
   "outputs": [],
   "source": [
    "#Import BIOBSS and the other required packages\n",
    "\n",
    "import biobss\n",
    "import os\n",
    "import numpy as np\n",
    "import matplotlib.pyplot as plt\n",
    "import pandas as pd"
   ]
  },
  {
   "cell_type": "markdown",
   "metadata": {},
   "source": [
    "# Table of Contents\n",
    "1.[Empatica Sample Data](#empatica)<br>\n",
    "2.[Extract Files from Zip Archive](#extract)<br>\n",
    "3.[Timestamp Correction](#time)<br>"
   ]
  },
  {
   "cell_type": "markdown",
   "metadata": {},
   "source": [
    "### __Empatica Sample Data__\n",
    "<a id=\"empatica\"></a>"
   ]
  },
  {
   "cell_type": "markdown",
   "metadata": {},
   "source": [
    "Empatica sample data is provided as txt files in BIOBSS\\sample data\\Empatica_files\\zip_files. Empatica exports the data files as a zip archive. The archive contains seperate csv files for each signal, an info.txt file for the required information and a tags.csv file to keep event timestamps."
   ]
  },
  {
   "cell_type": "code",
   "execution_count": 4,
   "metadata": {},
   "outputs": [],
   "source": [
    "#Define the file paths for the zip files, temporary files and csv files (For Empatica file extraction and time-format correction)\n",
    "empatica_dir=os.path.join(os.path.normpath(os.getcwd() + os.sep + os.pardir),\"sample_data\",\"Empatica_files\")\n",
    "zip_dir=os.path.join(empatica_dir,'zip_files')\n",
    "temp_dir=os.path.join(empatica_dir,'temp')\n",
    "csv_dir=os.path.join(empatica_dir,'csv_files')\n",
    "\n",
    "#Define the name of the zip file (record id)\n",
    "zip_file_name=\"sample_file.zip\""
   ]
  },
  {
   "cell_type": "markdown",
   "metadata": {},
   "source": [
    "### __Extract Files from Zip Archive__\n",
    "<a id=\"extract\"></a>"
   ]
  },
  {
   "cell_type": "markdown",
   "metadata": {},
   "source": [
    "BIOBSS provides the ___unzip_and_rename___ function to unzip and rename the files in the archive. The function first extracts the csv files from the zip archive to a temporary folder (Empatica_files\\temp). Then, the files are renamed and moved into the final directory (Empatica_files\\csv_files)."
   ]
  },
  {
   "cell_type": "code",
   "execution_count": 5,
   "metadata": {},
   "outputs": [],
   "source": [
    "#Extract the csv files from the zip archive \n",
    "biobss.reader.e4_format.unzip_and_rename(zip_dir, temp_dir, csv_dir, zip_file_name)"
   ]
  },
  {
   "cell_type": "markdown",
   "metadata": {},
   "source": [
    "### __Timestamp Correction__\n",
    "<a id=\"time\"></a>"
   ]
  },
  {
   "cell_type": "markdown",
   "metadata": {},
   "source": [
    "BIOBSS provides a set of functions to apply timestamp correction on Empatica signal files. The method used for timestamp correction differs for signal_types since the content of each csv file is different. "
   ]
  },
  {
   "cell_type": "code",
   "execution_count": 6,
   "metadata": {},
   "outputs": [
    {
     "name": "stdout",
     "output_type": "stream",
     "text": [
      "[]\n",
      "Completed Import and Export of:EDA\n",
      "[]\n",
      "Completed Import and Export of:TEMP\n",
      "[]\n",
      "Completed Import and Export of:HR\n",
      "[]\n",
      "Completed Import and Export of:BVP\n",
      "[]\n",
      "Completed Import and Export of:ACC\n",
      "[]\n",
      "Completed Import and Export of:IBI\n"
     ]
    }
   ],
   "source": [
    "#Define the filename and filesource for timestamp correction.\n",
    "theid = 'sample_file' #This is the subject ID number (name of file)\n",
    "filesource = csv_dir #This is the source folder that contains all of your participant folders\n",
    "os.chdir(csv_dir)\n",
    "\n",
    "#Correct timestamp for EDA, TEMP, HR and BVP signal files.\n",
    "listtyped = ['EDA','TEMP', 'HR','BVP'] \n",
    "[biobss.reader.e4_format.importandexport(filesource, theid, typed) for typed in listtyped]\n",
    "\n",
    "#Correct timestamp for ACC signal files.\n",
    "biobss.reader.e4_format.importandexportAcc(filesource, theid, 'ACC') \n",
    "\n",
    "#Correct timestamp for IBI signal files.\n",
    "biobss.reader.e4_format.importandexportIBI(filesource, theid, 'IBI') "
   ]
  }
 ],
 "metadata": {
  "kernelspec": {
   "display_name": "Python 3.8.5 64-bit ('biolib')",
   "language": "python",
   "name": "python3"
  },
  "language_info": {
   "codemirror_mode": {
    "name": "ipython",
    "version": 3
   },
   "file_extension": ".py",
   "mimetype": "text/x-python",
   "name": "python",
   "nbconvert_exporter": "python",
   "pygments_lexer": "ipython3",
   "version": "3.8.13"
  },
  "orig_nbformat": 4,
  "vscode": {
   "interpreter": {
    "hash": "3a4bcfb23c7e6ad66c655087280fa9f4d0273121ae7909f7735d1e02563a2438"
   }
  }
 },
 "nbformat": 4,
 "nbformat_minor": 2
}
