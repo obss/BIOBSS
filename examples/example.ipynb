{
 "cells": [
  {
   "cell_type": "code",
   "execution_count": 1,
   "metadata": {},
   "outputs": [],
   "source": [
    "import importlib\n",
    "import sys\n",
    "import pandas as pd\n",
    "import numpy as np\n",
    "\n",
    "sys.path.append(\"../\")\n",
    "import biobss\n"
   ]
  },
  {
   "cell_type": "code",
   "execution_count": 2,
   "metadata": {},
   "outputs": [],
   "source": [
    "import neurokit2 as nk"
   ]
  },
  {
   "cell_type": "code",
   "execution_count": 3,
   "metadata": {},
   "outputs": [],
   "source": [
    "import matplotlib.pyplot as plt"
   ]
  },
  {
   "cell_type": "code",
   "execution_count": 4,
   "metadata": {},
   "outputs": [],
   "source": [
    "importlib.reload(biobss);"
   ]
  },
  {
   "cell_type": "code",
   "execution_count": 5,
   "metadata": {},
   "outputs": [],
   "source": [
    "sample_data=pd.read_pickle(\"..\\sample_data\\\\EDA_Chest.pkl\")"
   ]
  },
  {
   "cell_type": "code",
   "execution_count": 6,
   "metadata": {},
   "outputs": [],
   "source": [
    "sample_data=sample_data.flatten()"
   ]
  },
  {
   "cell_type": "code",
   "execution_count": 7,
   "metadata": {},
   "outputs": [],
   "source": [
    "sample_data_normalized=biobss.signaltools.normalize_signal(sample_data,method='minmax')"
   ]
  },
  {
   "cell_type": "code",
   "execution_count": 8,
   "metadata": {},
   "outputs": [
    {
     "ename": "ValueError",
     "evalue": "Unknown method 'dummy', available values are [zscore, minmax].",
     "output_type": "error",
     "traceback": [
      "\u001b[1;31m---------------------------------------------------------------------------\u001b[0m",
      "\u001b[1;31mValueError\u001b[0m                                Traceback (most recent call last)",
      "\u001b[1;32mc:\\Users\\Cagatay\\Desktop\\Workspace\\Biobss Pipeline\\biobss\\examples\\example.ipynb Cell 8'\u001b[0m in \u001b[0;36m<module>\u001b[1;34m\u001b[0m\n\u001b[1;32m----> <a href='vscode-notebook-cell:/c%3A/Users/Cagatay/Desktop/Workspace/Biobss%20Pipeline/biobss/examples/example.ipynb#ch0000007?line=0'>1</a>\u001b[0m sample_data_normalized\u001b[39m=\u001b[39mbiobss\u001b[39m.\u001b[39;49msignaltools\u001b[39m.\u001b[39;49mnormalize_signal(sample_data,method\u001b[39m=\u001b[39;49m\u001b[39m'\u001b[39;49m\u001b[39mdummy\u001b[39;49m\u001b[39m'\u001b[39;49m)\n",
      "File \u001b[1;32mc:\\Users\\Cagatay\\Desktop\\Workspace\\Biobss Pipeline\\biobss\\examples\\..\\biobss\\signaltools\\normalize.py:22\u001b[0m, in \u001b[0;36mnormalize_signal\u001b[1;34m(signal, method)\u001b[0m\n\u001b[0;32m     <a href='file:///c%3A/Users/Cagatay/Desktop/Workspace/Biobss%20Pipeline/biobss/examples/../biobss/signaltools/normalize.py?line=18'>19</a>\u001b[0m     \u001b[39mreturn\u001b[39;00m (signal\u001b[39m-\u001b[39msignal\u001b[39m.\u001b[39mmin())\u001b[39m/\u001b[39m(signal\u001b[39m.\u001b[39mmax()\u001b[39m-\u001b[39msignal\u001b[39m.\u001b[39mmin())\n\u001b[0;32m     <a href='file:///c%3A/Users/Cagatay/Desktop/Workspace/Biobss%20Pipeline/biobss/examples/../biobss/signaltools/normalize.py?line=20'>21</a>\u001b[0m \u001b[39melse\u001b[39;00m:\n\u001b[1;32m---> <a href='file:///c%3A/Users/Cagatay/Desktop/Workspace/Biobss%20Pipeline/biobss/examples/../biobss/signaltools/normalize.py?line=21'>22</a>\u001b[0m     \u001b[39mraise\u001b[39;00m \u001b[39mValueError\u001b[39;00m(\u001b[39mf\u001b[39m\u001b[39m\"\u001b[39m\u001b[39mUnknown method \u001b[39m\u001b[39m'\u001b[39m\u001b[39m{\u001b[39;00mmethod\u001b[39m}\u001b[39;00m\u001b[39m'\u001b[39m\u001b[39m, available values are [zscore, minmax].\u001b[39m\u001b[39m\"\u001b[39m)\n",
      "\u001b[1;31mValueError\u001b[0m: Unknown method 'dummy', available values are [zscore, minmax]."
     ]
    }
   ],
   "source": [
    "sample_data_normalized=biobss.signaltools.normalize_signal(sample_data,method='dummy')"
   ]
  },
  {
   "cell_type": "markdown",
   "metadata": {},
   "source": [
    "Prepare the input signals"
   ]
  },
  {
   "cell_type": "code",
   "execution_count": 9,
   "metadata": {},
   "outputs": [],
   "source": [
    "eda_win=biobss.segment_signal(sample_data,window_size=60,step_size=10,sampling_rate=700)"
   ]
  },
  {
   "cell_type": "code",
   "execution_count": 10,
   "metadata": {},
   "outputs": [
    {
     "data": {
      "text/plain": [
       "587"
      ]
     },
     "execution_count": 10,
     "metadata": {},
     "output_type": "execute_result"
    }
   ],
   "source": [
    "len(eda_win)"
   ]
  },
  {
   "cell_type": "code",
   "execution_count": 15,
   "metadata": {},
   "outputs": [
    {
     "ename": "AttributeError",
     "evalue": "module 'biobss.edatools' has no attribute 'eda_decompose'",
     "output_type": "error",
     "traceback": [
      "\u001b[1;31m---------------------------------------------------------------------------\u001b[0m",
      "\u001b[1;31mAttributeError\u001b[0m                            Traceback (most recent call last)",
      "\u001b[1;32mc:\\Users\\cagatay.tasci\\Desktop\\R&D Workspace\\biobss\\examples\\example.ipynb Cell 12'\u001b[0m in \u001b[0;36m<cell line: 1>\u001b[1;34m()\u001b[0m\n\u001b[1;32m----> <a href='vscode-notebook-cell:/c%3A/Users/cagatay.tasci/Desktop/R%26D%20Workspace/biobss/examples/example.ipynb#ch0000017?line=0'>1</a>\u001b[0m biobss\u001b[39m.\u001b[39;49medatools\u001b[39m.\u001b[39;49meda_decompose\n",
      "\u001b[1;31mAttributeError\u001b[0m: module 'biobss.edatools' has no attribute 'eda_decompose'"
     ]
    }
   ],
   "source": [
    "biobss.edatools.eda_decompose"
   ]
  },
  {
   "cell_type": "code",
   "execution_count": 11,
   "metadata": {},
   "outputs": [
    {
     "ename": "AttributeError",
     "evalue": "module 'biobss.edatools' has no attribute 'feature_extraction'",
     "output_type": "error",
     "traceback": [
      "\u001b[1;31m---------------------------------------------------------------------------\u001b[0m",
      "\u001b[1;31mAttributeError\u001b[0m                            Traceback (most recent call last)",
      "\u001b[1;32mc:\\Users\\cagatay.tasci\\Desktop\\R&D Workspace\\biobss\\examples\\example.ipynb Cell 12'\u001b[0m in \u001b[0;36m<cell line: 1>\u001b[1;34m()\u001b[0m\n\u001b[1;32m----> <a href='vscode-notebook-cell:/c%3A/Users/cagatay.tasci/Desktop/R%26D%20Workspace/biobss/examples/example.ipynb#ch0000010?line=0'>1</a>\u001b[0m parallel_features\u001b[39m=\u001b[39mbiobss\u001b[39m.\u001b[39;49medatools\u001b[39m.\u001b[39;49mfeature_extraction\u001b[39m.\u001b[39mfrom_windows(eda_win,sr\u001b[39m=\u001b[39m\u001b[39m700\u001b[39m,parallel\u001b[39m=\u001b[39m\u001b[39mTrue\u001b[39;00m,n_jobs\u001b[39m=\u001b[39m\u001b[39m5\u001b[39m)\n",
      "\u001b[1;31mAttributeError\u001b[0m: module 'biobss.edatools' has no attribute 'feature_extraction'"
     ]
    }
   ],
   "source": [
    "parallel_features=biobss.edatools.feature_extraction.from_windows(eda_win,sr=700,parallel=True,n_jobs=5)"
   ]
  },
  {
   "cell_type": "code",
   "execution_count": 12,
   "metadata": {},
   "outputs": [],
   "source": [
    "serial_features=biobss.edatools.feature_extraction.from_windows(eda_win,sr=700,)"
   ]
  },
  {
   "cell_type": "markdown",
   "metadata": {},
   "source": [
    "Check if the serially and parallely calculated features are the same."
   ]
  },
  {
   "cell_type": "code",
   "execution_count": null,
   "metadata": {},
   "outputs": [
    {
     "data": {
      "text/plain": [
       "True"
      ]
     },
     "execution_count": 11,
     "metadata": {},
     "output_type": "execute_result"
    }
   ],
   "source": [
    "np.all(parallel_features==serial_features)"
   ]
  }
 ],
 "metadata": {
  "interpreter": {
   "hash": "a6178572b9a90d2c5e062ed8640c411078523c298b0cf90d87d3da07bebbeb5c"
  },
  "kernelspec": {
   "display_name": "Python 3.8.12 ('mlenv')",
   "language": "python",
   "name": "python3"
  },
  "language_info": {
   "codemirror_mode": {
    "name": "ipython",
    "version": 3
   },
   "file_extension": ".py",
   "mimetype": "text/x-python",
   "name": "python",
   "nbconvert_exporter": "python",
   "pygments_lexer": "ipython3",
   "version": "3.8.12"
  },
  "orig_nbformat": 4
 },
 "nbformat": 4,
 "nbformat_minor": 2
}
