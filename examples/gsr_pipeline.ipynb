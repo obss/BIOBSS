{
 "cells": [
  {
   "cell_type": "code",
   "execution_count": 1,
   "metadata": {},
   "outputs": [],
   "source": [
    "import importlib\n",
    "import sys\n",
    "import pandas as pd\n",
    "import numpy as np\n",
    "\n",
    "sys.path.append(\"../\")\n",
    "import biobss\n"
   ]
  },
  {
   "cell_type": "code",
   "execution_count": 2,
   "metadata": {},
   "outputs": [],
   "source": [
    "import matplotlib.pyplot as plt"
   ]
  },
  {
   "cell_type": "code",
   "execution_count": 3,
   "metadata": {},
   "outputs": [
    {
     "data": {
      "text/plain": [
       "'c:\\\\Users\\\\Cagatay\\\\Desktop\\\\Biobss Workspace\\\\Plot Branch\\\\biobss\\\\examples'"
      ]
     },
     "execution_count": 3,
     "metadata": {},
     "output_type": "execute_result"
    }
   ],
   "source": [
    "import os\n",
    "os.getcwd()"
   ]
  },
  {
   "cell_type": "code",
   "execution_count": 4,
   "metadata": {},
   "outputs": [],
   "source": [
    "import neurokit2 as nk\n",
    "sample_data = pd.read_pickle(\"../sample_data/EDA_Chest.pkl\")\n",
    "sample_data = sample_data.flatten()"
   ]
  },
  {
   "cell_type": "code",
   "execution_count": 5,
   "metadata": {},
   "outputs": [],
   "source": [
    "decompose = biobss.pipeline.Bio_Process(process_method=biobss.edatools.eda_decompose,method=\"highpass\")\n",
    "\n",
    "clean=biobss.pipeline.Bio_Process(\n",
    "    process_method=biobss.edatools.eda_clean,argmap={\"sampling_rate\":\"sampling_rate\"},method=\"neurokit\")\n",
    "\n",
    "normalize = biobss.pipeline.Bio_Process(\n",
    "    process_method=biobss.preprocess.normalize_signal)\n",
    "resample = biobss.pipeline.Bio_Process(\n",
    "    process_method=biobss.preprocess.resample_signal_object,target_sample_rate=350)\n",
    "signal_features = biobss.pipeline.Feature(name=\"signal_features\", function=biobss.edatools.eda_signalfeatures.get_signal_features, input_signals={'EDA_Raw':'EDA_Raw', 'EDA_Tonic':'EDA_Tonic', 'EDA_Phasic':'EDA_Phasic'})\n",
    "stat_features = biobss.pipeline.Feature(name=\"stat_features\", function=biobss.edatools.get_stat_features, input_signals={'EDA_Raw':'EDA_Raw', 'EDA_Tonic':'EDA_Tonic', 'EDA_Phasic':'EDA_Phasic'})"
   ]
  },
  {
   "cell_type": "code",
   "execution_count": 6,
   "metadata": {},
   "outputs": [],
   "source": [
    "pipeline = biobss.pipeline.Bio_Pipeline(windowed_process=True,window_size=60,step_size=20)"
   ]
  },
  {
   "cell_type": "code",
   "execution_count": 7,
   "metadata": {},
   "outputs": [],
   "source": [
    "channel=biobss.pipeline.Bio_Channel(signal=sample_data,name=\"EDA_Raw\",sampling_rate=700)"
   ]
  },
  {
   "cell_type": "code",
   "execution_count": 8,
   "metadata": {},
   "outputs": [
    {
     "data": {
      "text/plain": [
       "EDA_Raw (700Hz) ((5920.0,)s) (1 windows) ((4144000,)) ((4144000,)) (float64)[5.40046692 5.40885925 5.40161133 ... 7.26280212 7.26966858 7.2681427 ]"
      ]
     },
     "execution_count": 8,
     "metadata": {},
     "output_type": "execute_result"
    }
   ],
   "source": [
    "channel"
   ]
  },
  {
   "cell_type": "code",
   "execution_count": 9,
   "metadata": {},
   "outputs": [],
   "source": [
    "pipeline.set_input(sample_data,sampling_rate=700,name='EDA_Raw')"
   ]
  },
  {
   "cell_type": "code",
   "execution_count": 10,
   "metadata": {},
   "outputs": [
    {
     "data": {
      "text/plain": [
       "Signal object with 1 channel(s)\n",
       "EDA_Raw (700Hz) ((5920.0,)s) (1 windows) ((4144000,))"
      ]
     },
     "execution_count": 10,
     "metadata": {},
     "output_type": "execute_result"
    }
   ],
   "source": [
    "pipeline.input"
   ]
  },
  {
   "cell_type": "code",
   "execution_count": 11,
   "metadata": {},
   "outputs": [],
   "source": [
    "pipeline.preprocess_queue.add_process(clean)\n",
    "pipeline.preprocess_queue.add_process(normalize)\n",
    "pipeline.preprocess_queue.add_process(decompose)\n",
    "pipeline.preprocess_queue.add_process(resample)\n"
   ]
  },
  {
   "cell_type": "code",
   "execution_count": 12,
   "metadata": {},
   "outputs": [],
   "source": [
    "pipeline.add_feature_step(signal_features)\n",
    "pipeline.add_feature_step(stat_features)\n"
   ]
  },
  {
   "cell_type": "code",
   "execution_count": 13,
   "metadata": {},
   "outputs": [
    {
     "data": {
      "text/plain": [
       "Bio_Pipeline:\n",
       "\tPreprocessors: Process list:\n",
       "\t1: eda_clean\n",
       "\t2: normalize_signal\n",
       "\t3: eda_decompose\n",
       "\t4: resample_signal_object\n",
       "\n",
       "\tProcessors: Process list:\n",
       "\n",
       "\tPostprocessors: Process list:\n",
       "\n",
       "\tWindow Size(Seconds): 60\n",
       "\tStep Size: 20"
      ]
     },
     "execution_count": 13,
     "metadata": {},
     "output_type": "execute_result"
    }
   ],
   "source": [
    "pipeline"
   ]
  },
  {
   "cell_type": "code",
   "execution_count": 14,
   "metadata": {},
   "outputs": [],
   "source": [
    "pipeline.run_pipeline()"
   ]
  },
  {
   "cell_type": "code",
   "execution_count": 15,
   "metadata": {},
   "outputs": [
    {
     "data": {
      "text/plain": [
       "Signal object with 3 channel(s)\n",
       "EDA_Raw (350Hz) (60.0s) (294 windows) ((294, 21000))\n",
       "EDA_Tonic (350Hz) (60.0s) (294 windows) ((294, 21000))\n",
       "EDA_Phasic (350Hz) (60.0s) (294 windows) ((294, 21000))"
      ]
     },
     "execution_count": 15,
     "metadata": {},
     "output_type": "execute_result"
    }
   ],
   "source": [
    "pipeline.input"
   ]
  },
  {
   "cell_type": "code",
   "execution_count": 20,
   "metadata": {},
   "outputs": [
    {
     "data": {
      "text/plain": [
       "array([-0.77021659, -1.50324037, -1.25842645, ..., -1.11875179,\n",
       "       -1.11878738, -1.11885975])"
      ]
     },
     "execution_count": 20,
     "metadata": {},
     "output_type": "execute_result"
    }
   ],
   "source": [
    "pipeline.input['EDA_Raw'].channel[0]"
   ]
  },
  {
   "cell_type": "code",
   "execution_count": 23,
   "metadata": {},
   "outputs": [
    {
     "ename": "IndexError",
     "evalue": "index 3 is out of bounds for axis 0 with size 3",
     "output_type": "error",
     "traceback": [
      "\u001b[1;31m---------------------------------------------------------------------------\u001b[0m",
      "\u001b[1;31mIndexError\u001b[0m                                Traceback (most recent call last)",
      "\u001b[1;32mc:\\Users\\Cagatay\\Desktop\\Biobss Workspace\\Plot Branch\\biobss\\examples\\gsr_pipeline.ipynb Cell 17\u001b[0m in \u001b[0;36m<cell line: 1>\u001b[1;34m()\u001b[0m\n\u001b[1;32m----> <a href='vscode-notebook-cell:/c%3A/Users/Cagatay/Desktop/Biobss%20Workspace/Plot%20Branch/biobss/examples/gsr_pipeline.ipynb#X32sZmlsZQ%3D%3D?line=0'>1</a>\u001b[0m biobss\u001b[39m.\u001b[39;49medatools\u001b[39m.\u001b[39;49meda_plot({\u001b[39m'\u001b[39;49m\u001b[39mRaw\u001b[39;49m\u001b[39m'\u001b[39;49m:pipeline\u001b[39m.\u001b[39;49minput[\u001b[39m'\u001b[39;49m\u001b[39mEDA_Raw\u001b[39;49m\u001b[39m'\u001b[39;49m]\u001b[39m.\u001b[39;49mchannel[\u001b[39m0\u001b[39;49m],\u001b[39m'\u001b[39;49m\u001b[39mTonic\u001b[39;49m\u001b[39m'\u001b[39;49m:pipeline\u001b[39m.\u001b[39;49minput[\u001b[39m'\u001b[39;49m\u001b[39mEDA_Tonic\u001b[39;49m\u001b[39m'\u001b[39;49m]\u001b[39m.\u001b[39;49mchannel[\u001b[39m0\u001b[39;49m],\u001b[39m'\u001b[39;49m\u001b[39mPhasic\u001b[39;49m\u001b[39m'\u001b[39;49m:pipeline\u001b[39m.\u001b[39;49minput[\u001b[39m'\u001b[39;49m\u001b[39mEDA_Phasic\u001b[39;49m\u001b[39m'\u001b[39;49m]\u001b[39m.\u001b[39;49mchannel[\u001b[39m0\u001b[39;49m]},sampling_rate\u001b[39m=\u001b[39;49m\u001b[39m350\u001b[39;49m)\n",
      "File \u001b[1;32mc:\\Users\\Cagatay\\Desktop\\Biobss Workspace\\Plot Branch\\biobss\\examples\\..\\biobss\\edatools\\eda_plot.py:14\u001b[0m, in \u001b[0;36meda_plot\u001b[1;34m(signals, sampling_rate, timestamps)\u001b[0m\n\u001b[0;32m     12\u001b[0m \u001b[39mfor\u001b[39;00m e \u001b[39min\u001b[39;00m eda_signal_names:\n\u001b[0;32m     13\u001b[0m     \u001b[39mif\u001b[39;00m e \u001b[39min\u001b[39;00m signals:\n\u001b[1;32m---> 14\u001b[0m         axs[eda_signal_names\u001b[39m.\u001b[39;49mindex(e)]\u001b[39m.\u001b[39mplot(signals[e])\n\u001b[0;32m     15\u001b[0m         axs[eda_signal_names\u001b[39m.\u001b[39mindex(e)]\u001b[39m.\u001b[39mset_title(e)\n\u001b[0;32m     18\u001b[0m plt\u001b[39m.\u001b[39mshow()\n",
      "\u001b[1;31mIndexError\u001b[0m: index 3 is out of bounds for axis 0 with size 3"
     ]
    },
    {
     "data": {
      "image/png": "[encoded data removed]",
      "text/plain": [
       "<Figure size 432x288 with 3 Axes>"
      ]
     },
     "metadata": {
      "needs_background": "light"
     },
     "output_type": "display_data"
    }
   ],
   "source": [
    "biobss.edatools.eda_plot({'Raw':pipeline.input['EDA_Raw'].channel[0],'Tonic':pipeline.input['EDA_Tonic'].channel[0],'Phasic':pipeline.input['EDA_Phasic'].channel[0]},sampling_rate=350)"
   ]
  },
  {
   "cell_type": "code",
   "execution_count": 16,
   "metadata": {},
   "outputs": [],
   "source": [
    "pipeline.extract_features()"
   ]
  },
  {
   "cell_type": "code",
   "execution_count": 17,
   "metadata": {},
   "outputs": [
    {
     "data": {
      "text/html": [
       "<div>\n",
       "<style scoped>\n",
       "    .dataframe tbody tr th:only-of-type {\n",
       "        vertical-align: middle;\n",
       "    }\n",
       "\n",
       "    .dataframe tbody tr th {\n",
       "        vertical-align: top;\n",
       "    }\n",
       "\n",
       "    .dataframe thead th {\n",
       "        text-align: right;\n",
       "    }\n",
       "</style>\n",
       "<table border=\"1\" class=\"dataframe\">\n",
       "  <thead>\n",
       "    <tr style=\"text-align: right;\">\n",
       "      <th></th>\n",
       "      <th>EDA_Raw_rms</th>\n",
       "      <th>EDA_Raw_acr_length</th>\n",
       "      <th>EDA_Raw_integral</th>\n",
       "      <th>EDA_Raw_average_power</th>\n",
       "      <th>EDA_Tonic_rms</th>\n",
       "      <th>EDA_Tonic_acr_length</th>\n",
       "      <th>EDA_Tonic_integral</th>\n",
       "      <th>EDA_Tonic_average_power</th>\n",
       "      <th>EDA_Phasic_rms</th>\n",
       "      <th>EDA_Phasic_acr_length</th>\n",
       "      <th>...</th>\n",
       "      <th>EDA_Tonic_skew</th>\n",
       "      <th>EDA_Tonic_momentum</th>\n",
       "      <th>EDA_Phasic_mean</th>\n",
       "      <th>EDA_Phasic_std</th>\n",
       "      <th>EDA_Phasic_max</th>\n",
       "      <th>EDA_Phasic_min</th>\n",
       "      <th>EDA_Phasic_range</th>\n",
       "      <th>EDA_Phasic_kurtosis</th>\n",
       "      <th>EDA_Phasic_skew</th>\n",
       "      <th>EDA_Phasic_momentum</th>\n",
       "    </tr>\n",
       "  </thead>\n",
       "  <tbody>\n",
       "    <tr>\n",
       "      <th>0.0</th>\n",
       "      <td>1.307896</td>\n",
       "      <td>20999.302353</td>\n",
       "      <td>27434.243861</td>\n",
       "      <td>1.710591</td>\n",
       "      <td>1.308357</td>\n",
       "      <td>20999.302980</td>\n",
       "      <td>27457.360721</td>\n",
       "      <td>1.711798</td>\n",
       "      <td>0.026455</td>\n",
       "      <td>20999.000076</td>\n",
       "      <td>...</td>\n",
       "      <td>2.095446</td>\n",
       "      <td>0.002259</td>\n",
       "      <td>0.001101</td>\n",
       "      <td>0.026432</td>\n",
       "      <td>0.107763</td>\n",
       "      <td>-0.089481</td>\n",
       "      <td>0.197244</td>\n",
       "      <td>5.162175</td>\n",
       "      <td>0.612499</td>\n",
       "      <td>0.000699</td>\n",
       "    </tr>\n",
       "    <tr>\n",
       "      <th>20000.0</th>\n",
       "      <td>1.238578</td>\n",
       "      <td>20999.000103</td>\n",
       "      <td>25907.082826</td>\n",
       "      <td>1.534075</td>\n",
       "      <td>1.237605</td>\n",
       "      <td>20999.000013</td>\n",
       "      <td>25896.209117</td>\n",
       "      <td>1.531667</td>\n",
       "      <td>0.026826</td>\n",
       "      <td>20999.000084</td>\n",
       "      <td>...</td>\n",
       "      <td>0.336681</td>\n",
       "      <td>0.011001</td>\n",
       "      <td>-0.000518</td>\n",
       "      <td>0.026821</td>\n",
       "      <td>0.107763</td>\n",
       "      <td>-0.089481</td>\n",
       "      <td>0.197244</td>\n",
       "      <td>4.875817</td>\n",
       "      <td>0.747219</td>\n",
       "      <td>0.000719</td>\n",
       "    </tr>\n",
       "    <tr>\n",
       "      <th>40000.0</th>\n",
       "      <td>1.169487</td>\n",
       "      <td>20999.000145</td>\n",
       "      <td>24453.214018</td>\n",
       "      <td>1.367700</td>\n",
       "      <td>1.167398</td>\n",
       "      <td>20999.000010</td>\n",
       "      <td>24424.712270</td>\n",
       "      <td>1.362819</td>\n",
       "      <td>0.032283</td>\n",
       "      <td>20999.000127</td>\n",
       "      <td>...</td>\n",
       "      <td>-0.983479</td>\n",
       "      <td>0.010060</td>\n",
       "      <td>-0.001357</td>\n",
       "      <td>0.032254</td>\n",
       "      <td>0.107763</td>\n",
       "      <td>-0.089481</td>\n",
       "      <td>0.197244</td>\n",
       "      <td>2.081785</td>\n",
       "      <td>0.855737</td>\n",
       "      <td>0.001040</td>\n",
       "    </tr>\n",
       "    <tr>\n",
       "      <th>60000.0</th>\n",
       "      <td>1.129684</td>\n",
       "      <td>20999.000132</td>\n",
       "      <td>23684.947286</td>\n",
       "      <td>1.276185</td>\n",
       "      <td>1.127666</td>\n",
       "      <td>20999.000006</td>\n",
       "      <td>23652.997232</td>\n",
       "      <td>1.271631</td>\n",
       "      <td>0.022655</td>\n",
       "      <td>20999.000122</td>\n",
       "      <td>...</td>\n",
       "      <td>-1.316493</td>\n",
       "      <td>0.003004</td>\n",
       "      <td>-0.001521</td>\n",
       "      <td>0.022604</td>\n",
       "      <td>0.099171</td>\n",
       "      <td>-0.040446</td>\n",
       "      <td>0.139617</td>\n",
       "      <td>3.444132</td>\n",
       "      <td>1.518407</td>\n",
       "      <td>0.000511</td>\n",
       "    </tr>\n",
       "    <tr>\n",
       "      <th>80000.0</th>\n",
       "      <td>1.212992</td>\n",
       "      <td>20999.000124</td>\n",
       "      <td>25356.904618</td>\n",
       "      <td>1.471350</td>\n",
       "      <td>1.212625</td>\n",
       "      <td>20999.000006</td>\n",
       "      <td>25359.433891</td>\n",
       "      <td>1.470459</td>\n",
       "      <td>0.021986</td>\n",
       "      <td>20999.000113</td>\n",
       "      <td>...</td>\n",
       "      <td>-0.271838</td>\n",
       "      <td>0.012181</td>\n",
       "      <td>0.000120</td>\n",
       "      <td>0.021985</td>\n",
       "      <td>0.099171</td>\n",
       "      <td>-0.040446</td>\n",
       "      <td>0.139617</td>\n",
       "      <td>3.701695</td>\n",
       "      <td>1.442919</td>\n",
       "      <td>0.000483</td>\n",
       "    </tr>\n",
       "    <tr>\n",
       "      <th>...</th>\n",
       "      <td>...</td>\n",
       "      <td>...</td>\n",
       "      <td>...</td>\n",
       "      <td>...</td>\n",
       "      <td>...</td>\n",
       "      <td>...</td>\n",
       "      <td>...</td>\n",
       "      <td>...</td>\n",
       "      <td>...</td>\n",
       "      <td>...</td>\n",
       "      <td>...</td>\n",
       "      <td>...</td>\n",
       "      <td>...</td>\n",
       "      <td>...</td>\n",
       "      <td>...</td>\n",
       "      <td>...</td>\n",
       "      <td>...</td>\n",
       "      <td>...</td>\n",
       "      <td>...</td>\n",
       "      <td>...</td>\n",
       "      <td>...</td>\n",
       "    </tr>\n",
       "    <tr>\n",
       "      <th>5780000.0</th>\n",
       "      <td>0.892047</td>\n",
       "      <td>20999.000041</td>\n",
       "      <td>18731.226166</td>\n",
       "      <td>0.795748</td>\n",
       "      <td>0.892398</td>\n",
       "      <td>20999.000001</td>\n",
       "      <td>18739.063803</td>\n",
       "      <td>0.796373</td>\n",
       "      <td>0.005386</td>\n",
       "      <td>20999.000040</td>\n",
       "      <td>...</td>\n",
       "      <td>-0.158085</td>\n",
       "      <td>0.000109</td>\n",
       "      <td>-0.000373</td>\n",
       "      <td>0.005373</td>\n",
       "      <td>0.013347</td>\n",
       "      <td>-0.013719</td>\n",
       "      <td>0.027066</td>\n",
       "      <td>-0.720037</td>\n",
       "      <td>0.025223</td>\n",
       "      <td>0.000029</td>\n",
       "    </tr>\n",
       "    <tr>\n",
       "      <th>5800000.0</th>\n",
       "      <td>0.887221</td>\n",
       "      <td>20999.000040</td>\n",
       "      <td>18630.495739</td>\n",
       "      <td>0.787161</td>\n",
       "      <td>0.886614</td>\n",
       "      <td>20999.000002</td>\n",
       "      <td>18618.155856</td>\n",
       "      <td>0.786084</td>\n",
       "      <td>0.005476</td>\n",
       "      <td>20999.000038</td>\n",
       "      <td>...</td>\n",
       "      <td>0.272679</td>\n",
       "      <td>0.000062</td>\n",
       "      <td>0.000588</td>\n",
       "      <td>0.005444</td>\n",
       "      <td>0.013068</td>\n",
       "      <td>-0.013719</td>\n",
       "      <td>0.026787</td>\n",
       "      <td>-0.603541</td>\n",
       "      <td>0.023752</td>\n",
       "      <td>0.000030</td>\n",
       "    </tr>\n",
       "    <tr>\n",
       "      <th>5820000.0</th>\n",
       "      <td>0.916729</td>\n",
       "      <td>20999.000088</td>\n",
       "      <td>19202.031070</td>\n",
       "      <td>0.840392</td>\n",
       "      <td>0.915463</td>\n",
       "      <td>20999.000007</td>\n",
       "      <td>19184.082240</td>\n",
       "      <td>0.838073</td>\n",
       "      <td>0.013858</td>\n",
       "      <td>20999.000080</td>\n",
       "      <td>...</td>\n",
       "      <td>1.742078</td>\n",
       "      <td>0.003540</td>\n",
       "      <td>0.000855</td>\n",
       "      <td>0.013831</td>\n",
       "      <td>0.059136</td>\n",
       "      <td>-0.043795</td>\n",
       "      <td>0.102932</td>\n",
       "      <td>2.533057</td>\n",
       "      <td>0.148651</td>\n",
       "      <td>0.000191</td>\n",
       "    </tr>\n",
       "    <tr>\n",
       "      <th>5840000.0</th>\n",
       "      <td>0.965596</td>\n",
       "      <td>20999.000166</td>\n",
       "      <td>20208.999048</td>\n",
       "      <td>0.932375</td>\n",
       "      <td>0.965569</td>\n",
       "      <td>20999.000013</td>\n",
       "      <td>20218.380497</td>\n",
       "      <td>0.932323</td>\n",
       "      <td>0.021105</td>\n",
       "      <td>20999.000149</td>\n",
       "      <td>...</td>\n",
       "      <td>0.113404</td>\n",
       "      <td>0.005377</td>\n",
       "      <td>-0.000449</td>\n",
       "      <td>0.021100</td>\n",
       "      <td>0.062023</td>\n",
       "      <td>-0.059352</td>\n",
       "      <td>0.121375</td>\n",
       "      <td>0.865320</td>\n",
       "      <td>0.090870</td>\n",
       "      <td>0.000445</td>\n",
       "    </tr>\n",
       "    <tr>\n",
       "      <th>5860000.0</th>\n",
       "      <td>1.001527</td>\n",
       "      <td>20999.062499</td>\n",
       "      <td>20986.605074</td>\n",
       "      <td>1.003057</td>\n",
       "      <td>1.001700</td>\n",
       "      <td>20999.062458</td>\n",
       "      <td>21005.432669</td>\n",
       "      <td>1.003403</td>\n",
       "      <td>0.023197</td>\n",
       "      <td>20999.000164</td>\n",
       "      <td>...</td>\n",
       "      <td>-0.707417</td>\n",
       "      <td>0.002886</td>\n",
       "      <td>-0.000566</td>\n",
       "      <td>0.023190</td>\n",
       "      <td>0.070766</td>\n",
       "      <td>-0.059352</td>\n",
       "      <td>0.130118</td>\n",
       "      <td>0.654261</td>\n",
       "      <td>0.447408</td>\n",
       "      <td>0.000538</td>\n",
       "    </tr>\n",
       "  </tbody>\n",
       "</table>\n",
       "<p>294 rows × 36 columns</p>\n",
       "</div>"
      ],
      "text/plain": [
       "           EDA_Raw_rms  EDA_Raw_acr_length  EDA_Raw_integral  \\\n",
       "0.0           1.307896        20999.302353      27434.243861   \n",
       "20000.0       1.238578        20999.000103      25907.082826   \n",
       "40000.0       1.169487        20999.000145      24453.214018   \n",
       "60000.0       1.129684        20999.000132      23684.947286   \n",
       "80000.0       1.212992        20999.000124      25356.904618   \n",
       "...                ...                 ...               ...   \n",
       "5780000.0     0.892047        20999.000041      18731.226166   \n",
       "5800000.0     0.887221        20999.000040      18630.495739   \n",
       "5820000.0     0.916729        20999.000088      19202.031070   \n",
       "5840000.0     0.965596        20999.000166      20208.999048   \n",
       "5860000.0     1.001527        20999.062499      20986.605074   \n",
       "\n",
       "           EDA_Raw_average_power  EDA_Tonic_rms  EDA_Tonic_acr_length  \\\n",
       "0.0                     1.710591       1.308357          20999.302980   \n",
       "20000.0                 1.534075       1.237605          20999.000013   \n",
       "40000.0                 1.367700       1.167398          20999.000010   \n",
       "60000.0                 1.276185       1.127666          20999.000006   \n",
       "80000.0                 1.471350       1.212625          20999.000006   \n",
       "...                          ...            ...                   ...   \n",
       "5780000.0               0.795748       0.892398          20999.000001   \n",
       "5800000.0               0.787161       0.886614          20999.000002   \n",
       "5820000.0               0.840392       0.915463          20999.000007   \n",
       "5840000.0               0.932375       0.965569          20999.000013   \n",
       "5860000.0               1.003057       1.001700          20999.062458   \n",
       "\n",
       "           EDA_Tonic_integral  EDA_Tonic_average_power  EDA_Phasic_rms  \\\n",
       "0.0              27457.360721                 1.711798        0.026455   \n",
       "20000.0          25896.209117                 1.531667        0.026826   \n",
       "40000.0          24424.712270                 1.362819        0.032283   \n",
       "60000.0          23652.997232                 1.271631        0.022655   \n",
       "80000.0          25359.433891                 1.470459        0.021986   \n",
       "...                       ...                      ...             ...   \n",
       "5780000.0        18739.063803                 0.796373        0.005386   \n",
       "5800000.0        18618.155856                 0.786084        0.005476   \n",
       "5820000.0        19184.082240                 0.838073        0.013858   \n",
       "5840000.0        20218.380497                 0.932323        0.021105   \n",
       "5860000.0        21005.432669                 1.003403        0.023197   \n",
       "\n",
       "           EDA_Phasic_acr_length  ...  EDA_Tonic_skew  EDA_Tonic_momentum  \\\n",
       "0.0                 20999.000076  ...        2.095446            0.002259   \n",
       "20000.0             20999.000084  ...        0.336681            0.011001   \n",
       "40000.0             20999.000127  ...       -0.983479            0.010060   \n",
       "60000.0             20999.000122  ...       -1.316493            0.003004   \n",
       "80000.0             20999.000113  ...       -0.271838            0.012181   \n",
       "...                          ...  ...             ...                 ...   \n",
       "5780000.0           20999.000040  ...       -0.158085            0.000109   \n",
       "5800000.0           20999.000038  ...        0.272679            0.000062   \n",
       "5820000.0           20999.000080  ...        1.742078            0.003540   \n",
       "5840000.0           20999.000149  ...        0.113404            0.005377   \n",
       "5860000.0           20999.000164  ...       -0.707417            0.002886   \n",
       "\n",
       "           EDA_Phasic_mean  EDA_Phasic_std  EDA_Phasic_max  EDA_Phasic_min  \\\n",
       "0.0               0.001101        0.026432        0.107763       -0.089481   \n",
       "20000.0          -0.000518        0.026821        0.107763       -0.089481   \n",
       "40000.0          -0.001357        0.032254        0.107763       -0.089481   \n",
       "60000.0          -0.001521        0.022604        0.099171       -0.040446   \n",
       "80000.0           0.000120        0.021985        0.099171       -0.040446   \n",
       "...                    ...             ...             ...             ...   \n",
       "5780000.0        -0.000373        0.005373        0.013347       -0.013719   \n",
       "5800000.0         0.000588        0.005444        0.013068       -0.013719   \n",
       "5820000.0         0.000855        0.013831        0.059136       -0.043795   \n",
       "5840000.0        -0.000449        0.021100        0.062023       -0.059352   \n",
       "5860000.0        -0.000566        0.023190        0.070766       -0.059352   \n",
       "\n",
       "           EDA_Phasic_range  EDA_Phasic_kurtosis  EDA_Phasic_skew  \\\n",
       "0.0                0.197244             5.162175         0.612499   \n",
       "20000.0            0.197244             4.875817         0.747219   \n",
       "40000.0            0.197244             2.081785         0.855737   \n",
       "60000.0            0.139617             3.444132         1.518407   \n",
       "80000.0            0.139617             3.701695         1.442919   \n",
       "...                     ...                  ...              ...   \n",
       "5780000.0          0.027066            -0.720037         0.025223   \n",
       "5800000.0          0.026787            -0.603541         0.023752   \n",
       "5820000.0          0.102932             2.533057         0.148651   \n",
       "5840000.0          0.121375             0.865320         0.090870   \n",
       "5860000.0          0.130118             0.654261         0.447408   \n",
       "\n",
       "           EDA_Phasic_momentum  \n",
       "0.0                   0.000699  \n",
       "20000.0               0.000719  \n",
       "40000.0               0.001040  \n",
       "60000.0               0.000511  \n",
       "80000.0               0.000483  \n",
       "...                        ...  \n",
       "5780000.0             0.000029  \n",
       "5800000.0             0.000030  \n",
       "5820000.0             0.000191  \n",
       "5840000.0             0.000445  \n",
       "5860000.0             0.000538  \n",
       "\n",
       "[294 rows x 36 columns]"
      ]
     },
     "execution_count": 17,
     "metadata": {},
     "output_type": "execute_result"
    }
   ],
   "source": [
    "pipeline.features"
   ]
  },
  {
   "cell_type": "code",
   "execution_count": 18,
   "metadata": {},
   "outputs": [
    {
     "data": {
      "text/plain": [
       "Signal object with 3 channel(s)\n",
       "EDA_Raw (350Hz) (60.0s) (294 windows) ((294, 21000))\n",
       "EDA_Tonic (350Hz) (60.0s) (294 windows) ((294, 21000))\n",
       "EDA_Phasic (350Hz) (60.0s) (294 windows) ((294, 21000))"
      ]
     },
     "execution_count": 18,
     "metadata": {},
     "output_type": "execute_result"
    }
   ],
   "source": [
    "pipeline.input"
   ]
  },
  {
   "cell_type": "code",
   "execution_count": 15,
   "metadata": {},
   "outputs": [],
   "source": [
    "eda_data = biobss.pipeline.Bio_Channel(sample_data, sampling_rate=700, name=\"EDA_Raw\",timestamp_resolution='s')"
   ]
  },
  {
   "cell_type": "code",
   "execution_count": 6,
   "metadata": {},
   "outputs": [
    {
     "data": {
      "text/plain": [
       "Text(0.5, 0.98, 'EDA_Raw')"
      ]
     },
     "execution_count": 6,
     "metadata": {},
     "output_type": "execute_result"
    },
    {
     "data": {
      "image/png": "[encoded data removed]",
      "text/plain": [
       "<Figure size 432x288 with 1 Axes>"
      ]
     },
     "metadata": {
      "needs_background": "light"
     },
     "output_type": "display_data"
    }
   ],
   "source": [
    "plt.plot(eda_data.timestamp,eda_data.channel)\n",
    "plt.ylabel(\"EDA_Raw(\\u03BCs)\")\n",
    "plt.xlabel(\"Seconds\")\n",
    "plt.suptitle(\"EDA_Raw\")"
   ]
  },
  {
   "cell_type": "code",
   "execution_count": 8,
   "metadata": {},
   "outputs": [
    {
     "name": "stdout",
     "output_type": "stream",
     "text": [
      "Input is set with timestamp resolution of ms\n",
      "Input is set with timestamp resolution of ms\n"
     ]
    }
   ],
   "source": [
    "eda_decomposed=decompose.process(eda_data)"
   ]
  },
  {
   "cell_type": "code",
   "execution_count": 14,
   "metadata": {},
   "outputs": [
    {
     "data": {
      "text/plain": [
       "Text(0.5, 0.98, 'EDA_Tonic')"
      ]
     },
     "execution_count": 14,
     "metadata": {},
     "output_type": "execute_result"
    },
    {
     "data": {
      "image/png": "[encoded data removed]",
      "text/plain": [
       "<Figure size 432x288 with 1 Axes>"
      ]
     },
     "metadata": {
      "needs_background": "light"
     },
     "output_type": "display_data"
    }
   ],
   "source": [
    "plt.plot(eda_decomposed['EDA_Tonic'].timestamp,eda_decomposed['EDA_Tonic'].channel)\n",
    "plt.ylabel(\"EDA_Tonic(\\u03BCs)\")\n",
    "plt.xlabel(\"Seconds\")\n",
    "plt.suptitle(\"EDA_Tonic\")\n"
   ]
  },
  {
   "cell_type": "code",
   "execution_count": 15,
   "metadata": {},
   "outputs": [
    {
     "data": {
      "text/plain": [
       "Text(0.5, 0.98, 'EDA_Phasic')"
      ]
     },
     "execution_count": 15,
     "metadata": {},
     "output_type": "execute_result"
    },
    {
     "data": {
      "image/png": "[encoded data removed]",
      "text/plain": [
       "<Figure size 432x288 with 1 Axes>"
      ]
     },
     "metadata": {
      "needs_background": "light"
     },
     "output_type": "display_data"
    }
   ],
   "source": [
    "plt.plot(eda_decomposed['EDA_Phasic'].timestamp,eda_decomposed['EDA_Phasic'].channel)\n",
    "plt.ylabel(\"EDA_Tonic(\\u03BCs)\")\n",
    "plt.xlabel(\"Seconds\")\n",
    "plt.suptitle(\"EDA_Phasic\")\n"
   ]
  }
 ],
 "metadata": {
  "kernelspec": {
   "display_name": "Python 3.9.12 ('biobss_env')",
   "language": "python",
   "name": "python3"
  },
  "language_info": {
   "codemirror_mode": {
    "name": "ipython",
    "version": 3
   },
   "file_extension": ".py",
   "mimetype": "text/x-python",
   "name": "python",
   "nbconvert_exporter": "python",
   "pygments_lexer": "ipython3",
   "version": "3.9.12"
  },
  "orig_nbformat": 4,
  "vscode": {
   "interpreter": {
    "hash": "e27b256788fe0b0c1132d8c9dece7980aa3715de4dddb9ae90f0458b910c8ace"
   }
  }
 },
 "nbformat": 4,
 "nbformat_minor": 2
}
