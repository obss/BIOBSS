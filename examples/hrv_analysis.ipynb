{
 "cells": [
  {
   "cell_type": "markdown",
   "metadata": {},
   "source": [
    "__BIOBSS - Heart Rate Variability (HRV) Analysis__\n",
    "\n",
    "_This notebook includes guidelines to help using BIOBSS for calculating heart rate variability parameters from PPG or ECG signal._"
   ]
  },
  {
   "cell_type": "code",
   "execution_count": 1,
   "metadata": {},
   "outputs": [],
   "source": [
    "#Import BIOBSS and the other required packages\n",
    "\n",
    "import biobss\n",
    "import os\n",
    "import numpy as np\n",
    "import matplotlib.pyplot as plt\n",
    "import pandas as pd\n",
    "\n",
    "#help(biobss)"
   ]
  },
  {
   "cell_type": "markdown",
   "metadata": {},
   "source": [
    "# Table of Contents\n",
    "1.[PPG Sample Data](#ppg_data)<br>\n",
    "2.[PPG Preprocessing](#ppg_pre)<br>\n",
    "3.[Heart rate variability analysis using PPG signal](#hrv_ppg)<br>\n",
    "4.[ECG Sample Data](#ecg_data)<br>\n",
    "5.[ECG Preprocessing](#ecg_pre)<br>\n",
    "6.[Heart rate variability analysis using ECG signal](#hrv_ecg)<br>"
   ]
  },
  {
   "cell_type": "markdown",
   "metadata": {},
   "source": [
    "### __PPG Sample Data__\n",
    "<a id=\"ppg_data\"></a>"
   ]
  },
  {
   "cell_type": "code",
   "execution_count": 2,
   "metadata": {},
   "outputs": [],
   "source": [
    "#Load the sample data. The sample data file contains 100 10-s PPG segments. The samling rate of the segments is 64 Hz. \n",
    "\n",
    "data_dir=r'C:\\Users\\ipek.karakus\\Desktop\\biobss\\sample_data'\n",
    "\n",
    "filename='ppg_sample_data.csv'\n",
    "\n",
    "data=pd.read_csv(os.path.join(data_dir,filename), header=None)\n",
    "sig=np.asarray(data.iloc[0,:]) #The first segment is selected to be used as sample signal. \n",
    "fs=64\n",
    "L=10"
   ]
  },
  {
   "cell_type": "markdown",
   "metadata": {},
   "source": [
    "### __PPG Preprocessing__\n",
    "<a id=\"ppg_pre\"></a>"
   ]
  },
  {
   "cell_type": "code",
   "execution_count": 3,
   "metadata": {},
   "outputs": [
    {
     "name": "stderr",
     "output_type": "stream",
     "text": [
      "c:\\Users\\ipek.karakus\\.conda\\envs\\biolib\\lib\\site-packages\\biobss\\ppgtools\\ppg_filter.py:12: UserWarning: Default parameters will be used for filtering. 2th order None bandpass filter with f1=0.5 and f2=5.\n",
      "  warnings.warn(f\"Default parameters will be used for filtering. {N}th order {method} {filter_type} filter with f1={f_lower} and f2={f_upper}.\")\n"
     ]
    }
   ],
   "source": [
    "#PPG signals can be filtered\n",
    "filtered_ppg=biobss.preprocess.filter_signal(sig, fs, signal_type='PPG')\n",
    "\n",
    "#Signal peaks can be detected as below\n",
    "\n",
    "info=biobss.preprocess.peak_detection(sig,fs,'peakdet',delta=0.01)\n",
    "\n",
    "locs_peaks=info['Peak_locs']\n",
    "peaks=info['Peaks']\n",
    "locs_onsets=info['Trough_locs']\n",
    "onsets=info['Troughs']\n",
    "\n",
    "#and the results can be corrected considering the order of peaks and onsets\n",
    "info=biobss.ppgtools.peak_control(locs_peaks,peaks,locs_onsets,onsets)\n",
    "\n",
    "locs_peaks=info['Peak_locs']\n",
    "peaks=info['Peaks']\n",
    "locs_onsets=info['Trough_locs']\n",
    "onsets=info['Troughs']"
   ]
  },
  {
   "cell_type": "markdown",
   "metadata": {},
   "source": [
    "### __Heart rate variability analysis using PPG signal__\n",
    "<a id=\"hrv_ppg\"></a>"
   ]
  },
  {
   "cell_type": "code",
   "execution_count": 8,
   "metadata": {},
   "outputs": [
    {
     "name": "stderr",
     "output_type": "stream",
     "text": [
      "C:\\Users\\ipek.karakus\\AppData\\Roaming\\Python\\Python38\\site-packages\\scipy\\signal\\_spectral_py.py:1999: UserWarning: nperseg = 256 is greater than input length  = 29, using nperseg = 29\n",
      "  warnings.warn('nperseg = {0:d} is greater than input length '\n"
     ]
    },
    {
     "data": {
      "text/plain": [
       "{'hrv_vlf': 0.0,\n",
       " 'hrv_lf': 0.0,\n",
       " 'hrv_hf': 0.0,\n",
       " 'hrv_lf_hf_ratio': nan,\n",
       " 'hrv_total_power': 0.0,\n",
       " 'hrv_lfnu': nan,\n",
       " 'hrv_hfnu': nan,\n",
       " 'hrv_lnLF': -inf,\n",
       " 'hrv_lnHF': -inf,\n",
       " 'hrv_vlf_peak': 0.0,\n",
       " 'hrv_lf_peak': 0.13793103448275862,\n",
       " 'hrv_hf_peak': 0.27586206896551724,\n",
       " 'hrv_mean_nni': 785.9375,\n",
       " 'hrv_sdnn': 44.834040034702795,\n",
       " 'hrv_rmssd': 38.97559777889522,\n",
       " 'hrv_sdsd': 38.626033786956576,\n",
       " 'hrv_nni_50': 2,\n",
       " 'hrv_pnni_50': 20.0,\n",
       " 'hrv_nni_20': 5,\n",
       " 'hrv_pnni_20': 50.0,\n",
       " 'hrv_cvnni': 0.05704529944773318,\n",
       " 'hrv_cvsd': 0.049591217849886564,\n",
       " 'hrv_median_nni': 781.25,\n",
       " 'hrv_range_nni': 156.25,\n",
       " 'hrv_mean_hr': 76.5541759389603,\n",
       " 'hrv_min_hr': 67.36842105263158,\n",
       " 'hrv_max_hr': 81.70212765957447,\n",
       " 'hrv_std_hr': 3.931740342488069,\n",
       " 'hrv_mad_nni': 15.625,\n",
       " 'hrv_mcv_nni': 0.02,\n",
       " 'hrv_iqr_nni': 31.25,\n",
       " 'hrv_SD1': 27.312730421097694,\n",
       " 'hrv_SD2': 46.875,\n",
       " 'hrv_SD2_SD1': 1.7162326606420664,\n",
       " 'hrv_CSI': 1.7162326606420664,\n",
       " 'hrv_CVI': 4.311426381603281,\n",
       " 'hrv_CSI_mofidied': 321.7936238703874,\n",
       " 'hrv_ApEn': -0.11778303565638382,\n",
       " 'hrv_SampEn': nan}"
      ]
     },
     "execution_count": 8,
     "metadata": {},
     "output_type": "execute_result"
    }
   ],
   "source": [
    "#HRV parameters can be calculated using either ppi intervals\n",
    "ppi = 1000*np.diff(locs_peaks)/fs\n",
    "biobss.hrvtools.get_hrv_features(fs,input_type='ppi',ppi=ppi)"
   ]
  },
  {
   "cell_type": "code",
   "execution_count": 6,
   "metadata": {},
   "outputs": [
    {
     "name": "stderr",
     "output_type": "stream",
     "text": [
      "C:\\Users\\ipek.karakus\\AppData\\Roaming\\Python\\Python38\\site-packages\\scipy\\signal\\_spectral_py.py:1999: UserWarning: nperseg = 256 is greater than input length  = 29, using nperseg = 29\n",
      "  warnings.warn('nperseg = {0:d} is greater than input length '\n"
     ]
    },
    {
     "data": {
      "text/plain": [
       "{'hrv_vlf': 0.0,\n",
       " 'hrv_lf': 0.0,\n",
       " 'hrv_hf': 0.0,\n",
       " 'hrv_lf_hf_ratio': nan,\n",
       " 'hrv_total_power': 0.0,\n",
       " 'hrv_lfnu': nan,\n",
       " 'hrv_hfnu': nan,\n",
       " 'hrv_lnLF': -inf,\n",
       " 'hrv_lnHF': -inf,\n",
       " 'hrv_vlf_peak': 0.0,\n",
       " 'hrv_lf_peak': 0.13793103448275862,\n",
       " 'hrv_hf_peak': 0.27586206896551724,\n",
       " 'hrv_mean_nni': 785.9375,\n",
       " 'hrv_sdnn': 44.834040034702795,\n",
       " 'hrv_rmssd': 38.97559777889522,\n",
       " 'hrv_sdsd': 38.626033786956576,\n",
       " 'hrv_nni_50': 2,\n",
       " 'hrv_pnni_50': 20.0,\n",
       " 'hrv_nni_20': 5,\n",
       " 'hrv_pnni_20': 50.0,\n",
       " 'hrv_cvnni': 0.05704529944773318,\n",
       " 'hrv_cvsd': 0.049591217849886564,\n",
       " 'hrv_median_nni': 781.25,\n",
       " 'hrv_range_nni': 156.25,\n",
       " 'hrv_mean_hr': 76.5541759389603,\n",
       " 'hrv_min_hr': 67.36842105263158,\n",
       " 'hrv_max_hr': 81.70212765957447,\n",
       " 'hrv_std_hr': 3.931740342488069,\n",
       " 'hrv_mad_nni': 15.625,\n",
       " 'hrv_mcv_nni': 0.02,\n",
       " 'hrv_iqr_nni': 31.25,\n",
       " 'hrv_SD1': 27.312730421097694,\n",
       " 'hrv_SD2': 46.875,\n",
       " 'hrv_SD2_SD1': 1.7162326606420664,\n",
       " 'hrv_CSI': 1.7162326606420664,\n",
       " 'hrv_CVI': 4.311426381603281,\n",
       " 'hrv_CSI_mofidied': 321.7936238703874,\n",
       " 'hrv_ApEn': -0.11778303565638382,\n",
       " 'hrv_SampEn': nan}"
      ]
     },
     "execution_count": 6,
     "metadata": {},
     "output_type": "execute_result"
    }
   ],
   "source": [
    "#or peak locations\n",
    "biobss.hrvtools.get_hrv_features(fs,input_type='peaks',peaks_locs=locs_peaks)"
   ]
  },
  {
   "cell_type": "code",
   "execution_count": 7,
   "metadata": {},
   "outputs": [
    {
     "name": "stderr",
     "output_type": "stream",
     "text": [
      "C:\\Users\\ipek.karakus\\AppData\\Roaming\\Python\\Python38\\site-packages\\scipy\\signal\\_spectral_py.py:1999: UserWarning: nperseg = 256 is greater than input length  = 33, using nperseg = 33\n",
      "  warnings.warn('nperseg = {0:d} is greater than input length '\n"
     ]
    },
    {
     "data": {
      "text/plain": [
       "{'hrv_vlf': 0.0,\n",
       " 'hrv_lf': 0.0,\n",
       " 'hrv_hf': 85.84043896756911,\n",
       " 'hrv_lf_hf_ratio': 0.0,\n",
       " 'hrv_total_power': 85.84043896756911,\n",
       " 'hrv_lfnu': 0.0,\n",
       " 'hrv_hfnu': 100.0,\n",
       " 'hrv_lnLF': -inf,\n",
       " 'hrv_lnHF': 4.452490212097452,\n",
       " 'hrv_vlf_peak': 0.0,\n",
       " 'hrv_lf_peak': 0.12121212121212122,\n",
       " 'hrv_hf_peak': 0.24242424242424243,\n",
       " 'hrv_mean_nni': 791.1931818181819,\n",
       " 'hrv_sdnn': 45.43234543102123,\n",
       " 'hrv_rmssd': 44.19417382415922,\n",
       " 'hrv_sdsd': 46.468141714990544,\n",
       " 'hrv_nni_50': 3,\n",
       " 'hrv_pnni_50': 27.272727272727273,\n",
       " 'hrv_nni_20': 7,\n",
       " 'hrv_pnni_20': 63.63636363636363,\n",
       " 'hrv_cvnni': 0.05742256944962109,\n",
       " 'hrv_cvsd': 0.05585762723915277,\n",
       " 'hrv_median_nni': 781.25,\n",
       " 'hrv_range_nni': 140.625,\n",
       " 'hrv_mean_hr': 76.0569743306736,\n",
       " 'hrv_min_hr': 68.57142857142857,\n",
       " 'hrv_max_hr': 81.70212765957447,\n",
       " 'hrv_std_hr': 4.063203935462073,\n",
       " 'hrv_mad_nni': 15.625,\n",
       " 'hrv_mcv_nni': 0.02,\n",
       " 'hrv_iqr_nni': 54.6875,\n",
       " 'hrv_SD1': 32.85793811580729,\n",
       " 'hrv_SD2': 48.07491983005968,\n",
       " 'hrv_SD2_SD1': 1.4631143214349107,\n",
       " 'hrv_CSI': 1.4631143214349107,\n",
       " 'hrv_CVI': 4.402678858669019,\n",
       " 'hrv_CSI_mofidied': 281.356414820782,\n",
       " 'hrv_ApEn': -0.10536051565782634,\n",
       " 'hrv_SampEn': nan}"
      ]
     },
     "execution_count": 7,
     "metadata": {},
     "output_type": "execute_result"
    }
   ],
   "source": [
    "#or onset locations\n",
    "biobss.hrvtools.get_hrv_features(fs,input_type='troughs',troughs_locs=locs_onsets)"
   ]
  },
  {
   "cell_type": "markdown",
   "metadata": {},
   "source": [
    "### __ECG Sample Data__\n",
    "<a id=\"ecg_data\"></a>"
   ]
  },
  {
   "cell_type": "code",
   "execution_count": 9,
   "metadata": {},
   "outputs": [],
   "source": [
    "#Load the sample data. The sample data file contains 100 10-s PPG segments. The samling rate of the segments is 64 Hz. \n",
    "\n",
    "data_dir=r'C:\\Users\\ipek.karakus\\Desktop\\biobss\\sample_data'\n",
    "\n",
    "filename='ecg_sample_data.csv'\n",
    "fs=256\n",
    "L=10\n",
    "data=pd.read_csv(os.path.join(data_dir,filename))\n",
    "sig=np.asarray(data.iloc[:fs*L,0]) #The first column is selected to be used as sample signal. \n"
   ]
  },
  {
   "cell_type": "markdown",
   "metadata": {},
   "source": [
    "### __ECG Preprocessing__\n",
    "<a id=\"ecg_pre\"></a>"
   ]
  },
  {
   "cell_type": "code",
   "execution_count": 11,
   "metadata": {},
   "outputs": [],
   "source": [
    "#ECG signals can be filtered using the method below using pre-determined filter parameters\n",
    "\n",
    "filtered_ecg=biobss.preprocess.filter_signal(sig, sampling_rate=fs, signal_type='ECG', method='pantompkins')\n",
    "\n",
    "#Signal peaks can be detected as below\n",
    "\n",
    "locs_peaks=biobss.ecgtools.ecg_peaks(filtered_ecg,fs,'pantompkins')\n",
    "peaks = filtered_ecg[locs_peaks]"
   ]
  },
  {
   "cell_type": "markdown",
   "metadata": {},
   "source": [
    "### __Heart rate variability analysis using ECG signal__\n",
    "<a id=\"hrv_ecg\"></a>"
   ]
  },
  {
   "cell_type": "code",
   "execution_count": 12,
   "metadata": {},
   "outputs": [
    {
     "name": "stderr",
     "output_type": "stream",
     "text": [
      "C:\\Users\\ipek.karakus\\AppData\\Roaming\\Python\\Python38\\site-packages\\scipy\\signal\\_spectral_py.py:1999: UserWarning: nperseg = 256 is greater than input length  = 35, using nperseg = 35\n",
      "  warnings.warn('nperseg = {0:d} is greater than input length '\n"
     ]
    },
    {
     "data": {
      "text/plain": [
       "{'hrv_vlf': 0.0,\n",
       " 'hrv_lf': 0.0,\n",
       " 'hrv_hf': 24.03756872697646,\n",
       " 'hrv_lf_hf_ratio': 0.0,\n",
       " 'hrv_total_power': 24.03756872697646,\n",
       " 'hrv_lfnu': 0.0,\n",
       " 'hrv_hfnu': 100.0,\n",
       " 'hrv_lnLF': -inf,\n",
       " 'hrv_lnHF': 3.179617970067398,\n",
       " 'hrv_vlf_peak': 0.0,\n",
       " 'hrv_lf_peak': 0.11428571428571428,\n",
       " 'hrv_hf_peak': 0.34285714285714286,\n",
       " 'hrv_mean_nni': 647.6004464285714,\n",
       " 'hrv_sdnn': 11.173048644453868,\n",
       " 'hrv_rmssd': 14.291011959848696,\n",
       " 'hrv_sdsd': 14.821856746030157,\n",
       " 'hrv_nni_50': 0,\n",
       " 'hrv_pnni_50': 0.0,\n",
       " 'hrv_nni_20': 2,\n",
       " 'hrv_pnni_20': 14.285714285714286,\n",
       " 'hrv_cvnni': 0.017252997131289385,\n",
       " 'hrv_cvsd': 0.02206763759762935,\n",
       " 'hrv_median_nni': 646.484375,\n",
       " 'hrv_range_nni': 39.0625,\n",
       " 'hrv_mean_hr': 92.67502588509466,\n",
       " 'hrv_min_hr': 89.30232558139535,\n",
       " 'hrv_max_hr': 94.81481481481481,\n",
       " 'hrv_std_hr': 1.522366106775923,\n",
       " 'hrv_mad_nni': 7.8125,\n",
       " 'hrv_mcv_nni': 0.012084592145015106,\n",
       " 'hrv_iqr_nni': 13.671875,\n",
       " 'hrv_SD1': 10.480635414893499,\n",
       " 'hrv_SD2': 11.672752944703891,\n",
       " 'hrv_SD2_SD1': 1.1137447762104513,\n",
       " 'hrv_CSI': 1.1137447762104513,\n",
       " 'hrv_CVI': 3.291680890020475,\n",
       " 'hrv_CSI_mofidied': 52.00187046463649,\n",
       " 'hrv_ApEn': 0.017708817790046627,\n",
       " 'hrv_SampEn': 0.6931471805599453}"
      ]
     },
     "execution_count": 12,
     "metadata": {},
     "output_type": "execute_result"
    }
   ],
   "source": [
    "#HRV parameters can be calculated using either ppi intervals\n",
    "rri = 1000*np.diff(locs_peaks)/fs\n",
    "biobss.hrvtools.get_hrv_features(fs,input_type='ppi',ppi=rri)"
   ]
  },
  {
   "cell_type": "code",
   "execution_count": 14,
   "metadata": {},
   "outputs": [
    {
     "name": "stderr",
     "output_type": "stream",
     "text": [
      "C:\\Users\\ipek.karakus\\AppData\\Roaming\\Python\\Python38\\site-packages\\scipy\\signal\\_spectral_py.py:1999: UserWarning: nperseg = 256 is greater than input length  = 35, using nperseg = 35\n",
      "  warnings.warn('nperseg = {0:d} is greater than input length '\n"
     ]
    },
    {
     "data": {
      "text/plain": [
       "{'hrv_vlf': 0.0,\n",
       " 'hrv_lf': 0.0,\n",
       " 'hrv_hf': 24.03756872697646,\n",
       " 'hrv_lf_hf_ratio': 0.0,\n",
       " 'hrv_total_power': 24.03756872697646,\n",
       " 'hrv_lfnu': 0.0,\n",
       " 'hrv_hfnu': 100.0,\n",
       " 'hrv_lnLF': -inf,\n",
       " 'hrv_lnHF': 3.179617970067398,\n",
       " 'hrv_vlf_peak': 0.0,\n",
       " 'hrv_lf_peak': 0.11428571428571428,\n",
       " 'hrv_hf_peak': 0.34285714285714286,\n",
       " 'hrv_mean_nni': 647.6004464285714,\n",
       " 'hrv_sdnn': 11.173048644453868,\n",
       " 'hrv_rmssd': 14.291011959848696,\n",
       " 'hrv_sdsd': 14.821856746030157,\n",
       " 'hrv_nni_50': 0,\n",
       " 'hrv_pnni_50': 0.0,\n",
       " 'hrv_nni_20': 2,\n",
       " 'hrv_pnni_20': 14.285714285714286,\n",
       " 'hrv_cvnni': 0.017252997131289385,\n",
       " 'hrv_cvsd': 0.02206763759762935,\n",
       " 'hrv_median_nni': 646.484375,\n",
       " 'hrv_range_nni': 39.0625,\n",
       " 'hrv_mean_hr': 92.67502588509466,\n",
       " 'hrv_min_hr': 89.30232558139535,\n",
       " 'hrv_max_hr': 94.81481481481481,\n",
       " 'hrv_std_hr': 1.522366106775923,\n",
       " 'hrv_mad_nni': 7.8125,\n",
       " 'hrv_mcv_nni': 0.012084592145015106,\n",
       " 'hrv_iqr_nni': 13.671875,\n",
       " 'hrv_SD1': 10.480635414893499,\n",
       " 'hrv_SD2': 11.672752944703891,\n",
       " 'hrv_SD2_SD1': 1.1137447762104513,\n",
       " 'hrv_CSI': 1.1137447762104513,\n",
       " 'hrv_CVI': 3.291680890020475,\n",
       " 'hrv_CSI_mofidied': 52.00187046463649,\n",
       " 'hrv_ApEn': 0.017708817790046627,\n",
       " 'hrv_SampEn': 0.6931471805599453}"
      ]
     },
     "execution_count": 14,
     "metadata": {},
     "output_type": "execute_result"
    }
   ],
   "source": [
    "#or peak locations\n",
    "biobss.hrvtools.get_hrv_features(fs,input_type='peaks',peaks_locs=locs_peaks)\n"
   ]
  }
 ],
 "metadata": {
  "kernelspec": {
   "display_name": "Python 3.8.5 64-bit ('biolib')",
   "language": "python",
   "name": "python3"
  },
  "language_info": {
   "codemirror_mode": {
    "name": "ipython",
    "version": 3
   },
   "file_extension": ".py",
   "mimetype": "text/x-python",
   "name": "python",
   "nbconvert_exporter": "python",
   "pygments_lexer": "ipython3",
   "version": "3.8.13"
  },
  "orig_nbformat": 4,
  "vscode": {
   "interpreter": {
    "hash": "3a4bcfb23c7e6ad66c655087280fa9f4d0273121ae7909f7735d1e02563a2438"
   }
  }
 },
 "nbformat": 4,
 "nbformat_minor": 2
}
