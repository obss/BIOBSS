{
 "cells": [
  {
   "cell_type": "code",
   "execution_count": 1,
   "metadata": {},
   "outputs": [],
   "source": [
    "import sys\n",
    "import pandas as pd\n",
    "import numpy as np\n",
    "sys.path.append(\"../\")\n",
    "import biobss"
   ]
  },
  {
   "cell_type": "code",
   "execution_count": 2,
   "metadata": {},
   "outputs": [],
   "source": [
    "import neurokit2 as nk\n",
    "sample_data = pd.read_pickle(\"..\\sample_data\\\\EDA_Chest.pkl\")\n",
    "sample_data = sample_data.flatten()"
   ]
  },
  {
   "cell_type": "code",
   "execution_count": 3,
   "metadata": {},
   "outputs": [
    {
     "data": {
      "text/plain": [
       "<module 'biobss.pipelinev2' from 'c:\\\\Users\\\\Cagatay\\\\Desktop\\\\Biobss\\\\biobss_pipeline_refactor\\\\biobss\\\\examples\\\\..\\\\biobss\\\\pipelinev2\\\\__init__.py'>"
      ]
     },
     "execution_count": 3,
     "metadata": {},
     "output_type": "execute_result"
    }
   ],
   "source": [
    "biobss.pipelinev2"
   ]
  },
  {
   "cell_type": "code",
   "execution_count": 4,
   "metadata": {},
   "outputs": [],
   "source": [
    "from biobss import pipelinev2 as pipeline"
   ]
  },
  {
   "cell_type": "code",
   "execution_count": 5,
   "metadata": {},
   "outputs": [],
   "source": [
    "decompose = pipeline.Bio_Process(\n",
    "    process_method=biobss.edatools.eda_decompose, modality=\"EDA\", sigtype=\"EDA\", method=\"highpass\")\n",
    "\n",
    "filtering=pipeline.Bio_Process(\n",
    "    process_method=biobss.signaltools.filter_signal, modality=\"EDA\", sigtype=\"EDA\",N=2, filter_type=\"highpass\",f1=0.5,fs=700)\n",
    "\n",
    "normalize = pipeline.Bio_Process(\n",
    "    process_method=biobss.signaltools.normalize_signal, modality=\"EDA\", sigtype=\"EDA\")\n",
    "resample = pipeline.Bio_Process(\n",
    "    process_method=biobss.signaltools.resample_signal_object, modality=\"EDA\", sigtype=\"EDA\", target_sample_rate=350)\n",
    "signal_features = pipeline.Feature(name=\"signal_features\", function=biobss.edatools.signal_features.get_signal_features, parameters={\n",
    "                                           \"modality\": \"EDA\", \"sigtype\": \"EDA\"}, input_signals={'EDA_Raw':'EDA_Raw', 'EDA_Tonic':'EDA_Tonic', 'EDA_Phasic':'EDA_Phasic'})\n",
    "stat_features = pipeline.Feature(name=\"stat_features\", function=biobss.common.stat_features.get_stat_features, parameters={\n",
    "                                         \"modality\": \"EDA\", \"sigtype\": \"EDA\"}, input_signals={'EDA_Raw':'EDA_Raw', 'EDA_Tonic':'EDA_Tonic', 'EDA_Phasic':'EDA_Phasic'})\n",
    "corr_features = pipeline.Feature(name=\"corr_features\", function=biobss.common.correlation_features, parameters={\n",
    "                                        \"modality\": \"EDA\", \"sigtype\": \"EDA\",\"signal_names\":['EDA_Raw','EDA_Tonic','EDA_Phasic']}, input_signals={'EDA':['EDA_Raw','EDA_Tonic','EDA_Phasic']})"
   ]
  },
  {
   "cell_type": "code",
   "execution_count": 6,
   "metadata": {},
   "outputs": [],
   "source": [
    "pipe = pipeline.Bio_Pipeline(windowed_process=True,window_size=60, step_size=30, features_list=[])\n"
   ]
  },
  {
   "cell_type": "code",
   "execution_count": 7,
   "metadata": {},
   "outputs": [],
   "source": [
    "pipe.preprocess_queue.add_process(normalize)\n",
    "pipe.process_queue.add_process(resample)\n",
    "pipe.process_queue.add_process(decompose)\n",
    "pipe.add_feature_step(signal_features)\n",
    "pipe.add_feature_step(stat_features)\n",
    "pipe.add_feature_step(corr_features)\n"
   ]
  },
  {
   "cell_type": "code",
   "execution_count": 8,
   "metadata": {},
   "outputs": [
    {
     "ename": "ValueError",
     "evalue": "If signal is not a Bio_Data object, sampling_rate must be specified",
     "output_type": "error",
     "traceback": [
      "\u001b[1;31m---------------------------------------------------------------------------\u001b[0m",
      "\u001b[1;31mValueError\u001b[0m                                Traceback (most recent call last)",
      "\u001b[1;32mc:\\Users\\Cagatay\\Desktop\\Biobss\\biobss_pipeline_refactor\\biobss\\examples\\new_pipeline.ipynb Cell 8\u001b[0m in \u001b[0;36m<cell line: 1>\u001b[1;34m()\u001b[0m\n\u001b[1;32m----> <a href='vscode-notebook-cell:/c%3A/Users/Cagatay/Desktop/Biobss/biobss_pipeline_refactor/biobss/examples/new_pipeline.ipynb#X10sZmlsZQ%3D%3D?line=0'>1</a>\u001b[0m pipe\u001b[39m.\u001b[39;49mset_input(sample_data)\n",
      "File \u001b[1;32mc:\\Users\\Cagatay\\Desktop\\Biobss\\biobss_pipeline_refactor\\biobss\\examples\\..\\biobss\\pipelinev2\\pipeline.py:55\u001b[0m, in \u001b[0;36mBio_Pipeline.set_input\u001b[1;34m(self, signal, sampling_rate, name, modality, timestamp, timestamp_start, timestamp_resolution)\u001b[0m\n\u001b[0;32m     53\u001b[0m \u001b[39melse\u001b[39;00m:\n\u001b[0;32m     54\u001b[0m     \u001b[39mif\u001b[39;00m sampling_rate \u001b[39mis\u001b[39;00m \u001b[39mNone\u001b[39;00m:\n\u001b[1;32m---> 55\u001b[0m         \u001b[39mraise\u001b[39;00m \u001b[39mValueError\u001b[39;00m(\n\u001b[0;32m     56\u001b[0m             \u001b[39m\"\u001b[39m\u001b[39mIf signal is not a Bio_Data object, sampling_rate must be specified\u001b[39m\u001b[39m\"\u001b[39m\n\u001b[0;32m     57\u001b[0m         )\n\u001b[0;32m     58\u001b[0m     \u001b[39mif\u001b[39;00m name \u001b[39mis\u001b[39;00m \u001b[39mNone\u001b[39;00m:\n\u001b[0;32m     59\u001b[0m         \u001b[39mraise\u001b[39;00m \u001b[39mValueError\u001b[39;00m(\n\u001b[0;32m     60\u001b[0m             \u001b[39m\"\u001b[39m\u001b[39mIf signal is not a Bio_Data object, name must be specified\u001b[39m\u001b[39m\"\u001b[39m\n\u001b[0;32m     61\u001b[0m         )\n",
      "\u001b[1;31mValueError\u001b[0m: If signal is not a Bio_Data object, sampling_rate must be specified"
     ]
    }
   ],
   "source": [
    "pipe.set_input(sample_data,sampling_rate=256)"
   ]
  }
 ],
 "metadata": {
  "kernelspec": {
   "display_name": "Python 3.9.12 ('biobss_env')",
   "language": "python",
   "name": "python3"
  },
  "language_info": {
   "codemirror_mode": {
    "name": "ipython",
    "version": 3
   },
   "file_extension": ".py",
   "mimetype": "text/x-python",
   "name": "python",
   "nbconvert_exporter": "python",
   "pygments_lexer": "ipython3",
   "version": "3.9.12"
  },
  "orig_nbformat": 4,
  "vscode": {
   "interpreter": {
    "hash": "e27b256788fe0b0c1132d8c9dece7980aa3715de4dddb9ae90f0458b910c8ace"
   }
  }
 },
 "nbformat": 4,
 "nbformat_minor": 2
}
