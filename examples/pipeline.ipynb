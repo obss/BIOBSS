{
 "cells": [
  {
   "cell_type": "code",
   "execution_count": 1,
   "metadata": {},
   "outputs": [],
   "source": [
    "import sys\n",
    "import pandas as pd\n",
    "import numpy as np\n"
   ]
  },
  {
   "cell_type": "code",
   "execution_count": 2,
   "metadata": {},
   "outputs": [],
   "source": [
    "sys.path.append(\"../\")\n"
   ]
  },
  {
   "cell_type": "code",
   "execution_count": 3,
   "metadata": {},
   "outputs": [],
   "source": [
    "import biobss\n"
   ]
  },
  {
   "cell_type": "code",
   "execution_count": 4,
   "metadata": {},
   "outputs": [],
   "source": [
    "import neurokit2 as nk\n",
    "sample_data = pd.read_pickle(\"..\\sample_data\\\\EDA_Chest.pkl\")\n",
    "sample_data = sample_data.flatten()\n"
   ]
  },
  {
   "cell_type": "markdown",
   "metadata": {},
   "source": []
  },
  {
   "cell_type": "code",
   "execution_count": 5,
   "metadata": {},
   "outputs": [],
   "source": [
    "decompose = biobss.pipeline.Bio_Process(\n",
    "    process_method=biobss.edatools.eda_decompose, modality=\"EDA\", sigtype=\"EDA\", method=\"highpass\")\n",
    "normalize = biobss.pipeline.Bio_Process(\n",
    "    process_method=biobss.signaltools.normalize_signal, modality=\"EDA\", sigtype=\"EDA\")\n",
    "resample = biobss.pipeline.Bio_Process(\n",
    "    process_method=biobss.signaltools.resample_signal_object, modality=\"EDA\", sigtype=\"EDA\", target_sample_rate=350)\n",
    "signal_features = biobss.pipeline.Feature(name=\"signal_features\", function=biobss.edatools.signal_features.get_signal_features, parameters={\n",
    "                                           \"modality\": \"EDA\", \"sigtype\": \"EDA\"}, input_signals={'EDA_Raw':'EDA_Raw', 'EDA_Tonic':'EDA_Tonic', 'EDA_Phasic':'EDA_Phasic'})\n",
    "stat_features = biobss.pipeline.Feature(name=\"stat_features\", function=biobss.common.stat_features.get_stat_features, parameters={\n",
    "                                         \"modality\": \"EDA\", \"sigtype\": \"EDA\"}, input_signals={'EDA_Raw':'EDA_Raw', 'EDA_Tonic':'EDA_Tonic', 'EDA_Phasic':'EDA_Phasic'})\n",
    "corr_features = biobss.pipeline.Feature(name=\"corr_features\", function=biobss.common.correlation_features, parameters={\n",
    "                                        \"modality\": \"EDA\", \"sigtype\": \"EDA\",\"signal_names\":['EDA_Raw','EDA_Tonic','EDA_Phasic']}, input_signals={'EDA':['EDA_Raw','EDA_Tonic','EDA_Phasic']})\n"
   ]
  },
  {
   "cell_type": "code",
   "execution_count": 6,
   "metadata": {},
   "outputs": [],
   "source": [
    "pipe = biobss.pipeline.Bio_Pipeline(modality=\"EDA\", sigtype=\"EDA\", windowed_process=True,\n",
    "                                    window_size=60, step_size=30, features_list=[])\n"
   ]
  },
  {
   "cell_type": "code",
   "execution_count": 7,
   "metadata": {},
   "outputs": [],
   "source": [
    "pipe.preprocess_queue.add_process(normalize)\n",
    "pipe.process_queue.add_process(decompose)\n",
    "pipe.process_queue.add_process(resample)\n",
    "pipe.add_feature_step(signal_features)\n",
    "pipe.add_feature_step(stat_features)\n",
    "pipe.add_feature_step(corr_features)\n"
   ]
  },
  {
   "cell_type": "code",
   "execution_count": 8,
   "metadata": {},
   "outputs": [
    {
     "data": {
      "text/plain": [
       "[<biobss.pipeline.feature_extraction.Feature at 0x1e310cedfd0>,\n",
       " <biobss.pipeline.feature_extraction.Feature at 0x1e310cede80>,\n",
       " <biobss.pipeline.feature_extraction.Feature at 0x1e310cef040>]"
      ]
     },
     "execution_count": 8,
     "metadata": {},
     "output_type": "execute_result"
    }
   ],
   "source": [
    "pipe.feature_list"
   ]
  },
  {
   "cell_type": "code",
   "execution_count": 9,
   "metadata": {},
   "outputs": [],
   "source": [
    "pipe.set_input(sample_data, 700, name=\"EDA_Raw\", modality=\"EDA\")\n"
   ]
  },
  {
   "cell_type": "code",
   "execution_count": 10,
   "metadata": {},
   "outputs": [
    {
     "data": {
      "text/plain": [
       "Signal object with 1 channel(s)\n",
       "EDA_Raw (EDA) (700Hz) ((5920.0,)s) (1 windows) ((4144000,))"
      ]
     },
     "execution_count": 10,
     "metadata": {},
     "output_type": "execute_result"
    }
   ],
   "source": [
    "pipe.input\n"
   ]
  },
  {
   "cell_type": "code",
   "execution_count": 11,
   "metadata": {},
   "outputs": [
    {
     "data": {
      "text/plain": [
       "Bio_Pipeline:\n",
       "\tModality: EDA\n",
       "\tSignal Type: EDA\n",
       "\tPreprocessors: Process list:\n",
       "\t1: normalize_signal\n",
       "\n",
       "\tProcessors: Process list:\n",
       "\t1: eda_decompose\n",
       "\t2: resample_signal_object\n",
       "\n",
       "\tPostprocessors: Process list:\n",
       "\n",
       "\tWindow Size(Seconds): 60\n",
       "\tStep Size: 30"
      ]
     },
     "execution_count": 11,
     "metadata": {},
     "output_type": "execute_result"
    }
   ],
   "source": [
    "pipe\n"
   ]
  },
  {
   "cell_type": "code",
   "execution_count": 12,
   "metadata": {},
   "outputs": [
    {
     "name": "stderr",
     "output_type": "stream",
     "text": [
      "c:\\Users\\Cagatay\\Desktop\\Workspace\\Biobss Pipeline\\biobss\\examples\\..\\biobss\\pipeline\\bio_process.py:54: UserWarning: Vectorized method failed. Trying scalar method. It may be significantly slower.\n",
      "  warnings.warn(\n"
     ]
    }
   ],
   "source": [
    "pipe.run_pipeline()\n"
   ]
  },
  {
   "cell_type": "markdown",
   "metadata": {},
   "source": []
  },
  {
   "cell_type": "code",
   "execution_count": 13,
   "metadata": {},
   "outputs": [
    {
     "data": {
      "text/plain": [
       "Signal object with 7 channel(s)\n",
       "EDA_Raw (EDA) (350Hz) (60.0s) (196 windows) ((196, 21000))\n",
       "EDA_Tonic (EDA) (350Hz) (60.0s) (196 windows) ((196, 21000))\n",
       "EDA_Phasic (EDA) (350Hz) (60.0s) (196 windows) ((196, 21000))"
      ]
     },
     "execution_count": 13,
     "metadata": {},
     "output_type": "execute_result"
    }
   ],
   "source": [
    "pipe.input\n"
   ]
  },
  {
   "cell_type": "markdown",
   "metadata": {},
   "source": []
  },
  {
   "cell_type": "code",
   "execution_count": 14,
   "metadata": {},
   "outputs": [],
   "source": [
    "pipe.extract_features()\n"
   ]
  },
  {
   "cell_type": "code",
   "execution_count": 15,
   "metadata": {},
   "outputs": [
    {
     "data": {
      "text/html": [
       "<div>\n",
       "<style scoped>\n",
       "    .dataframe tbody tr th:only-of-type {\n",
       "        vertical-align: middle;\n",
       "    }\n",
       "\n",
       "    .dataframe tbody tr th {\n",
       "        vertical-align: top;\n",
       "    }\n",
       "\n",
       "    .dataframe thead th {\n",
       "        text-align: right;\n",
       "    }\n",
       "</style>\n",
       "<table border=\"1\" class=\"dataframe\">\n",
       "  <thead>\n",
       "    <tr style=\"text-align: right;\">\n",
       "      <th></th>\n",
       "      <th>EDA_Raw_rms</th>\n",
       "      <th>EDA_Raw_acr_length</th>\n",
       "      <th>EDA_Raw_integral</th>\n",
       "      <th>EDA_Raw_average_power</th>\n",
       "      <th>EDA_Tonic_rms</th>\n",
       "      <th>EDA_Tonic_acr_length</th>\n",
       "      <th>EDA_Tonic_integral</th>\n",
       "      <th>EDA_Tonic_average_power</th>\n",
       "      <th>EDA_Phasic_rms</th>\n",
       "      <th>EDA_Phasic_acr_length</th>\n",
       "      <th>...</th>\n",
       "      <th>EDA_Phasic_std</th>\n",
       "      <th>EDA_Phasic_max</th>\n",
       "      <th>EDA_Phasic_min</th>\n",
       "      <th>EDA_Phasic_range</th>\n",
       "      <th>EDA_Phasic_kurtosis</th>\n",
       "      <th>EDA_Phasic_skew</th>\n",
       "      <th>EDA_Phasic_momentum</th>\n",
       "      <th>EDA_RawEDA_Tonic_correl</th>\n",
       "      <th>EDA_RawEDA_Phasic_correl</th>\n",
       "      <th>EDA_TonicEDA_Phasic_correl</th>\n",
       "    </tr>\n",
       "  </thead>\n",
       "  <tbody>\n",
       "    <tr>\n",
       "      <th>0.0</th>\n",
       "      <td>1.307888</td>\n",
       "      <td>20999.749871</td>\n",
       "      <td>27433.892859</td>\n",
       "      <td>1.710571</td>\n",
       "      <td>1.311076</td>\n",
       "      <td>20999.001564</td>\n",
       "      <td>27521.421577</td>\n",
       "      <td>1.718920</td>\n",
       "      <td>0.025634</td>\n",
       "      <td>20999.746891</td>\n",
       "      <td>...</td>\n",
       "      <td>0.025633</td>\n",
       "      <td>0.143630</td>\n",
       "      <td>-0.101067</td>\n",
       "      <td>0.244696</td>\n",
       "      <td>4.371252</td>\n",
       "      <td>0.426744</td>\n",
       "      <td>0.000657</td>\n",
       "      <td>0.906281</td>\n",
       "      <td>0.564965</td>\n",
       "      <td>0.199536</td>\n",
       "    </tr>\n",
       "    <tr>\n",
       "      <th>30.0</th>\n",
       "      <td>1.198245</td>\n",
       "      <td>20999.691437</td>\n",
       "      <td>25031.102031</td>\n",
       "      <td>1.435790</td>\n",
       "      <td>1.197131</td>\n",
       "      <td>20999.004374</td>\n",
       "      <td>25019.863000</td>\n",
       "      <td>1.433123</td>\n",
       "      <td>0.030386</td>\n",
       "      <td>20999.689296</td>\n",
       "      <td>...</td>\n",
       "      <td>0.030385</td>\n",
       "      <td>0.152175</td>\n",
       "      <td>-0.103795</td>\n",
       "      <td>0.255970</td>\n",
       "      <td>2.611807</td>\n",
       "      <td>0.666712</td>\n",
       "      <td>0.000923</td>\n",
       "      <td>0.968859</td>\n",
       "      <td>0.316593</td>\n",
       "      <td>0.090156</td>\n",
       "    </tr>\n",
       "    <tr>\n",
       "      <th>60.0</th>\n",
       "      <td>1.129678</td>\n",
       "      <td>20999.747814</td>\n",
       "      <td>23684.427371</td>\n",
       "      <td>1.276173</td>\n",
       "      <td>1.125653</td>\n",
       "      <td>20999.001188</td>\n",
       "      <td>23616.223917</td>\n",
       "      <td>1.267094</td>\n",
       "      <td>0.023762</td>\n",
       "      <td>20999.745641</td>\n",
       "      <td>...</td>\n",
       "      <td>0.023745</td>\n",
       "      <td>0.131572</td>\n",
       "      <td>-0.085946</td>\n",
       "      <td>0.217517</td>\n",
       "      <td>2.650300</td>\n",
       "      <td>1.223677</td>\n",
       "      <td>0.000564</td>\n",
       "      <td>0.933856</td>\n",
       "      <td>0.559383</td>\n",
       "      <td>0.234547</td>\n",
       "    </tr>\n",
       "    <tr>\n",
       "      <th>90.0</th>\n",
       "      <td>1.269795</td>\n",
       "      <td>20999.845415</td>\n",
       "      <td>26563.982437</td>\n",
       "      <td>1.612380</td>\n",
       "      <td>1.268518</td>\n",
       "      <td>20999.005008</td>\n",
       "      <td>26540.613767</td>\n",
       "      <td>1.609139</td>\n",
       "      <td>0.016334</td>\n",
       "      <td>20999.839103</td>\n",
       "      <td>...</td>\n",
       "      <td>0.016319</td>\n",
       "      <td>0.088144</td>\n",
       "      <td>-0.125289</td>\n",
       "      <td>0.213434</td>\n",
       "      <td>2.758980</td>\n",
       "      <td>0.444666</td>\n",
       "      <td>0.000266</td>\n",
       "      <td>0.990459</td>\n",
       "      <td>0.159469</td>\n",
       "      <td>0.027017</td>\n",
       "    </tr>\n",
       "    <tr>\n",
       "      <th>120.0</th>\n",
       "      <td>1.403914</td>\n",
       "      <td>20999.756391</td>\n",
       "      <td>29464.026703</td>\n",
       "      <td>1.970973</td>\n",
       "      <td>1.404069</td>\n",
       "      <td>20999.001828</td>\n",
       "      <td>29467.650137</td>\n",
       "      <td>1.971409</td>\n",
       "      <td>0.007404</td>\n",
       "      <td>20999.755139</td>\n",
       "      <td>...</td>\n",
       "      <td>0.007404</td>\n",
       "      <td>0.057759</td>\n",
       "      <td>-0.133979</td>\n",
       "      <td>0.191737</td>\n",
       "      <td>9.228124</td>\n",
       "      <td>-0.142350</td>\n",
       "      <td>0.000055</td>\n",
       "      <td>0.988241</td>\n",
       "      <td>0.166968</td>\n",
       "      <td>0.016125</td>\n",
       "    </tr>\n",
       "    <tr>\n",
       "      <th>...</th>\n",
       "      <td>...</td>\n",
       "      <td>...</td>\n",
       "      <td>...</td>\n",
       "      <td>...</td>\n",
       "      <td>...</td>\n",
       "      <td>...</td>\n",
       "      <td>...</td>\n",
       "      <td>...</td>\n",
       "      <td>...</td>\n",
       "      <td>...</td>\n",
       "      <td>...</td>\n",
       "      <td>...</td>\n",
       "      <td>...</td>\n",
       "      <td>...</td>\n",
       "      <td>...</td>\n",
       "      <td>...</td>\n",
       "      <td>...</td>\n",
       "      <td>...</td>\n",
       "      <td>...</td>\n",
       "      <td>...</td>\n",
       "      <td>...</td>\n",
       "    </tr>\n",
       "    <tr>\n",
       "      <th>5730.0</th>\n",
       "      <td>0.890785</td>\n",
       "      <td>20999.227503</td>\n",
       "      <td>18704.470559</td>\n",
       "      <td>0.793498</td>\n",
       "      <td>0.891568</td>\n",
       "      <td>20999.000001</td>\n",
       "      <td>18721.882657</td>\n",
       "      <td>0.794893</td>\n",
       "      <td>0.007824</td>\n",
       "      <td>20999.227512</td>\n",
       "      <td>...</td>\n",
       "      <td>0.007808</td>\n",
       "      <td>0.056355</td>\n",
       "      <td>-0.070464</td>\n",
       "      <td>0.126818</td>\n",
       "      <td>0.928234</td>\n",
       "      <td>0.257044</td>\n",
       "      <td>0.000061</td>\n",
       "      <td>0.795176</td>\n",
       "      <td>0.720952</td>\n",
       "      <td>0.168890</td>\n",
       "    </tr>\n",
       "    <tr>\n",
       "      <th>5760.0</th>\n",
       "      <td>0.896704</td>\n",
       "      <td>20999.279074</td>\n",
       "      <td>18829.164693</td>\n",
       "      <td>0.804078</td>\n",
       "      <td>0.896852</td>\n",
       "      <td>20999.000001</td>\n",
       "      <td>18833.171051</td>\n",
       "      <td>0.804344</td>\n",
       "      <td>0.007426</td>\n",
       "      <td>20999.279074</td>\n",
       "      <td>...</td>\n",
       "      <td>0.007425</td>\n",
       "      <td>0.065335</td>\n",
       "      <td>-0.089886</td>\n",
       "      <td>0.155221</td>\n",
       "      <td>3.106648</td>\n",
       "      <td>0.170558</td>\n",
       "      <td>0.000055</td>\n",
       "      <td>0.784588</td>\n",
       "      <td>0.746041</td>\n",
       "      <td>0.172848</td>\n",
       "    </tr>\n",
       "    <tr>\n",
       "      <th>5790.0</th>\n",
       "      <td>0.890915</td>\n",
       "      <td>20999.286985</td>\n",
       "      <td>18707.290795</td>\n",
       "      <td>0.793729</td>\n",
       "      <td>0.890937</td>\n",
       "      <td>20999.000000</td>\n",
       "      <td>18708.676344</td>\n",
       "      <td>0.793769</td>\n",
       "      <td>0.007490</td>\n",
       "      <td>20999.286989</td>\n",
       "      <td>...</td>\n",
       "      <td>0.007480</td>\n",
       "      <td>0.065425</td>\n",
       "      <td>-0.090578</td>\n",
       "      <td>0.156003</td>\n",
       "      <td>3.347182</td>\n",
       "      <td>0.229350</td>\n",
       "      <td>0.000056</td>\n",
       "      <td>0.790777</td>\n",
       "      <td>0.714396</td>\n",
       "      <td>0.149913</td>\n",
       "    </tr>\n",
       "    <tr>\n",
       "      <th>5820.0</th>\n",
       "      <td>0.916721</td>\n",
       "      <td>20999.240598</td>\n",
       "      <td>19201.646324</td>\n",
       "      <td>0.840378</td>\n",
       "      <td>0.913044</td>\n",
       "      <td>20999.002380</td>\n",
       "      <td>19139.088812</td>\n",
       "      <td>0.833649</td>\n",
       "      <td>0.012244</td>\n",
       "      <td>20999.235660</td>\n",
       "      <td>...</td>\n",
       "      <td>0.012243</td>\n",
       "      <td>0.059512</td>\n",
       "      <td>-0.084919</td>\n",
       "      <td>0.144431</td>\n",
       "      <td>1.494219</td>\n",
       "      <td>-0.467546</td>\n",
       "      <td>0.000150</td>\n",
       "      <td>0.974681</td>\n",
       "      <td>0.282675</td>\n",
       "      <td>0.093617</td>\n",
       "    </tr>\n",
       "    <tr>\n",
       "      <th>5850.0</th>\n",
       "      <td>0.988896</td>\n",
       "      <td>20999.166637</td>\n",
       "      <td>20700.812171</td>\n",
       "      <td>0.977916</td>\n",
       "      <td>0.989943</td>\n",
       "      <td>20999.001695</td>\n",
       "      <td>20735.121873</td>\n",
       "      <td>0.979986</td>\n",
       "      <td>0.023648</td>\n",
       "      <td>20999.165684</td>\n",
       "      <td>...</td>\n",
       "      <td>0.023648</td>\n",
       "      <td>0.077133</td>\n",
       "      <td>-0.070081</td>\n",
       "      <td>0.147214</td>\n",
       "      <td>0.510760</td>\n",
       "      <td>0.329225</td>\n",
       "      <td>0.000559</td>\n",
       "      <td>0.946598</td>\n",
       "      <td>0.487568</td>\n",
       "      <td>0.193927</td>\n",
       "    </tr>\n",
       "  </tbody>\n",
       "</table>\n",
       "<p>196 rows × 39 columns</p>\n",
       "</div>"
      ],
      "text/plain": [
       "        EDA_Raw_rms  EDA_Raw_acr_length  EDA_Raw_integral  \\\n",
       "0.0        1.307888        20999.749871      27433.892859   \n",
       "30.0       1.198245        20999.691437      25031.102031   \n",
       "60.0       1.129678        20999.747814      23684.427371   \n",
       "90.0       1.269795        20999.845415      26563.982437   \n",
       "120.0      1.403914        20999.756391      29464.026703   \n",
       "...             ...                 ...               ...   \n",
       "5730.0     0.890785        20999.227503      18704.470559   \n",
       "5760.0     0.896704        20999.279074      18829.164693   \n",
       "5790.0     0.890915        20999.286985      18707.290795   \n",
       "5820.0     0.916721        20999.240598      19201.646324   \n",
       "5850.0     0.988896        20999.166637      20700.812171   \n",
       "\n",
       "        EDA_Raw_average_power  EDA_Tonic_rms  EDA_Tonic_acr_length  \\\n",
       "0.0                  1.710571       1.311076          20999.001564   \n",
       "30.0                 1.435790       1.197131          20999.004374   \n",
       "60.0                 1.276173       1.125653          20999.001188   \n",
       "90.0                 1.612380       1.268518          20999.005008   \n",
       "120.0                1.970973       1.404069          20999.001828   \n",
       "...                       ...            ...                   ...   \n",
       "5730.0               0.793498       0.891568          20999.000001   \n",
       "5760.0               0.804078       0.896852          20999.000001   \n",
       "5790.0               0.793729       0.890937          20999.000000   \n",
       "5820.0               0.840378       0.913044          20999.002380   \n",
       "5850.0               0.977916       0.989943          20999.001695   \n",
       "\n",
       "        EDA_Tonic_integral  EDA_Tonic_average_power  EDA_Phasic_rms  \\\n",
       "0.0           27521.421577                 1.718920        0.025634   \n",
       "30.0          25019.863000                 1.433123        0.030386   \n",
       "60.0          23616.223917                 1.267094        0.023762   \n",
       "90.0          26540.613767                 1.609139        0.016334   \n",
       "120.0         29467.650137                 1.971409        0.007404   \n",
       "...                    ...                      ...             ...   \n",
       "5730.0        18721.882657                 0.794893        0.007824   \n",
       "5760.0        18833.171051                 0.804344        0.007426   \n",
       "5790.0        18708.676344                 0.793769        0.007490   \n",
       "5820.0        19139.088812                 0.833649        0.012244   \n",
       "5850.0        20735.121873                 0.979986        0.023648   \n",
       "\n",
       "        EDA_Phasic_acr_length  ...  EDA_Phasic_std  EDA_Phasic_max  \\\n",
       "0.0              20999.746891  ...        0.025633        0.143630   \n",
       "30.0             20999.689296  ...        0.030385        0.152175   \n",
       "60.0             20999.745641  ...        0.023745        0.131572   \n",
       "90.0             20999.839103  ...        0.016319        0.088144   \n",
       "120.0            20999.755139  ...        0.007404        0.057759   \n",
       "...                       ...  ...             ...             ...   \n",
       "5730.0           20999.227512  ...        0.007808        0.056355   \n",
       "5760.0           20999.279074  ...        0.007425        0.065335   \n",
       "5790.0           20999.286989  ...        0.007480        0.065425   \n",
       "5820.0           20999.235660  ...        0.012243        0.059512   \n",
       "5850.0           20999.165684  ...        0.023648        0.077133   \n",
       "\n",
       "        EDA_Phasic_min  EDA_Phasic_range  EDA_Phasic_kurtosis  \\\n",
       "0.0          -0.101067          0.244696             4.371252   \n",
       "30.0         -0.103795          0.255970             2.611807   \n",
       "60.0         -0.085946          0.217517             2.650300   \n",
       "90.0         -0.125289          0.213434             2.758980   \n",
       "120.0        -0.133979          0.191737             9.228124   \n",
       "...                ...               ...                  ...   \n",
       "5730.0       -0.070464          0.126818             0.928234   \n",
       "5760.0       -0.089886          0.155221             3.106648   \n",
       "5790.0       -0.090578          0.156003             3.347182   \n",
       "5820.0       -0.084919          0.144431             1.494219   \n",
       "5850.0       -0.070081          0.147214             0.510760   \n",
       "\n",
       "        EDA_Phasic_skew  EDA_Phasic_momentum  EDA_RawEDA_Tonic_correl  \\\n",
       "0.0            0.426744             0.000657                 0.906281   \n",
       "30.0           0.666712             0.000923                 0.968859   \n",
       "60.0           1.223677             0.000564                 0.933856   \n",
       "90.0           0.444666             0.000266                 0.990459   \n",
       "120.0         -0.142350             0.000055                 0.988241   \n",
       "...                 ...                  ...                      ...   \n",
       "5730.0         0.257044             0.000061                 0.795176   \n",
       "5760.0         0.170558             0.000055                 0.784588   \n",
       "5790.0         0.229350             0.000056                 0.790777   \n",
       "5820.0        -0.467546             0.000150                 0.974681   \n",
       "5850.0         0.329225             0.000559                 0.946598   \n",
       "\n",
       "        EDA_RawEDA_Phasic_correl  EDA_TonicEDA_Phasic_correl  \n",
       "0.0                     0.564965                    0.199536  \n",
       "30.0                    0.316593                    0.090156  \n",
       "60.0                    0.559383                    0.234547  \n",
       "90.0                    0.159469                    0.027017  \n",
       "120.0                   0.166968                    0.016125  \n",
       "...                          ...                         ...  \n",
       "5730.0                  0.720952                    0.168890  \n",
       "5760.0                  0.746041                    0.172848  \n",
       "5790.0                  0.714396                    0.149913  \n",
       "5820.0                  0.282675                    0.093617  \n",
       "5850.0                  0.487568                    0.193927  \n",
       "\n",
       "[196 rows x 39 columns]"
      ]
     },
     "execution_count": 15,
     "metadata": {},
     "output_type": "execute_result"
    }
   ],
   "source": [
    "pipe.features\n"
   ]
  },
  {
   "cell_type": "code",
   "execution_count": 17,
   "metadata": {},
   "outputs": [
    {
     "data": {
      "text/plain": [
       "[<matplotlib.lines.Line2D at 0x1e3454541c0>]"
      ]
     },
     "execution_count": 17,
     "metadata": {},
     "output_type": "execute_result"
    },
    {
     "data": {
      "image/png": "[encoded data removed]",
      "text/plain": [
       "<Figure size 432x288 with 1 Axes>"
      ]
     },
     "metadata": {
      "needs_background": "light"
     },
     "output_type": "display_data"
    }
   ],
   "source": [
    "import matplotlib.pyplot as plt\n",
    "plt.plot(pipe.features['EDA_Raw_integral'])\n"
   ]
  },
  {
   "cell_type": "code",
   "execution_count": 18,
   "metadata": {},
   "outputs": [
    {
     "data": {
      "text/plain": [
       "0.0       20999.749871\n",
       "30.0      20999.691437\n",
       "60.0      20999.747814\n",
       "90.0      20999.845415\n",
       "120.0     20999.756391\n",
       "              ...     \n",
       "5730.0    20999.227503\n",
       "5760.0    20999.279074\n",
       "5790.0    20999.286985\n",
       "5820.0    20999.240598\n",
       "5850.0    20999.166637\n",
       "Name: EDA_Raw_acr_length, Length: 196, dtype: float64"
      ]
     },
     "execution_count": 18,
     "metadata": {},
     "output_type": "execute_result"
    }
   ],
   "source": [
    "pipe.features['EDA_Raw_acr_length']"
   ]
  }
 ],
 "metadata": {
  "interpreter": {
   "hash": "8950f7a71e2e41dbfe25212825f95b5df952ca15c8730d5e6e2bbb35757b3f4a"
  },
  "kernelspec": {
   "display_name": "Python 3.8.13 ('bioenv')",
   "language": "python",
   "name": "python3"
  },
  "language_info": {
   "codemirror_mode": {
    "name": "ipython",
    "version": 3
   },
   "file_extension": ".py",
   "mimetype": "text/x-python",
   "name": "python",
   "nbconvert_exporter": "python",
   "pygments_lexer": "ipython3",
   "version": "3.8.13"
  },
  "orig_nbformat": 4
 },
 "nbformat": 4,
 "nbformat_minor": 2
}
