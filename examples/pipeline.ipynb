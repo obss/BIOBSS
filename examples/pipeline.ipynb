{
 "cells": [
  {
   "cell_type": "code",
   "execution_count": 1,
   "metadata": {},
   "outputs": [],
   "source": [
    "import sys\n",
    "import pandas as pd\n",
    "import numpy as np\n"
   ]
  },
  {
   "cell_type": "code",
   "execution_count": 2,
   "metadata": {},
   "outputs": [],
   "source": [
    "sys.path.append(\"../\")\n"
   ]
  },
  {
   "cell_type": "code",
   "execution_count": 3,
   "metadata": {},
   "outputs": [],
   "source": [
    "import biobss"
   ]
  },
  {
   "cell_type": "code",
   "execution_count": 4,
   "metadata": {},
   "outputs": [],
   "source": [
    "import neurokit2 as nk\n",
    "sample_data=pd.read_pickle(\"..\\sample_data\\\\EDA_Chest.pkl\")\n",
    "sample_data=sample_data.flatten()"
   ]
  },
  {
   "cell_type": "code",
   "execution_count": 5,
   "metadata": {},
   "outputs": [],
   "source": [
    "decompose=biobss.pipeline.Bio_Process(process_method=biobss.edatools.eda_decompose,modality=\"EDA\",sigtype=\"EDA\",method=\"highpass\")\n",
    "normalize=biobss.pipeline.Bio_Process(process_method=biobss.signaltools.normalize_signal,modality=\"EDA\",sigtype=\"EDA\")\n",
    "resample=biobss.pipeline.Bio_Process(process_method=biobss.signaltools.resample_signal_object,modality=\"EDA\",sigtype=\"EDA\",target_sample_rate=350)"
   ]
  },
  {
   "cell_type": "code",
   "execution_count": 6,
   "metadata": {},
   "outputs": [],
   "source": [
    "pipe=biobss.pipeline.Bio_Pipeline([],modality=\"EDA\",sigtype=\"EDA\",windowed_process=True,window_size=60,step_size=30)"
   ]
  },
  {
   "cell_type": "code",
   "execution_count": 7,
   "metadata": {},
   "outputs": [],
   "source": [
    "pipe.preprocess_queue.add_process(normalize)\n",
    "pipe.preprocess_queue.add_process(resample)\n",
    "pipe.process_queue.add_process(decompose)"
   ]
  },
  {
   "cell_type": "code",
   "execution_count": 8,
   "metadata": {},
   "outputs": [],
   "source": [
    "pipe.set_input(sample_data,700,\"EDA\",\"EDA\")"
   ]
  },
  {
   "cell_type": "code",
   "execution_count": 9,
   "metadata": {},
   "outputs": [
    {
     "data": {
      "text/plain": [
       "Bio_Pipeline:\n",
       "\tModality: EDA\n",
       "\tSignal Type: EDA\n",
       "\tPreprocessors: <biobss.pipeline.process_list.Process_List object at 0x000001D392A09AF0>\n",
       "\tProcessors: <biobss.pipeline.process_list.Process_List object at 0x000001D392A09A90>\n",
       "\tPostprocessors: <biobss.pipeline.process_list.Process_List object at 0x000001D392A09D00>\n",
       "\tWindow Size(Seconds): 60\n",
       "\tStep Size: 30"
      ]
     },
     "execution_count": 9,
     "metadata": {},
     "output_type": "execute_result"
    }
   ],
   "source": [
    "pipe"
   ]
  },
  {
   "cell_type": "code",
   "execution_count": 10,
   "metadata": {},
   "outputs": [
    {
     "ename": "AttributeError",
     "evalue": "'NoneType' object has no attribute 'copy'",
     "output_type": "error",
     "traceback": [
      "\u001b[1;31m---------------------------------------------------------------------------\u001b[0m",
      "\u001b[1;31mAttributeError\u001b[0m                            Traceback (most recent call last)",
      "\u001b[1;32mc:\\Users\\Cagatay\\Desktop\\Workspace\\Biobss Pipeline\\biobss\\examples\\pipeline.ipynb Cell 10'\u001b[0m in \u001b[0;36m<module>\u001b[1;34m\u001b[0m\n\u001b[1;32m----> <a href='vscode-notebook-cell:/c%3A/Users/Cagatay/Desktop/Workspace/Biobss%20Pipeline/biobss/examples/pipeline.ipynb#ch0000009?line=0'>1</a>\u001b[0m pipe\u001b[39m.\u001b[39;49mrun_pipeline()\n",
      "File \u001b[1;32mc:\\Users\\Cagatay\\Desktop\\Workspace\\Biobss Pipeline\\biobss\\examples\\..\\biobss\\pipeline\\single_channel_pipeline.py:85\u001b[0m, in \u001b[0;36mBio_Pipeline.run_pipeline\u001b[1;34m(self)\u001b[0m\n\u001b[0;32m     <a href='file:///c%3A/Users/Cagatay/Desktop/Workspace/Biobss%20Pipeline/biobss/examples/../biobss/pipeline/single_channel_pipeline.py?line=81'>82</a>\u001b[0m \u001b[39mif\u001b[39;00m(\u001b[39mself\u001b[39m\u001b[39m.\u001b[39mwindowed):\n\u001b[0;32m     <a href='file:///c%3A/Users/Cagatay/Desktop/Workspace/Biobss%20Pipeline/biobss/examples/../biobss/pipeline/single_channel_pipeline.py?line=82'>83</a>\u001b[0m     \u001b[39mself\u001b[39m\u001b[39m.\u001b[39minput\u001b[39m=\u001b[39m\u001b[39mself\u001b[39m\u001b[39m.\u001b[39mconvert_windows()\n\u001b[1;32m---> <a href='file:///c%3A/Users/Cagatay/Desktop/Workspace/Biobss%20Pipeline/biobss/examples/../biobss/pipeline/single_channel_pipeline.py?line=84'>85</a>\u001b[0m \u001b[39mself\u001b[39m\u001b[39m.\u001b[39minput\u001b[39m=\u001b[39m\u001b[39mself\u001b[39;49m\u001b[39m.\u001b[39;49mprocess_queue\u001b[39m.\u001b[39;49mrun_process_queue(\u001b[39mself\u001b[39;49m\u001b[39m.\u001b[39;49minput)\n",
      "File \u001b[1;32mc:\\Users\\Cagatay\\Desktop\\Workspace\\Biobss Pipeline\\biobss\\examples\\..\\biobss\\pipeline\\process_list.py:30\u001b[0m, in \u001b[0;36mProcess_List.run_process_queue\u001b[1;34m(self, signal)\u001b[0m\n\u001b[0;32m     <a href='file:///c%3A/Users/Cagatay/Desktop/Workspace/Biobss%20Pipeline/biobss/examples/../biobss/pipeline/process_list.py?line=27'>28</a>\u001b[0m \u001b[39mdef\u001b[39;00m \u001b[39mrun_process_queue\u001b[39m(\u001b[39mself\u001b[39m,signal:Bio_Data) \u001b[39m-\u001b[39m\u001b[39m>\u001b[39m Bio_Data:\n\u001b[1;32m---> <a href='file:///c%3A/Users/Cagatay/Desktop/Workspace/Biobss%20Pipeline/biobss/examples/../biobss/pipeline/process_list.py?line=29'>30</a>\u001b[0m     signal\u001b[39m=\u001b[39msignal\u001b[39m.\u001b[39;49mcopy()\n\u001b[0;32m     <a href='file:///c%3A/Users/Cagatay/Desktop/Workspace/Biobss%20Pipeline/biobss/examples/../biobss/pipeline/process_list.py?line=30'>31</a>\u001b[0m     \u001b[39mfor\u001b[39;00m process \u001b[39min\u001b[39;00m \u001b[39mself\u001b[39m\u001b[39m.\u001b[39mprocess_list:\n\u001b[0;32m     <a href='file:///c%3A/Users/Cagatay/Desktop/Workspace/Biobss%20Pipeline/biobss/examples/../biobss/pipeline/process_list.py?line=31'>32</a>\u001b[0m         \u001b[39mfor\u001b[39;00m channel_name,channels \u001b[39min\u001b[39;00m signal\u001b[39m.\u001b[39mdata\u001b[39m.\u001b[39mitems():\n",
      "\u001b[1;31mAttributeError\u001b[0m: 'NoneType' object has no attribute 'copy'"
     ]
    }
   ],
   "source": [
    "pipe.run_pipeline()"
   ]
  },
  {
   "cell_type": "code",
   "execution_count": null,
   "metadata": {},
   "outputs": [
    {
     "data": {
      "text/plain": [
       "EDA Signal: EDA_Raw\n",
       "Sampling Rate: 700\n",
       "Channels: 3\n",
       "Channel Names: ['EDA_Raw', 'EDA_Tonic', 'EDA_Phasic']\n",
       "Multichannel: True\n",
       "Signal: [array([-1.34650432, -1.33614792, -1.34509208, ...,  0.95167532,\n",
       "        0.96014874,  0.95826576]), array([-1.34382019, -1.34381905, -1.3438179 , ...,  0.96029843,\n",
       "        0.96029843,  0.96029843]), array([-0.00268412,  0.00767113, -0.00127418, ..., -0.01124827,\n",
       "       -0.00277935, -0.00466684])]"
      ]
     },
     "execution_count": 17,
     "metadata": {},
     "output_type": "execute_result"
    }
   ],
   "source": [
    "pipe.processed_signal"
   ]
  },
  {
   "cell_type": "code",
   "execution_count": null,
   "metadata": {},
   "outputs": [],
   "source": [
    "bio_data=biobss.pipeline.Bio_Data()"
   ]
  },
  {
   "cell_type": "code",
   "execution_count": null,
   "metadata": {},
   "outputs": [],
   "source": [
    "eda_channel=biobss.pipeline.Data_Channel(sample_data,sampling_rate=700,name=\"EDA_Raw\",modality=\"EDA\")"
   ]
  },
  {
   "cell_type": "code",
   "execution_count": null,
   "metadata": {},
   "outputs": [
    {
     "data": {
      "text/plain": [
       "EDA_Raw (EDA) (700Hz) (5920.0s) ((4144000,)) ((4144000,)) (float64)[5.40046692 5.40885925 5.40161133 ... 7.26280212 7.26966858 7.2681427 ]"
      ]
     },
     "execution_count": 7,
     "metadata": {},
     "output_type": "execute_result"
    }
   ],
   "source": [
    "eda_channel"
   ]
  },
  {
   "cell_type": "code",
   "execution_count": null,
   "metadata": {},
   "outputs": [],
   "source": [
    "bio_data.add_channel(eda_channel)"
   ]
  },
  {
   "cell_type": "code",
   "execution_count": null,
   "metadata": {},
   "outputs": [
    {
     "data": {
      "text/plain": [
       "Signal object with 1 channel(s)EDA_Raw (EDA) (700Hz) (5920.0s) ((4144000,))"
      ]
     },
     "execution_count": 10,
     "metadata": {},
     "output_type": "execute_result"
    }
   ],
   "source": [
    "bio_data"
   ]
  },
  {
   "cell_type": "code",
   "execution_count": null,
   "metadata": {},
   "outputs": [],
   "source": []
  }
 ],
 "metadata": {
  "interpreter": {
   "hash": "a6178572b9a90d2c5e062ed8640c411078523c298b0cf90d87d3da07bebbeb5c"
  },
  "kernelspec": {
   "display_name": "Python 3.8.12 ('mlenv')",
   "language": "python",
   "name": "python3"
  },
  "language_info": {
   "codemirror_mode": {
    "name": "ipython",
    "version": 3
   },
   "file_extension": ".py",
   "mimetype": "text/x-python",
   "name": "python",
   "nbconvert_exporter": "python",
   "pygments_lexer": "ipython3",
   "version": "3.8.12"
  },
  "orig_nbformat": 4
 },
 "nbformat": 4,
 "nbformat_minor": 2
}
