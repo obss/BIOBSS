{
 "cells": [
  {
   "cell_type": "code",
   "execution_count": 1,
   "metadata": {},
   "outputs": [],
   "source": [
    "import sys\n",
    "import pandas as pd\n",
    "import numpy as np\n"
   ]
  },
  {
   "cell_type": "code",
   "execution_count": 25,
   "metadata": {},
   "outputs": [],
   "source": [
    "sys.path.append(\"../\")\n"
   ]
  },
  {
   "cell_type": "code",
   "execution_count": 26,
   "metadata": {},
   "outputs": [],
   "source": [
    "import biobss\n"
   ]
  },
  {
   "cell_type": "code",
   "execution_count": 27,
   "metadata": {},
   "outputs": [],
   "source": [
    "import neurokit2 as nk\n",
    "sample_data = pd.read_pickle(\"..\\sample_data\\\\EDA_Chest.pkl\")\n",
    "sample_data = sample_data.flatten()\n"
   ]
  },
  {
   "cell_type": "code",
   "execution_count": 28,
   "metadata": {},
   "outputs": [],
   "source": [
    "decompose = biobss.pipeline.Bio_Process(\n",
    "    process_method=biobss.edatools.eda_decompose, modality=\"EDA\", sigtype=\"EDA\", method=\"highpass\")\n",
    "\n",
    "filtering=biobss.pipeline.Bio_Process(\n",
    "    process_method=biobss.signaltools.filter_signal, modality=\"EDA\", sigtype=\"EDA\",N=2, filter_type=\"highpass\",f1=0.5,fs=700)\n",
    "\n",
    "normalize = biobss.pipeline.Bio_Process(\n",
    "    process_method=biobss.signaltools.normalize_signal, modality=\"EDA\", sigtype=\"EDA\")\n",
    "resample = biobss.pipeline.Bio_Process(\n",
    "    process_method=biobss.signaltools.resample_signal_object, modality=\"EDA\", sigtype=\"EDA\", target_sample_rate=350)\n",
    "signal_features = biobss.pipeline.Feature(name=\"signal_features\", function=biobss.edatools.signal_features.get_signal_features, parameters={\n",
    "                                           \"modality\": \"EDA\", \"sigtype\": \"EDA\"}, input_signals={'EDA_Raw':'EDA_Raw', 'EDA_Tonic':'EDA_Tonic', 'EDA_Phasic':'EDA_Phasic'})\n",
    "stat_features = biobss.pipeline.Feature(name=\"stat_features\", function=biobss.common.stat_features.get_stat_features, parameters={\n",
    "                                         \"modality\": \"EDA\", \"sigtype\": \"EDA\"}, input_signals={'EDA_Raw':'EDA_Raw', 'EDA_Tonic':'EDA_Tonic', 'EDA_Phasic':'EDA_Phasic'})\n",
    "corr_features = biobss.pipeline.Feature(name=\"corr_features\", function=biobss.common.correlation_features, parameters={\n",
    "                                        \"modality\": \"EDA\", \"sigtype\": \"EDA\",\"signal_names\":['EDA_Raw','EDA_Tonic','EDA_Phasic']}, input_signals={'EDA':['EDA_Raw','EDA_Tonic','EDA_Phasic']})\n"
   ]
  },
  {
   "cell_type": "code",
   "execution_count": 29,
   "metadata": {},
   "outputs": [],
   "source": [
    "pipe = biobss.pipeline.Bio_Pipeline(modality=\"EDA\", sigtype=\"EDA\", windowed_process=True,\n",
    "                                    window_size=60, step_size=30, features_list=[])\n"
   ]
  },
  {
   "cell_type": "code",
   "execution_count": 30,
   "metadata": {},
   "outputs": [],
   "source": [
    "pipe.preprocess_queue.add_process(normalize)\n",
    "pipe.process_queue.add_process(resample)\n",
    "pipe.process_queue.add_process(decompose)\n",
    "pipe.add_feature_step(signal_features)\n",
    "pipe.add_feature_step(stat_features)\n",
    "pipe.add_feature_step(corr_features)\n"
   ]
  },
  {
   "cell_type": "code",
   "execution_count": 31,
   "metadata": {},
   "outputs": [
    {
     "data": {
      "text/plain": [
       "[<biobss.pipeline.feature_extraction.Feature at 0x1e74c05af70>,\n",
       " <biobss.pipeline.feature_extraction.Feature at 0x1e74c05afa0>,\n",
       " <biobss.pipeline.feature_extraction.Feature at 0x1e74c05ae80>]"
      ]
     },
     "execution_count": 31,
     "metadata": {},
     "output_type": "execute_result"
    }
   ],
   "source": [
    "pipe.feature_list"
   ]
  },
  {
   "cell_type": "code",
   "execution_count": 32,
   "metadata": {},
   "outputs": [],
   "source": [
    "pipe.set_input(sample_data, 700, name=\"EDA_Raw\", modality=\"EDA\")\n"
   ]
  },
  {
   "cell_type": "code",
   "execution_count": 33,
   "metadata": {},
   "outputs": [
    {
     "data": {
      "text/plain": [
       "Signal object with 1 channel(s)\n",
       "EDA_Raw (EDA) (700Hz) ((5920.0,)s) (1 windows) ((4144000,))"
      ]
     },
     "execution_count": 33,
     "metadata": {},
     "output_type": "execute_result"
    }
   ],
   "source": [
    "pipe.input\n"
   ]
  },
  {
   "cell_type": "code",
   "execution_count": 34,
   "metadata": {},
   "outputs": [
    {
     "data": {
      "text/plain": [
       "Bio_Pipeline:\n",
       "\tModality: EDA\n",
       "\tSignal Type: EDA\n",
       "\tPreprocessors: Process list:\n",
       "\t1: normalize_signal\n",
       "\n",
       "\tProcessors: Process list:\n",
       "\t1: resample_signal_object\n",
       "\t2: eda_decompose\n",
       "\n",
       "\tPostprocessors: Process list:\n",
       "\n",
       "\tWindow Size(Seconds): 60\n",
       "\tStep Size: 30"
      ]
     },
     "execution_count": 34,
     "metadata": {},
     "output_type": "execute_result"
    }
   ],
   "source": [
    "pipe\n"
   ]
  },
  {
   "cell_type": "code",
   "execution_count": 35,
   "metadata": {},
   "outputs": [
    {
     "name": "stderr",
     "output_type": "stream",
     "text": [
      "c:\\Users\\Cagatay\\Desktop\\Workspace\\Biobss Pipeline\\biobss\\examples\\..\\biobss\\pipeline\\bio_process.py:54: UserWarning: Vectorized method failed. Trying scalar method. It may be significantly slower.\n",
      "  warnings.warn(\n"
     ]
    }
   ],
   "source": [
    "pipe.run_pipeline()\n"
   ]
  },
  {
   "cell_type": "markdown",
   "metadata": {},
   "source": []
  },
  {
   "cell_type": "code",
   "execution_count": 36,
   "metadata": {},
   "outputs": [
    {
     "data": {
      "text/plain": [
       "Signal object with 3 channel(s)\n",
       "EDA_Raw (EDA) (350Hz) (60.0s) (196 windows) ((196, 21000))\n",
       "EDA_Tonic (EDA) (350Hz) (60.0s) (196 windows) ((196, 21000))\n",
       "EDA_Phasic (EDA) (350Hz) (60.0s) (196 windows) ((196, 21000))"
      ]
     },
     "execution_count": 36,
     "metadata": {},
     "output_type": "execute_result"
    }
   ],
   "source": [
    "pipe.input\n"
   ]
  },
  {
   "cell_type": "markdown",
   "metadata": {},
   "source": []
  },
  {
   "cell_type": "code",
   "execution_count": 37,
   "metadata": {},
   "outputs": [],
   "source": [
    "pipe.extract_features()\n"
   ]
  },
  {
   "cell_type": "code",
   "execution_count": 38,
   "metadata": {},
   "outputs": [
    {
     "data": {
      "text/html": [
       "<div>\n",
       "<style scoped>\n",
       "    .dataframe tbody tr th:only-of-type {\n",
       "        vertical-align: middle;\n",
       "    }\n",
       "\n",
       "    .dataframe tbody tr th {\n",
       "        vertical-align: top;\n",
       "    }\n",
       "\n",
       "    .dataframe thead th {\n",
       "        text-align: right;\n",
       "    }\n",
       "</style>\n",
       "<table border=\"1\" class=\"dataframe\">\n",
       "  <thead>\n",
       "    <tr style=\"text-align: right;\">\n",
       "      <th></th>\n",
       "      <th>EDA_Raw_rms</th>\n",
       "      <th>EDA_Raw_acr_length</th>\n",
       "      <th>EDA_Raw_integral</th>\n",
       "      <th>EDA_Raw_average_power</th>\n",
       "      <th>EDA_Tonic_rms</th>\n",
       "      <th>EDA_Tonic_acr_length</th>\n",
       "      <th>EDA_Tonic_integral</th>\n",
       "      <th>EDA_Tonic_average_power</th>\n",
       "      <th>EDA_Phasic_rms</th>\n",
       "      <th>EDA_Phasic_acr_length</th>\n",
       "      <th>...</th>\n",
       "      <th>EDA_Phasic_std</th>\n",
       "      <th>EDA_Phasic_max</th>\n",
       "      <th>EDA_Phasic_min</th>\n",
       "      <th>EDA_Phasic_range</th>\n",
       "      <th>EDA_Phasic_kurtosis</th>\n",
       "      <th>EDA_Phasic_skew</th>\n",
       "      <th>EDA_Phasic_momentum</th>\n",
       "      <th>EDA_RawEDA_Tonic_correl</th>\n",
       "      <th>EDA_RawEDA_Phasic_correl</th>\n",
       "      <th>EDA_TonicEDA_Phasic_correl</th>\n",
       "    </tr>\n",
       "  </thead>\n",
       "  <tbody>\n",
       "    <tr>\n",
       "      <th>0.0</th>\n",
       "      <td>1.307888</td>\n",
       "      <td>20999.749871</td>\n",
       "      <td>27433.892859</td>\n",
       "      <td>1.710571</td>\n",
       "      <td>1.309213</td>\n",
       "      <td>20999.000004</td>\n",
       "      <td>27482.780081</td>\n",
       "      <td>1.714039</td>\n",
       "      <td>0.027720</td>\n",
       "      <td>20999.749859</td>\n",
       "      <td>...</td>\n",
       "      <td>0.027651</td>\n",
       "      <td>0.145000</td>\n",
       "      <td>-0.091791</td>\n",
       "      <td>0.236791</td>\n",
       "      <td>3.016872</td>\n",
       "      <td>0.509587</td>\n",
       "      <td>0.000765</td>\n",
       "      <td>0.892838</td>\n",
       "      <td>0.460238</td>\n",
       "      <td>0.082783</td>\n",
       "    </tr>\n",
       "    <tr>\n",
       "      <th>30.0</th>\n",
       "      <td>1.198245</td>\n",
       "      <td>20999.691437</td>\n",
       "      <td>25031.102031</td>\n",
       "      <td>1.435790</td>\n",
       "      <td>1.195650</td>\n",
       "      <td>20999.000008</td>\n",
       "      <td>24990.627494</td>\n",
       "      <td>1.429578</td>\n",
       "      <td>0.030452</td>\n",
       "      <td>20999.691421</td>\n",
       "      <td>...</td>\n",
       "      <td>0.030409</td>\n",
       "      <td>0.152091</td>\n",
       "      <td>-0.103868</td>\n",
       "      <td>0.255959</td>\n",
       "      <td>2.706003</td>\n",
       "      <td>0.798563</td>\n",
       "      <td>0.000925</td>\n",
       "      <td>0.968017</td>\n",
       "      <td>0.354422</td>\n",
       "      <td>0.113115</td>\n",
       "    </tr>\n",
       "    <tr>\n",
       "      <th>60.0</th>\n",
       "      <td>1.129678</td>\n",
       "      <td>20999.747814</td>\n",
       "      <td>23684.427371</td>\n",
       "      <td>1.276173</td>\n",
       "      <td>1.127347</td>\n",
       "      <td>20999.000004</td>\n",
       "      <td>23651.296913</td>\n",
       "      <td>1.270911</td>\n",
       "      <td>0.023422</td>\n",
       "      <td>20999.747805</td>\n",
       "      <td>...</td>\n",
       "      <td>0.023410</td>\n",
       "      <td>0.131675</td>\n",
       "      <td>-0.088539</td>\n",
       "      <td>0.220214</td>\n",
       "      <td>2.598129</td>\n",
       "      <td>1.147680</td>\n",
       "      <td>0.000548</td>\n",
       "      <td>0.932820</td>\n",
       "      <td>0.507695</td>\n",
       "      <td>0.186358</td>\n",
       "    </tr>\n",
       "    <tr>\n",
       "      <th>90.0</th>\n",
       "      <td>1.269795</td>\n",
       "      <td>20999.845415</td>\n",
       "      <td>26563.982437</td>\n",
       "      <td>1.612380</td>\n",
       "      <td>1.271075</td>\n",
       "      <td>20999.000006</td>\n",
       "      <td>26598.241688</td>\n",
       "      <td>1.615631</td>\n",
       "      <td>0.018601</td>\n",
       "      <td>20999.845408</td>\n",
       "      <td>...</td>\n",
       "      <td>0.018491</td>\n",
       "      <td>0.128411</td>\n",
       "      <td>-0.139853</td>\n",
       "      <td>0.268264</td>\n",
       "      <td>5.028224</td>\n",
       "      <td>1.476359</td>\n",
       "      <td>0.000342</td>\n",
       "      <td>0.986644</td>\n",
       "      <td>0.261989</td>\n",
       "      <td>0.108369</td>\n",
       "    </tr>\n",
       "    <tr>\n",
       "      <th>120.0</th>\n",
       "      <td>1.403914</td>\n",
       "      <td>20999.756391</td>\n",
       "      <td>29464.026703</td>\n",
       "      <td>1.970973</td>\n",
       "      <td>1.405365</td>\n",
       "      <td>20999.000001</td>\n",
       "      <td>29497.002789</td>\n",
       "      <td>1.975052</td>\n",
       "      <td>0.010810</td>\n",
       "      <td>20999.756389</td>\n",
       "      <td>...</td>\n",
       "      <td>0.010724</td>\n",
       "      <td>0.060718</td>\n",
       "      <td>-0.133899</td>\n",
       "      <td>0.194617</td>\n",
       "      <td>4.515790</td>\n",
       "      <td>1.083956</td>\n",
       "      <td>0.000115</td>\n",
       "      <td>0.980714</td>\n",
       "      <td>0.432707</td>\n",
       "      <td>0.255073</td>\n",
       "    </tr>\n",
       "    <tr>\n",
       "      <th>...</th>\n",
       "      <td>...</td>\n",
       "      <td>...</td>\n",
       "      <td>...</td>\n",
       "      <td>...</td>\n",
       "      <td>...</td>\n",
       "      <td>...</td>\n",
       "      <td>...</td>\n",
       "      <td>...</td>\n",
       "      <td>...</td>\n",
       "      <td>...</td>\n",
       "      <td>...</td>\n",
       "      <td>...</td>\n",
       "      <td>...</td>\n",
       "      <td>...</td>\n",
       "      <td>...</td>\n",
       "      <td>...</td>\n",
       "      <td>...</td>\n",
       "      <td>...</td>\n",
       "      <td>...</td>\n",
       "      <td>...</td>\n",
       "      <td>...</td>\n",
       "    </tr>\n",
       "    <tr>\n",
       "      <th>5730.0</th>\n",
       "      <td>0.890785</td>\n",
       "      <td>20999.227503</td>\n",
       "      <td>18704.470559</td>\n",
       "      <td>0.793498</td>\n",
       "      <td>0.891307</td>\n",
       "      <td>20999.000000</td>\n",
       "      <td>18716.400245</td>\n",
       "      <td>0.794428</td>\n",
       "      <td>0.007761</td>\n",
       "      <td>20999.227502</td>\n",
       "      <td>...</td>\n",
       "      <td>0.007757</td>\n",
       "      <td>0.056128</td>\n",
       "      <td>-0.070630</td>\n",
       "      <td>0.126758</td>\n",
       "      <td>0.976698</td>\n",
       "      <td>0.246343</td>\n",
       "      <td>0.000060</td>\n",
       "      <td>0.797756</td>\n",
       "      <td>0.714758</td>\n",
       "      <td>0.168777</td>\n",
       "    </tr>\n",
       "    <tr>\n",
       "      <th>5760.0</th>\n",
       "      <td>0.896704</td>\n",
       "      <td>20999.279074</td>\n",
       "      <td>18829.164693</td>\n",
       "      <td>0.804078</td>\n",
       "      <td>0.896698</td>\n",
       "      <td>20999.000000</td>\n",
       "      <td>18829.899100</td>\n",
       "      <td>0.804068</td>\n",
       "      <td>0.007658</td>\n",
       "      <td>20999.279074</td>\n",
       "      <td>...</td>\n",
       "      <td>0.007657</td>\n",
       "      <td>0.064662</td>\n",
       "      <td>-0.092447</td>\n",
       "      <td>0.157109</td>\n",
       "      <td>2.723685</td>\n",
       "      <td>0.113229</td>\n",
       "      <td>0.000059</td>\n",
       "      <td>0.775292</td>\n",
       "      <td>0.695236</td>\n",
       "      <td>0.107024</td>\n",
       "    </tr>\n",
       "    <tr>\n",
       "      <th>5790.0</th>\n",
       "      <td>0.890915</td>\n",
       "      <td>20999.286985</td>\n",
       "      <td>18707.290795</td>\n",
       "      <td>0.793729</td>\n",
       "      <td>0.890900</td>\n",
       "      <td>20999.000000</td>\n",
       "      <td>18707.898835</td>\n",
       "      <td>0.793703</td>\n",
       "      <td>0.007333</td>\n",
       "      <td>20999.286985</td>\n",
       "      <td>...</td>\n",
       "      <td>0.007321</td>\n",
       "      <td>0.065426</td>\n",
       "      <td>-0.090578</td>\n",
       "      <td>0.156004</td>\n",
       "      <td>3.753207</td>\n",
       "      <td>0.233655</td>\n",
       "      <td>0.000054</td>\n",
       "      <td>0.789331</td>\n",
       "      <td>0.710548</td>\n",
       "      <td>0.155130</td>\n",
       "    </tr>\n",
       "    <tr>\n",
       "      <th>5820.0</th>\n",
       "      <td>0.916721</td>\n",
       "      <td>20999.240598</td>\n",
       "      <td>19201.646324</td>\n",
       "      <td>0.840378</td>\n",
       "      <td>0.915726</td>\n",
       "      <td>20999.000004</td>\n",
       "      <td>19196.022858</td>\n",
       "      <td>0.838554</td>\n",
       "      <td>0.016851</td>\n",
       "      <td>20999.240590</td>\n",
       "      <td>...</td>\n",
       "      <td>0.016665</td>\n",
       "      <td>0.060293</td>\n",
       "      <td>-0.093919</td>\n",
       "      <td>0.154212</td>\n",
       "      <td>2.670031</td>\n",
       "      <td>-0.950739</td>\n",
       "      <td>0.000278</td>\n",
       "      <td>0.958710</td>\n",
       "      <td>0.188909</td>\n",
       "      <td>-0.026640</td>\n",
       "    </tr>\n",
       "    <tr>\n",
       "      <th>5850.0</th>\n",
       "      <td>0.988896</td>\n",
       "      <td>20999.166637</td>\n",
       "      <td>20700.812171</td>\n",
       "      <td>0.977916</td>\n",
       "      <td>0.990928</td>\n",
       "      <td>20999.000006</td>\n",
       "      <td>20758.169771</td>\n",
       "      <td>0.981937</td>\n",
       "      <td>0.024847</td>\n",
       "      <td>20999.166625</td>\n",
       "      <td>...</td>\n",
       "      <td>0.024829</td>\n",
       "      <td>0.082338</td>\n",
       "      <td>-0.070102</td>\n",
       "      <td>0.152440</td>\n",
       "      <td>0.381171</td>\n",
       "      <td>0.501772</td>\n",
       "      <td>0.000616</td>\n",
       "      <td>0.947101</td>\n",
       "      <td>0.549990</td>\n",
       "      <td>0.257938</td>\n",
       "    </tr>\n",
       "  </tbody>\n",
       "</table>\n",
       "<p>196 rows × 39 columns</p>\n",
       "</div>"
      ],
      "text/plain": [
       "        EDA_Raw_rms  EDA_Raw_acr_length  EDA_Raw_integral  \\\n",
       "0.0        1.307888        20999.749871      27433.892859   \n",
       "30.0       1.198245        20999.691437      25031.102031   \n",
       "60.0       1.129678        20999.747814      23684.427371   \n",
       "90.0       1.269795        20999.845415      26563.982437   \n",
       "120.0      1.403914        20999.756391      29464.026703   \n",
       "...             ...                 ...               ...   \n",
       "5730.0     0.890785        20999.227503      18704.470559   \n",
       "5760.0     0.896704        20999.279074      18829.164693   \n",
       "5790.0     0.890915        20999.286985      18707.290795   \n",
       "5820.0     0.916721        20999.240598      19201.646324   \n",
       "5850.0     0.988896        20999.166637      20700.812171   \n",
       "\n",
       "        EDA_Raw_average_power  EDA_Tonic_rms  EDA_Tonic_acr_length  \\\n",
       "0.0                  1.710571       1.309213          20999.000004   \n",
       "30.0                 1.435790       1.195650          20999.000008   \n",
       "60.0                 1.276173       1.127347          20999.000004   \n",
       "90.0                 1.612380       1.271075          20999.000006   \n",
       "120.0                1.970973       1.405365          20999.000001   \n",
       "...                       ...            ...                   ...   \n",
       "5730.0               0.793498       0.891307          20999.000000   \n",
       "5760.0               0.804078       0.896698          20999.000000   \n",
       "5790.0               0.793729       0.890900          20999.000000   \n",
       "5820.0               0.840378       0.915726          20999.000004   \n",
       "5850.0               0.977916       0.990928          20999.000006   \n",
       "\n",
       "        EDA_Tonic_integral  EDA_Tonic_average_power  EDA_Phasic_rms  \\\n",
       "0.0           27482.780081                 1.714039        0.027720   \n",
       "30.0          24990.627494                 1.429578        0.030452   \n",
       "60.0          23651.296913                 1.270911        0.023422   \n",
       "90.0          26598.241688                 1.615631        0.018601   \n",
       "120.0         29497.002789                 1.975052        0.010810   \n",
       "...                    ...                      ...             ...   \n",
       "5730.0        18716.400245                 0.794428        0.007761   \n",
       "5760.0        18829.899100                 0.804068        0.007658   \n",
       "5790.0        18707.898835                 0.793703        0.007333   \n",
       "5820.0        19196.022858                 0.838554        0.016851   \n",
       "5850.0        20758.169771                 0.981937        0.024847   \n",
       "\n",
       "        EDA_Phasic_acr_length  ...  EDA_Phasic_std  EDA_Phasic_max  \\\n",
       "0.0              20999.749859  ...        0.027651        0.145000   \n",
       "30.0             20999.691421  ...        0.030409        0.152091   \n",
       "60.0             20999.747805  ...        0.023410        0.131675   \n",
       "90.0             20999.845408  ...        0.018491        0.128411   \n",
       "120.0            20999.756389  ...        0.010724        0.060718   \n",
       "...                       ...  ...             ...             ...   \n",
       "5730.0           20999.227502  ...        0.007757        0.056128   \n",
       "5760.0           20999.279074  ...        0.007657        0.064662   \n",
       "5790.0           20999.286985  ...        0.007321        0.065426   \n",
       "5820.0           20999.240590  ...        0.016665        0.060293   \n",
       "5850.0           20999.166625  ...        0.024829        0.082338   \n",
       "\n",
       "        EDA_Phasic_min  EDA_Phasic_range  EDA_Phasic_kurtosis  \\\n",
       "0.0          -0.091791          0.236791             3.016872   \n",
       "30.0         -0.103868          0.255959             2.706003   \n",
       "60.0         -0.088539          0.220214             2.598129   \n",
       "90.0         -0.139853          0.268264             5.028224   \n",
       "120.0        -0.133899          0.194617             4.515790   \n",
       "...                ...               ...                  ...   \n",
       "5730.0       -0.070630          0.126758             0.976698   \n",
       "5760.0       -0.092447          0.157109             2.723685   \n",
       "5790.0       -0.090578          0.156004             3.753207   \n",
       "5820.0       -0.093919          0.154212             2.670031   \n",
       "5850.0       -0.070102          0.152440             0.381171   \n",
       "\n",
       "        EDA_Phasic_skew  EDA_Phasic_momentum  EDA_RawEDA_Tonic_correl  \\\n",
       "0.0            0.509587             0.000765                 0.892838   \n",
       "30.0           0.798563             0.000925                 0.968017   \n",
       "60.0           1.147680             0.000548                 0.932820   \n",
       "90.0           1.476359             0.000342                 0.986644   \n",
       "120.0          1.083956             0.000115                 0.980714   \n",
       "...                 ...                  ...                      ...   \n",
       "5730.0         0.246343             0.000060                 0.797756   \n",
       "5760.0         0.113229             0.000059                 0.775292   \n",
       "5790.0         0.233655             0.000054                 0.789331   \n",
       "5820.0        -0.950739             0.000278                 0.958710   \n",
       "5850.0         0.501772             0.000616                 0.947101   \n",
       "\n",
       "        EDA_RawEDA_Phasic_correl  EDA_TonicEDA_Phasic_correl  \n",
       "0.0                     0.460238                    0.082783  \n",
       "30.0                    0.354422                    0.113115  \n",
       "60.0                    0.507695                    0.186358  \n",
       "90.0                    0.261989                    0.108369  \n",
       "120.0                   0.432707                    0.255073  \n",
       "...                          ...                         ...  \n",
       "5730.0                  0.714758                    0.168777  \n",
       "5760.0                  0.695236                    0.107024  \n",
       "5790.0                  0.710548                    0.155130  \n",
       "5820.0                  0.188909                   -0.026640  \n",
       "5850.0                  0.549990                    0.257938  \n",
       "\n",
       "[196 rows x 39 columns]"
      ]
     },
     "execution_count": 38,
     "metadata": {},
     "output_type": "execute_result"
    }
   ],
   "source": [
    "pipe.features\n"
   ]
  },
  {
   "cell_type": "code",
   "execution_count": 40,
   "metadata": {},
   "outputs": [
    {
     "data": {
      "text/plain": [
       "[<matplotlib.lines.Line2D at 0x1e75e771f10>]"
      ]
     },
     "execution_count": 40,
     "metadata": {},
     "output_type": "execute_result"
    },
    {
     "data": {
      "image/png": "[encoded data removed]",
      "text/plain": [
       "<Figure size 432x288 with 1 Axes>"
      ]
     },
     "metadata": {
      "needs_background": "light"
     },
     "output_type": "display_data"
    }
   ],
   "source": [
    "import matplotlib.pyplot as plt\n",
    "\n",
    "plt.plot(pipe.features['EDA_Tonic_mean'])\n"
   ]
  },
  {
   "cell_type": "code",
   "execution_count": 41,
   "metadata": {},
   "outputs": [
    {
     "data": {
      "text/plain": [
       "0.0       20999.749871\n",
       "30.0      20999.691437\n",
       "60.0      20999.747814\n",
       "90.0      20999.845415\n",
       "120.0     20999.756391\n",
       "              ...     \n",
       "5730.0    20999.227503\n",
       "5760.0    20999.279074\n",
       "5790.0    20999.286985\n",
       "5820.0    20999.240598\n",
       "5850.0    20999.166637\n",
       "Name: EDA_Raw_acr_length, Length: 196, dtype: float64"
      ]
     },
     "execution_count": 41,
     "metadata": {},
     "output_type": "execute_result"
    }
   ],
   "source": [
    "pipe.features['EDA_Raw_acr_length']"
   ]
  }
 ],
 "metadata": {
  "interpreter": {
   "hash": "8950f7a71e2e41dbfe25212825f95b5df952ca15c8730d5e6e2bbb35757b3f4a"
  },
  "kernelspec": {
   "display_name": "Python 3.8.13 ('bioenv')",
   "language": "python",
   "name": "python3"
  },
  "language_info": {
   "codemirror_mode": {
    "name": "ipython",
    "version": 3
   },
   "file_extension": ".py",
   "mimetype": "text/x-python",
   "name": "python",
   "nbconvert_exporter": "python",
   "pygments_lexer": "ipython3",
   "version": "3.8.13"
  },
  "orig_nbformat": 4
 },
 "nbformat": 4,
 "nbformat_minor": 2
}
