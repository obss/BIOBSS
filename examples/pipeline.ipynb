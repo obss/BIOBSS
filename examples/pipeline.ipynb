{
 "cells": [
  {
   "cell_type": "code",
   "execution_count": 1,
   "metadata": {},
   "outputs": [],
   "source": [
    "import sys\n",
    "import pandas as pd\n",
    "import numpy as np\n"
   ]
  },
  {
   "cell_type": "code",
   "execution_count": 2,
   "metadata": {},
   "outputs": [],
   "source": [
    "sys.path.append(\"../\")\n"
   ]
  },
  {
   "cell_type": "code",
   "execution_count": 3,
   "metadata": {},
   "outputs": [],
   "source": [
    "import biobss\n"
   ]
  },
  {
   "cell_type": "code",
   "execution_count": 4,
   "metadata": {},
   "outputs": [],
   "source": [
    "import neurokit2 as nk\n",
    "sample_data = pd.read_pickle(\"..\\sample_data\\\\EDA_Chest.pkl\")\n",
    "sample_data = sample_data.flatten()\n"
   ]
  },
  {
   "cell_type": "markdown",
   "metadata": {},
   "source": []
  },
  {
   "cell_type": "code",
   "execution_count": 5,
   "metadata": {},
   "outputs": [],
   "source": [
    "decompose = biobss.pipeline.Bio_Process(\n",
    "    process_method=biobss.edatools.eda_decompose, modality=\"EDA\", sigtype=\"EDA\", method=\"highpass\")\n",
    "normalize = biobss.pipeline.Bio_Process(\n",
    "    process_method=biobss.signaltools.normalize_signal, modality=\"EDA\", sigtype=\"EDA\")\n",
    "resample = biobss.pipeline.Bio_Process(\n",
    "    process_method=biobss.signaltools.resample_signal_object, modality=\"EDA\", sigtype=\"EDA\", target_sample_rate=350)\n",
    "signal_features = biobss.pipeline.Feature(name=\"signal_features\", function=biobss.edatools.signal_features.get_signal_features, parameters={\n",
    "                                           \"modality\": \"EDA\", \"sigtype\": \"EDA\"}, input_signals={'EDA_Raw':'EDA_Raw', 'EDA_Tonic':'EDA_Tonic', 'EDA_Phasic':'EDA_Phasic'})\n",
    "stat_features = biobss.pipeline.Feature(name=\"stat_features\", function=biobss.common.stat_features.get_stat_features, parameters={\n",
    "                                         \"modality\": \"EDA\", \"sigtype\": \"EDA\"}, input_signals={'EDA_Raw':'EDA_Raw', 'EDA_Tonic':'EDA_Tonic', 'EDA_Phasic':'EDA_Phasic'})\n",
    "corr_features = biobss.pipeline.Feature(name=\"corr_features\", function=biobss.common.correlation_features, parameters={\n",
    "                                        \"modality\": \"EDA\", \"sigtype\": \"EDA\",\"signal_names\":['EDA_Raw','EDA_Tonic','EDA_Phasic']}, input_signals={'EDA':['EDA_Raw','EDA_Tonic','EDA_Phasic']})\n"
   ]
  },
  {
   "cell_type": "code",
   "execution_count": 6,
   "metadata": {},
   "outputs": [],
   "source": [
    "pipe = biobss.pipeline.Bio_Pipeline(modality=\"EDA\", sigtype=\"EDA\", windowed_process=True,\n",
    "                                    window_size=60, step_size=30, features_list=[])\n"
   ]
  },
  {
   "cell_type": "code",
   "execution_count": 7,
   "metadata": {},
   "outputs": [],
   "source": [
    "pipe.preprocess_queue.add_process(normalize)\n",
    "pipe.process_queue.add_process(decompose)\n",
    "pipe.process_queue.add_process(resample)\n",
    "pipe.add_feature_step(signal_features)\n",
    "pipe.add_feature_step(stat_features)\n",
    "pipe.add_feature_step(corr_features)\n"
   ]
  },
  {
   "cell_type": "code",
   "execution_count": 8,
   "metadata": {},
   "outputs": [
    {
     "data": {
      "text/plain": [
       "[<biobss.pipeline.feature_extraction.Feature at 0x1d41164e520>]"
      ]
     },
     "execution_count": 8,
     "metadata": {},
     "output_type": "execute_result"
    }
   ],
   "source": [
    "pipe.feature_list"
   ]
  },
  {
   "cell_type": "code",
   "execution_count": 9,
   "metadata": {},
   "outputs": [],
   "source": [
    "pipe.set_input(sample_data, 700, name=\"EDA_Raw\", modality=\"EDA\")\n"
   ]
  },
  {
   "cell_type": "code",
   "execution_count": 10,
   "metadata": {},
   "outputs": [
    {
     "data": {
      "text/plain": [
       "Signal object with 1 channel(s)\n",
       "EDA_Raw (EDA) (700Hz) ((5920.0,)s) (1 windows) ((4144000,))"
      ]
     },
     "execution_count": 10,
     "metadata": {},
     "output_type": "execute_result"
    }
   ],
   "source": [
    "pipe.input\n"
   ]
  },
  {
   "cell_type": "code",
   "execution_count": 11,
   "metadata": {},
   "outputs": [
    {
     "data": {
      "text/plain": [
       "Bio_Pipeline:\n",
       "\tModality: EDA\n",
       "\tSignal Type: EDA\n",
       "\tPreprocessors: Process list:\n",
       "\t1: normalize_signal\n",
       "\n",
       "\tProcessors: Process list:\n",
       "\t1: eda_decompose\n",
       "\t2: resample_signal_object\n",
       "\n",
       "\tPostprocessors: Process list:\n",
       "\n",
       "\tWindow Size(Seconds): 60\n",
       "\tStep Size: 30"
      ]
     },
     "execution_count": 11,
     "metadata": {},
     "output_type": "execute_result"
    }
   ],
   "source": [
    "pipe\n"
   ]
  },
  {
   "cell_type": "code",
   "execution_count": 12,
   "metadata": {},
   "outputs": [
    {
     "name": "stderr",
     "output_type": "stream",
     "text": [
      "c:\\Users\\Cagatay\\Desktop\\Workspace\\Biobss Pipeline\\biobss\\examples\\..\\biobss\\pipeline\\bio_process.py:54: UserWarning: Vectorized method failed. Trying scalar method. It may be significantly slower.\n",
      "  warnings.warn(\n"
     ]
    }
   ],
   "source": [
    "pipe.run_pipeline()\n"
   ]
  },
  {
   "cell_type": "markdown",
   "metadata": {},
   "source": []
  },
  {
   "cell_type": "code",
   "execution_count": 13,
   "metadata": {},
   "outputs": [
    {
     "data": {
      "text/plain": [
       "Signal object with 7 channel(s)\n",
       "EDA_Raw (EDA) (350Hz) (60.0s) (196 windows) ((196, 21000))\n",
       "EDA_Tonic (EDA) (350Hz) (60.0s) (196 windows) ((196, 21000))\n",
       "EDA_Phasic (EDA) (350Hz) (60.0s) (196 windows) ((196, 21000))"
      ]
     },
     "execution_count": 13,
     "metadata": {},
     "output_type": "execute_result"
    }
   ],
   "source": [
    "pipe.input\n"
   ]
  },
  {
   "cell_type": "code",
   "execution_count": 14,
   "metadata": {},
   "outputs": [],
   "source": [
    "pipe.extract_features()\n"
   ]
  },
  {
   "cell_type": "code",
   "execution_count": 15,
   "metadata": {},
   "outputs": [
    {
     "data": {
      "text/html": [
       "<div>\n",
       "<style scoped>\n",
       "    .dataframe tbody tr th:only-of-type {\n",
       "        vertical-align: middle;\n",
       "    }\n",
       "\n",
       "    .dataframe tbody tr th {\n",
       "        vertical-align: top;\n",
       "    }\n",
       "\n",
       "    .dataframe thead th {\n",
       "        text-align: right;\n",
       "    }\n",
       "</style>\n",
       "<table border=\"1\" class=\"dataframe\">\n",
       "  <thead>\n",
       "    <tr style=\"text-align: right;\">\n",
       "      <th></th>\n",
       "      <th>EDA_RawEDA_Tonic_correl</th>\n",
       "      <th>EDA_RawEDA_Phasic_correl</th>\n",
       "      <th>EDA_TonicEDA_Phasic_correl</th>\n",
       "    </tr>\n",
       "  </thead>\n",
       "  <tbody>\n",
       "    <tr>\n",
       "      <th>0.0</th>\n",
       "      <td>0.906281</td>\n",
       "      <td>0.564965</td>\n",
       "      <td>0.199536</td>\n",
       "    </tr>\n",
       "    <tr>\n",
       "      <th>30.0</th>\n",
       "      <td>0.968859</td>\n",
       "      <td>0.316593</td>\n",
       "      <td>0.090156</td>\n",
       "    </tr>\n",
       "    <tr>\n",
       "      <th>60.0</th>\n",
       "      <td>0.933856</td>\n",
       "      <td>0.559383</td>\n",
       "      <td>0.234547</td>\n",
       "    </tr>\n",
       "    <tr>\n",
       "      <th>90.0</th>\n",
       "      <td>0.990459</td>\n",
       "      <td>0.159469</td>\n",
       "      <td>0.027017</td>\n",
       "    </tr>\n",
       "    <tr>\n",
       "      <th>120.0</th>\n",
       "      <td>0.988241</td>\n",
       "      <td>0.166968</td>\n",
       "      <td>0.016125</td>\n",
       "    </tr>\n",
       "    <tr>\n",
       "      <th>...</th>\n",
       "      <td>...</td>\n",
       "      <td>...</td>\n",
       "      <td>...</td>\n",
       "    </tr>\n",
       "    <tr>\n",
       "      <th>5730.0</th>\n",
       "      <td>0.795176</td>\n",
       "      <td>0.720952</td>\n",
       "      <td>0.168890</td>\n",
       "    </tr>\n",
       "    <tr>\n",
       "      <th>5760.0</th>\n",
       "      <td>0.784588</td>\n",
       "      <td>0.746041</td>\n",
       "      <td>0.172848</td>\n",
       "    </tr>\n",
       "    <tr>\n",
       "      <th>5790.0</th>\n",
       "      <td>0.790777</td>\n",
       "      <td>0.714396</td>\n",
       "      <td>0.149913</td>\n",
       "    </tr>\n",
       "    <tr>\n",
       "      <th>5820.0</th>\n",
       "      <td>0.974681</td>\n",
       "      <td>0.282675</td>\n",
       "      <td>0.093617</td>\n",
       "    </tr>\n",
       "    <tr>\n",
       "      <th>5850.0</th>\n",
       "      <td>0.946598</td>\n",
       "      <td>0.487568</td>\n",
       "      <td>0.193927</td>\n",
       "    </tr>\n",
       "  </tbody>\n",
       "</table>\n",
       "<p>196 rows × 3 columns</p>\n",
       "</div>"
      ],
      "text/plain": [
       "        EDA_RawEDA_Tonic_correl  EDA_RawEDA_Phasic_correl  \\\n",
       "0.0                    0.906281                  0.564965   \n",
       "30.0                   0.968859                  0.316593   \n",
       "60.0                   0.933856                  0.559383   \n",
       "90.0                   0.990459                  0.159469   \n",
       "120.0                  0.988241                  0.166968   \n",
       "...                         ...                       ...   \n",
       "5730.0                 0.795176                  0.720952   \n",
       "5760.0                 0.784588                  0.746041   \n",
       "5790.0                 0.790777                  0.714396   \n",
       "5820.0                 0.974681                  0.282675   \n",
       "5850.0                 0.946598                  0.487568   \n",
       "\n",
       "        EDA_TonicEDA_Phasic_correl  \n",
       "0.0                       0.199536  \n",
       "30.0                      0.090156  \n",
       "60.0                      0.234547  \n",
       "90.0                      0.027017  \n",
       "120.0                     0.016125  \n",
       "...                            ...  \n",
       "5730.0                    0.168890  \n",
       "5760.0                    0.172848  \n",
       "5790.0                    0.149913  \n",
       "5820.0                    0.093617  \n",
       "5850.0                    0.193927  \n",
       "\n",
       "[196 rows x 3 columns]"
      ]
     },
     "execution_count": 15,
     "metadata": {},
     "output_type": "execute_result"
    }
   ],
   "source": [
    "pipe.features\n"
   ]
  },
  {
   "cell_type": "code",
   "execution_count": 16,
   "metadata": {},
   "outputs": [
    {
     "data": {
      "text/plain": [
       "[<matplotlib.lines.Line2D at 0x1d43d32d370>]"
      ]
     },
     "execution_count": 16,
     "metadata": {},
     "output_type": "execute_result"
    },
    {
     "data": {
      "image/png": "[encoded data removed]",
      "text/plain": [
       "<Figure size 432x288 with 1 Axes>"
      ]
     },
     "metadata": {
      "needs_background": "light"
     },
     "output_type": "display_data"
    }
   ],
   "source": [
    "import matplotlib.pyplot as plt\n",
    "plt.plot(pipe.features['EDA_RawEDA_Tonic_correl'])\n"
   ]
  },
  {
   "cell_type": "code",
   "execution_count": 18,
   "metadata": {},
   "outputs": [
    {
     "data": {
      "text/html": [
       "<div>\n",
       "<style scoped>\n",
       "    .dataframe tbody tr th:only-of-type {\n",
       "        vertical-align: middle;\n",
       "    }\n",
       "\n",
       "    .dataframe tbody tr th {\n",
       "        vertical-align: top;\n",
       "    }\n",
       "\n",
       "    .dataframe thead th {\n",
       "        text-align: right;\n",
       "    }\n",
       "</style>\n",
       "<table border=\"1\" class=\"dataframe\">\n",
       "  <thead>\n",
       "    <tr style=\"text-align: right;\">\n",
       "      <th></th>\n",
       "      <th>EDA_Raw_acr_length</th>\n",
       "      <th>EDA_Raw_acr_length</th>\n",
       "      <th>EDA_Raw_acr_length</th>\n",
       "    </tr>\n",
       "  </thead>\n",
       "  <tbody>\n",
       "    <tr>\n",
       "      <th>0.0</th>\n",
       "      <td>20999.749871</td>\n",
       "      <td>20999.749871</td>\n",
       "      <td>20999.749871</td>\n",
       "    </tr>\n",
       "    <tr>\n",
       "      <th>30.0</th>\n",
       "      <td>20999.691437</td>\n",
       "      <td>20999.691437</td>\n",
       "      <td>20999.691437</td>\n",
       "    </tr>\n",
       "    <tr>\n",
       "      <th>60.0</th>\n",
       "      <td>20999.747814</td>\n",
       "      <td>20999.747814</td>\n",
       "      <td>20999.747814</td>\n",
       "    </tr>\n",
       "    <tr>\n",
       "      <th>90.0</th>\n",
       "      <td>20999.845415</td>\n",
       "      <td>20999.845415</td>\n",
       "      <td>20999.845415</td>\n",
       "    </tr>\n",
       "    <tr>\n",
       "      <th>120.0</th>\n",
       "      <td>20999.756391</td>\n",
       "      <td>20999.756391</td>\n",
       "      <td>20999.756391</td>\n",
       "    </tr>\n",
       "    <tr>\n",
       "      <th>...</th>\n",
       "      <td>...</td>\n",
       "      <td>...</td>\n",
       "      <td>...</td>\n",
       "    </tr>\n",
       "    <tr>\n",
       "      <th>5730.0</th>\n",
       "      <td>20999.227503</td>\n",
       "      <td>20999.227503</td>\n",
       "      <td>20999.227503</td>\n",
       "    </tr>\n",
       "    <tr>\n",
       "      <th>5760.0</th>\n",
       "      <td>20999.279074</td>\n",
       "      <td>20999.279074</td>\n",
       "      <td>20999.279074</td>\n",
       "    </tr>\n",
       "    <tr>\n",
       "      <th>5790.0</th>\n",
       "      <td>20999.286985</td>\n",
       "      <td>20999.286985</td>\n",
       "      <td>20999.286985</td>\n",
       "    </tr>\n",
       "    <tr>\n",
       "      <th>5820.0</th>\n",
       "      <td>20999.240598</td>\n",
       "      <td>20999.240598</td>\n",
       "      <td>20999.240598</td>\n",
       "    </tr>\n",
       "    <tr>\n",
       "      <th>5850.0</th>\n",
       "      <td>20999.166637</td>\n",
       "      <td>20999.166637</td>\n",
       "      <td>20999.166637</td>\n",
       "    </tr>\n",
       "  </tbody>\n",
       "</table>\n",
       "<p>196 rows × 3 columns</p>\n",
       "</div>"
      ],
      "text/plain": [
       "        EDA_Raw_acr_length  EDA_Raw_acr_length  EDA_Raw_acr_length\n",
       "0.0           20999.749871        20999.749871        20999.749871\n",
       "30.0          20999.691437        20999.691437        20999.691437\n",
       "60.0          20999.747814        20999.747814        20999.747814\n",
       "90.0          20999.845415        20999.845415        20999.845415\n",
       "120.0         20999.756391        20999.756391        20999.756391\n",
       "...                    ...                 ...                 ...\n",
       "5730.0        20999.227503        20999.227503        20999.227503\n",
       "5760.0        20999.279074        20999.279074        20999.279074\n",
       "5790.0        20999.286985        20999.286985        20999.286985\n",
       "5820.0        20999.240598        20999.240598        20999.240598\n",
       "5850.0        20999.166637        20999.166637        20999.166637\n",
       "\n",
       "[196 rows x 3 columns]"
      ]
     },
     "execution_count": 18,
     "metadata": {},
     "output_type": "execute_result"
    }
   ],
   "source": [
    "pipe.features['EDA_Raw_acr_length']"
   ]
  }
 ],
 "metadata": {
  "interpreter": {
   "hash": "8950f7a71e2e41dbfe25212825f95b5df952ca15c8730d5e6e2bbb35757b3f4a"
  },
  "kernelspec": {
   "display_name": "Python 3.8.13 ('bioenv')",
   "language": "python",
   "name": "python3"
  },
  "language_info": {
   "codemirror_mode": {
    "name": "ipython",
    "version": 3
   },
   "file_extension": ".py",
   "mimetype": "text/x-python",
   "name": "python",
   "nbconvert_exporter": "python",
   "pygments_lexer": "ipython3",
   "version": "3.8.13"
  },
  "orig_nbformat": 4
 },
 "nbformat": 4,
 "nbformat_minor": 2
}
