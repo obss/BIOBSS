{
 "cells": [
  {
   "cell_type": "code",
   "execution_count": 1,
   "metadata": {},
   "outputs": [],
   "source": [
    "import sys\n",
    "import pandas as pd\n",
    "import numpy as np\n"
   ]
  },
  {
   "cell_type": "code",
   "execution_count": 3,
   "metadata": {},
   "outputs": [],
   "source": [
    "sys.path.append(\"../\")\n"
   ]
  },
  {
   "cell_type": "code",
   "execution_count": 4,
   "metadata": {},
   "outputs": [],
   "source": [
    "import biobss\n"
   ]
  },
  {
   "cell_type": "code",
   "execution_count": 5,
   "metadata": {},
   "outputs": [],
   "source": [
    "import neurokit2 as nk\n",
    "sample_data = pd.read_pickle(\"..\\sample_data\\\\EDA_Chest.pkl\")\n",
    "sample_data = sample_data.flatten()\n"
   ]
  },
  {
   "cell_type": "code",
   "execution_count": 35,
   "metadata": {},
   "outputs": [],
   "source": [
    "decompose = biobss.pipeline.Bio_Process(\n",
    "    process_method=biobss.edatools.eda_decompose, modality=\"EDA\", sigtype=\"EDA\", method=\"highpass\")\n",
    "\n",
    "filtering=biobss.pipeline.Bio_Process(\n",
    "    process_method=biobss.signaltools.filter_signal, modality=\"EDA\", sigtype=\"EDA\",N=2, filter_type=\"highpass\",f1=0.5,fs=700)\n",
    "\n",
    "normalize = biobss.pipeline.Bio_Process(\n",
    "    process_method=biobss.signaltools.normalize_signal, modality=\"EDA\", sigtype=\"EDA\")\n",
    "resample = biobss.pipeline.Bio_Process(\n",
    "    process_method=biobss.signaltools.resample_signal_object, modality=\"EDA\", sigtype=\"EDA\", target_sample_rate=350)\n",
    "signal_features = biobss.pipeline.Feature(name=\"signal_features\", function=biobss.edatools.signal_features.get_signal_features, parameters={\n",
    "                                           \"modality\": \"EDA\", \"sigtype\": \"EDA\"}, input_signals={'EDA_Raw':'EDA_Raw', 'EDA_Tonic':'EDA_Tonic', 'EDA_Phasic':'EDA_Phasic'})\n",
    "stat_features = biobss.pipeline.Feature(name=\"stat_features\", function=biobss.common.stat_features.get_stat_features, parameters={\n",
    "                                         \"modality\": \"EDA\", \"sigtype\": \"EDA\"}, input_signals={'EDA_Raw':'EDA_Raw', 'EDA_Tonic':'EDA_Tonic', 'EDA_Phasic':'EDA_Phasic'})\n",
    "corr_features = biobss.pipeline.Feature(name=\"corr_features\", function=biobss.common.correlation_features, parameters={\n",
    "                                        \"modality\": \"EDA\", \"sigtype\": \"EDA\",\"signal_names\":['EDA_Raw','EDA_Tonic','EDA_Phasic']}, input_signals={'EDA':['EDA_Raw','EDA_Tonic','EDA_Phasic']})\n"
   ]
  },
  {
   "cell_type": "code",
   "execution_count": 36,
   "metadata": {},
   "outputs": [],
   "source": [
    "pipe = biobss.pipeline.Bio_Pipeline(modality=\"EDA\", sigtype=\"EDA\", windowed_process=True,\n",
    "                                    window_size=60, step_size=30, features_list=[])\n"
   ]
  },
  {
   "cell_type": "code",
   "execution_count": 37,
   "metadata": {},
   "outputs": [],
   "source": [
    "pipe.preprocess_queue.add_process(normalize)\n",
    "pipe.preprocess_queue.add_process(filtering)\n",
    "pipe.process_queue.add_process(decompose)\n",
    "pipe.process_queue.add_process(resample)\n",
    "pipe.add_feature_step(signal_features)\n",
    "pipe.add_feature_step(stat_features)\n",
    "pipe.add_feature_step(corr_features)\n"
   ]
  },
  {
   "cell_type": "code",
   "execution_count": 38,
   "metadata": {},
   "outputs": [
    {
     "data": {
      "text/plain": [
       "[<biobss.pipeline.feature_extraction.Feature at 0x17d9088d040>,\n",
       " <biobss.pipeline.feature_extraction.Feature at 0x17d9088d070>,\n",
       " <biobss.pipeline.feature_extraction.Feature at 0x17d9088d220>]"
      ]
     },
     "execution_count": 38,
     "metadata": {},
     "output_type": "execute_result"
    }
   ],
   "source": [
    "pipe.feature_list"
   ]
  },
  {
   "cell_type": "code",
   "execution_count": 39,
   "metadata": {},
   "outputs": [],
   "source": [
    "pipe.set_input(sample_data, 700, name=\"EDA_Raw\", modality=\"EDA\")\n"
   ]
  },
  {
   "cell_type": "code",
   "execution_count": 40,
   "metadata": {},
   "outputs": [
    {
     "data": {
      "text/plain": [
       "Signal object with 1 channel(s)\n",
       "EDA_Raw (EDA) (700Hz) ((5920.0,)s) (1 windows) ((4144000,))"
      ]
     },
     "execution_count": 40,
     "metadata": {},
     "output_type": "execute_result"
    }
   ],
   "source": [
    "pipe.input\n"
   ]
  },
  {
   "cell_type": "code",
   "execution_count": 41,
   "metadata": {},
   "outputs": [
    {
     "data": {
      "text/plain": [
       "Bio_Pipeline:\n",
       "\tModality: EDA\n",
       "\tSignal Type: EDA\n",
       "\tPreprocessors: Process list:\n",
       "\t1: normalize_signal\n",
       "\t2: filter_signal\n",
       "\n",
       "\tProcessors: Process list:\n",
       "\t1: eda_decompose\n",
       "\t2: resample_signal_object\n",
       "\n",
       "\tPostprocessors: Process list:\n",
       "\n",
       "\tWindow Size(Seconds): 60\n",
       "\tStep Size: 30"
      ]
     },
     "execution_count": 41,
     "metadata": {},
     "output_type": "execute_result"
    }
   ],
   "source": [
    "pipe\n"
   ]
  },
  {
   "cell_type": "code",
   "execution_count": 42,
   "metadata": {},
   "outputs": [
    {
     "name": "stderr",
     "output_type": "stream",
     "text": [
      "c:\\Users\\cagatay.tasci\\Desktop\\R&D Workspace\\pipelne module\\biobss\\examples\\..\\biobss\\pipeline\\bio_process.py:54: UserWarning: Vectorized method failed. Trying scalar method. It may be significantly slower.\n",
      "  warnings.warn(\n"
     ]
    }
   ],
   "source": [
    "pipe.run_pipeline()\n"
   ]
  },
  {
   "cell_type": "markdown",
   "metadata": {},
   "source": []
  },
  {
   "cell_type": "code",
   "execution_count": 14,
   "metadata": {},
   "outputs": [
    {
     "data": {
      "text/plain": [
       "Signal object with 3 channel(s)\n",
       "EDA_Raw (EDA) (350Hz) (60.0s) (196 windows) ((196, 21000))\n",
       "EDA_Tonic (EDA) (350Hz) (60.0s) (196 windows) ((196, 21000))\n",
       "EDA_Phasic (EDA) (350Hz) (60.0s) (196 windows) ((196, 21000))"
      ]
     },
     "execution_count": 14,
     "metadata": {},
     "output_type": "execute_result"
    }
   ],
   "source": [
    "pipe.input\n"
   ]
  },
  {
   "cell_type": "markdown",
   "metadata": {},
   "source": []
  },
  {
   "cell_type": "code",
   "execution_count": 43,
   "metadata": {},
   "outputs": [],
   "source": [
    "pipe.extract_features()\n"
   ]
  },
  {
   "cell_type": "code",
   "execution_count": 44,
   "metadata": {},
   "outputs": [
    {
     "data": {
      "text/html": [
       "<div>\n",
       "<style scoped>\n",
       "    .dataframe tbody tr th:only-of-type {\n",
       "        vertical-align: middle;\n",
       "    }\n",
       "\n",
       "    .dataframe tbody tr th {\n",
       "        vertical-align: top;\n",
       "    }\n",
       "\n",
       "    .dataframe thead th {\n",
       "        text-align: right;\n",
       "    }\n",
       "</style>\n",
       "<table border=\"1\" class=\"dataframe\">\n",
       "  <thead>\n",
       "    <tr style=\"text-align: right;\">\n",
       "      <th></th>\n",
       "      <th>EDA_Raw_rms</th>\n",
       "      <th>EDA_Raw_acr_length</th>\n",
       "      <th>EDA_Raw_integral</th>\n",
       "      <th>EDA_Raw_average_power</th>\n",
       "      <th>EDA_Tonic_rms</th>\n",
       "      <th>EDA_Tonic_acr_length</th>\n",
       "      <th>EDA_Tonic_integral</th>\n",
       "      <th>EDA_Tonic_average_power</th>\n",
       "      <th>EDA_Phasic_rms</th>\n",
       "      <th>EDA_Phasic_acr_length</th>\n",
       "      <th>...</th>\n",
       "      <th>EDA_Phasic_std</th>\n",
       "      <th>EDA_Phasic_max</th>\n",
       "      <th>EDA_Phasic_min</th>\n",
       "      <th>EDA_Phasic_range</th>\n",
       "      <th>EDA_Phasic_kurtosis</th>\n",
       "      <th>EDA_Phasic_skew</th>\n",
       "      <th>EDA_Phasic_momentum</th>\n",
       "      <th>EDA_RawEDA_Tonic_correl</th>\n",
       "      <th>EDA_RawEDA_Phasic_correl</th>\n",
       "      <th>EDA_TonicEDA_Phasic_correl</th>\n",
       "    </tr>\n",
       "  </thead>\n",
       "  <tbody>\n",
       "    <tr>\n",
       "      <th>0.0</th>\n",
       "      <td>0.006927</td>\n",
       "      <td>20999.746719</td>\n",
       "      <td>111.477480</td>\n",
       "      <td>0.000048</td>\n",
       "      <td>0.000088</td>\n",
       "      <td>20999.000000</td>\n",
       "      <td>0.723307</td>\n",
       "      <td>7.710382e-09</td>\n",
       "      <td>0.007863</td>\n",
       "      <td>20999.746847</td>\n",
       "      <td>...</td>\n",
       "      <td>0.007863</td>\n",
       "      <td>0.061107</td>\n",
       "      <td>-0.046422</td>\n",
       "      <td>0.107529</td>\n",
       "      <td>2.834434</td>\n",
       "      <td>-0.184260</td>\n",
       "      <td>0.000062</td>\n",
       "      <td>-0.010101</td>\n",
       "      <td>0.863560</td>\n",
       "      <td>0.039465</td>\n",
       "    </tr>\n",
       "    <tr>\n",
       "      <th>30.0</th>\n",
       "      <td>0.007417</td>\n",
       "      <td>20999.689246</td>\n",
       "      <td>118.983180</td>\n",
       "      <td>0.000055</td>\n",
       "      <td>0.000192</td>\n",
       "      <td>20999.000000</td>\n",
       "      <td>1.328443</td>\n",
       "      <td>3.674972e-08</td>\n",
       "      <td>0.007491</td>\n",
       "      <td>20999.689269</td>\n",
       "      <td>...</td>\n",
       "      <td>0.007491</td>\n",
       "      <td>0.067627</td>\n",
       "      <td>-0.033801</td>\n",
       "      <td>0.101428</td>\n",
       "      <td>2.199859</td>\n",
       "      <td>0.539798</td>\n",
       "      <td>0.000056</td>\n",
       "      <td>-0.009891</td>\n",
       "      <td>0.990673</td>\n",
       "      <td>-0.033290</td>\n",
       "    </tr>\n",
       "    <tr>\n",
       "      <th>60.0</th>\n",
       "      <td>0.007963</td>\n",
       "      <td>20999.745588</td>\n",
       "      <td>127.078197</td>\n",
       "      <td>0.000063</td>\n",
       "      <td>0.002064</td>\n",
       "      <td>20999.000011</td>\n",
       "      <td>13.912783</td>\n",
       "      <td>4.261139e-06</td>\n",
       "      <td>0.008396</td>\n",
       "      <td>20999.745587</td>\n",
       "      <td>...</td>\n",
       "      <td>0.008383</td>\n",
       "      <td>0.062961</td>\n",
       "      <td>-0.096394</td>\n",
       "      <td>0.159355</td>\n",
       "      <td>2.799643</td>\n",
       "      <td>0.262927</td>\n",
       "      <td>0.000070</td>\n",
       "      <td>-0.017485</td>\n",
       "      <td>0.953403</td>\n",
       "      <td>-0.256670</td>\n",
       "    </tr>\n",
       "    <tr>\n",
       "      <th>90.0</th>\n",
       "      <td>0.007751</td>\n",
       "      <td>20999.838683</td>\n",
       "      <td>121.922557</td>\n",
       "      <td>0.000060</td>\n",
       "      <td>0.000577</td>\n",
       "      <td>20999.000001</td>\n",
       "      <td>3.920468</td>\n",
       "      <td>3.328975e-07</td>\n",
       "      <td>0.010187</td>\n",
       "      <td>20999.838887</td>\n",
       "      <td>...</td>\n",
       "      <td>0.010187</td>\n",
       "      <td>0.065519</td>\n",
       "      <td>-0.125994</td>\n",
       "      <td>0.191513</td>\n",
       "      <td>6.726467</td>\n",
       "      <td>-1.109412</td>\n",
       "      <td>0.000104</td>\n",
       "      <td>0.002265</td>\n",
       "      <td>0.764709</td>\n",
       "      <td>-0.055125</td>\n",
       "    </tr>\n",
       "    <tr>\n",
       "      <th>120.0</th>\n",
       "      <td>0.006416</td>\n",
       "      <td>20999.755134</td>\n",
       "      <td>100.246571</td>\n",
       "      <td>0.000041</td>\n",
       "      <td>0.000383</td>\n",
       "      <td>20999.000000</td>\n",
       "      <td>2.603088</td>\n",
       "      <td>1.467712e-07</td>\n",
       "      <td>0.006450</td>\n",
       "      <td>20999.755151</td>\n",
       "      <td>...</td>\n",
       "      <td>0.006450</td>\n",
       "      <td>0.056068</td>\n",
       "      <td>-0.135898</td>\n",
       "      <td>0.191966</td>\n",
       "      <td>15.588552</td>\n",
       "      <td>-0.132041</td>\n",
       "      <td>0.000042</td>\n",
       "      <td>-0.004063</td>\n",
       "      <td>0.995765</td>\n",
       "      <td>-0.062015</td>\n",
       "    </tr>\n",
       "    <tr>\n",
       "      <th>...</th>\n",
       "      <td>...</td>\n",
       "      <td>...</td>\n",
       "      <td>...</td>\n",
       "      <td>...</td>\n",
       "      <td>...</td>\n",
       "      <td>...</td>\n",
       "      <td>...</td>\n",
       "      <td>...</td>\n",
       "      <td>...</td>\n",
       "      <td>...</td>\n",
       "      <td>...</td>\n",
       "      <td>...</td>\n",
       "      <td>...</td>\n",
       "      <td>...</td>\n",
       "      <td>...</td>\n",
       "      <td>...</td>\n",
       "      <td>...</td>\n",
       "      <td>...</td>\n",
       "      <td>...</td>\n",
       "      <td>...</td>\n",
       "      <td>...</td>\n",
       "    </tr>\n",
       "    <tr>\n",
       "      <th>5730.0</th>\n",
       "      <td>0.004865</td>\n",
       "      <td>20999.227507</td>\n",
       "      <td>73.052544</td>\n",
       "      <td>0.000024</td>\n",
       "      <td>0.001157</td>\n",
       "      <td>20999.000004</td>\n",
       "      <td>7.838318</td>\n",
       "      <td>1.337900e-06</td>\n",
       "      <td>0.005006</td>\n",
       "      <td>20999.227529</td>\n",
       "      <td>...</td>\n",
       "      <td>0.004999</td>\n",
       "      <td>0.048463</td>\n",
       "      <td>-0.066063</td>\n",
       "      <td>0.114526</td>\n",
       "      <td>6.969665</td>\n",
       "      <td>0.313473</td>\n",
       "      <td>0.000025</td>\n",
       "      <td>0.004361</td>\n",
       "      <td>0.972539</td>\n",
       "      <td>-0.220741</td>\n",
       "    </tr>\n",
       "    <tr>\n",
       "      <th>5760.0</th>\n",
       "      <td>0.005303</td>\n",
       "      <td>20999.279072</td>\n",
       "      <td>80.009559</td>\n",
       "      <td>0.000028</td>\n",
       "      <td>0.000454</td>\n",
       "      <td>20999.000001</td>\n",
       "      <td>3.086181</td>\n",
       "      <td>2.064901e-07</td>\n",
       "      <td>0.005469</td>\n",
       "      <td>20999.279068</td>\n",
       "      <td>...</td>\n",
       "      <td>0.005468</td>\n",
       "      <td>0.064340</td>\n",
       "      <td>-0.085566</td>\n",
       "      <td>0.149905</td>\n",
       "      <td>9.329467</td>\n",
       "      <td>0.176057</td>\n",
       "      <td>0.000030</td>\n",
       "      <td>-0.005349</td>\n",
       "      <td>0.969058</td>\n",
       "      <td>-0.087249</td>\n",
       "    </tr>\n",
       "    <tr>\n",
       "      <th>5790.0</th>\n",
       "      <td>0.005298</td>\n",
       "      <td>20999.286993</td>\n",
       "      <td>79.863054</td>\n",
       "      <td>0.000028</td>\n",
       "      <td>0.000698</td>\n",
       "      <td>20999.000001</td>\n",
       "      <td>4.710426</td>\n",
       "      <td>4.871654e-07</td>\n",
       "      <td>0.005438</td>\n",
       "      <td>20999.286980</td>\n",
       "      <td>...</td>\n",
       "      <td>0.005436</td>\n",
       "      <td>0.063897</td>\n",
       "      <td>-0.087333</td>\n",
       "      <td>0.151230</td>\n",
       "      <td>11.483326</td>\n",
       "      <td>0.249172</td>\n",
       "      <td>0.000030</td>\n",
       "      <td>0.009020</td>\n",
       "      <td>0.972762</td>\n",
       "      <td>-0.116365</td>\n",
       "    </tr>\n",
       "    <tr>\n",
       "      <th>5820.0</th>\n",
       "      <td>0.005482</td>\n",
       "      <td>20999.235638</td>\n",
       "      <td>82.690613</td>\n",
       "      <td>0.000030</td>\n",
       "      <td>0.000572</td>\n",
       "      <td>20999.000001</td>\n",
       "      <td>3.961909</td>\n",
       "      <td>3.274195e-07</td>\n",
       "      <td>0.005523</td>\n",
       "      <td>20999.235635</td>\n",
       "      <td>...</td>\n",
       "      <td>0.005521</td>\n",
       "      <td>0.059603</td>\n",
       "      <td>-0.085187</td>\n",
       "      <td>0.144790</td>\n",
       "      <td>6.696580</td>\n",
       "      <td>0.256555</td>\n",
       "      <td>0.000030</td>\n",
       "      <td>0.006434</td>\n",
       "      <td>0.993190</td>\n",
       "      <td>-0.095585</td>\n",
       "    </tr>\n",
       "    <tr>\n",
       "      <th>5850.0</th>\n",
       "      <td>0.006288</td>\n",
       "      <td>20999.165633</td>\n",
       "      <td>89.382261</td>\n",
       "      <td>0.000040</td>\n",
       "      <td>0.000334</td>\n",
       "      <td>20999.000000</td>\n",
       "      <td>2.269583</td>\n",
       "      <td>1.113503e-07</td>\n",
       "      <td>0.006317</td>\n",
       "      <td>20999.165627</td>\n",
       "      <td>...</td>\n",
       "      <td>0.006317</td>\n",
       "      <td>0.038008</td>\n",
       "      <td>-0.049412</td>\n",
       "      <td>0.087420</td>\n",
       "      <td>6.832816</td>\n",
       "      <td>-0.157499</td>\n",
       "      <td>0.000040</td>\n",
       "      <td>0.003563</td>\n",
       "      <td>0.995041</td>\n",
       "      <td>-0.047863</td>\n",
       "    </tr>\n",
       "  </tbody>\n",
       "</table>\n",
       "<p>196 rows × 39 columns</p>\n",
       "</div>"
      ],
      "text/plain": [
       "        EDA_Raw_rms  EDA_Raw_acr_length  EDA_Raw_integral  \\\n",
       "0.0        0.006927        20999.746719        111.477480   \n",
       "30.0       0.007417        20999.689246        118.983180   \n",
       "60.0       0.007963        20999.745588        127.078197   \n",
       "90.0       0.007751        20999.838683        121.922557   \n",
       "120.0      0.006416        20999.755134        100.246571   \n",
       "...             ...                 ...               ...   \n",
       "5730.0     0.004865        20999.227507         73.052544   \n",
       "5760.0     0.005303        20999.279072         80.009559   \n",
       "5790.0     0.005298        20999.286993         79.863054   \n",
       "5820.0     0.005482        20999.235638         82.690613   \n",
       "5850.0     0.006288        20999.165633         89.382261   \n",
       "\n",
       "        EDA_Raw_average_power  EDA_Tonic_rms  EDA_Tonic_acr_length  \\\n",
       "0.0                  0.000048       0.000088          20999.000000   \n",
       "30.0                 0.000055       0.000192          20999.000000   \n",
       "60.0                 0.000063       0.002064          20999.000011   \n",
       "90.0                 0.000060       0.000577          20999.000001   \n",
       "120.0                0.000041       0.000383          20999.000000   \n",
       "...                       ...            ...                   ...   \n",
       "5730.0               0.000024       0.001157          20999.000004   \n",
       "5760.0               0.000028       0.000454          20999.000001   \n",
       "5790.0               0.000028       0.000698          20999.000001   \n",
       "5820.0               0.000030       0.000572          20999.000001   \n",
       "5850.0               0.000040       0.000334          20999.000000   \n",
       "\n",
       "        EDA_Tonic_integral  EDA_Tonic_average_power  EDA_Phasic_rms  \\\n",
       "0.0               0.723307             7.710382e-09        0.007863   \n",
       "30.0              1.328443             3.674972e-08        0.007491   \n",
       "60.0             13.912783             4.261139e-06        0.008396   \n",
       "90.0              3.920468             3.328975e-07        0.010187   \n",
       "120.0             2.603088             1.467712e-07        0.006450   \n",
       "...                    ...                      ...             ...   \n",
       "5730.0            7.838318             1.337900e-06        0.005006   \n",
       "5760.0            3.086181             2.064901e-07        0.005469   \n",
       "5790.0            4.710426             4.871654e-07        0.005438   \n",
       "5820.0            3.961909             3.274195e-07        0.005523   \n",
       "5850.0            2.269583             1.113503e-07        0.006317   \n",
       "\n",
       "        EDA_Phasic_acr_length  ...  EDA_Phasic_std  EDA_Phasic_max  \\\n",
       "0.0              20999.746847  ...        0.007863        0.061107   \n",
       "30.0             20999.689269  ...        0.007491        0.067627   \n",
       "60.0             20999.745587  ...        0.008383        0.062961   \n",
       "90.0             20999.838887  ...        0.010187        0.065519   \n",
       "120.0            20999.755151  ...        0.006450        0.056068   \n",
       "...                       ...  ...             ...             ...   \n",
       "5730.0           20999.227529  ...        0.004999        0.048463   \n",
       "5760.0           20999.279068  ...        0.005468        0.064340   \n",
       "5790.0           20999.286980  ...        0.005436        0.063897   \n",
       "5820.0           20999.235635  ...        0.005521        0.059603   \n",
       "5850.0           20999.165627  ...        0.006317        0.038008   \n",
       "\n",
       "        EDA_Phasic_min  EDA_Phasic_range  EDA_Phasic_kurtosis  \\\n",
       "0.0          -0.046422          0.107529             2.834434   \n",
       "30.0         -0.033801          0.101428             2.199859   \n",
       "60.0         -0.096394          0.159355             2.799643   \n",
       "90.0         -0.125994          0.191513             6.726467   \n",
       "120.0        -0.135898          0.191966            15.588552   \n",
       "...                ...               ...                  ...   \n",
       "5730.0       -0.066063          0.114526             6.969665   \n",
       "5760.0       -0.085566          0.149905             9.329467   \n",
       "5790.0       -0.087333          0.151230            11.483326   \n",
       "5820.0       -0.085187          0.144790             6.696580   \n",
       "5850.0       -0.049412          0.087420             6.832816   \n",
       "\n",
       "        EDA_Phasic_skew  EDA_Phasic_momentum  EDA_RawEDA_Tonic_correl  \\\n",
       "0.0           -0.184260             0.000062                -0.010101   \n",
       "30.0           0.539798             0.000056                -0.009891   \n",
       "60.0           0.262927             0.000070                -0.017485   \n",
       "90.0          -1.109412             0.000104                 0.002265   \n",
       "120.0         -0.132041             0.000042                -0.004063   \n",
       "...                 ...                  ...                      ...   \n",
       "5730.0         0.313473             0.000025                 0.004361   \n",
       "5760.0         0.176057             0.000030                -0.005349   \n",
       "5790.0         0.249172             0.000030                 0.009020   \n",
       "5820.0         0.256555             0.000030                 0.006434   \n",
       "5850.0        -0.157499             0.000040                 0.003563   \n",
       "\n",
       "        EDA_RawEDA_Phasic_correl  EDA_TonicEDA_Phasic_correl  \n",
       "0.0                     0.863560                    0.039465  \n",
       "30.0                    0.990673                   -0.033290  \n",
       "60.0                    0.953403                   -0.256670  \n",
       "90.0                    0.764709                   -0.055125  \n",
       "120.0                   0.995765                   -0.062015  \n",
       "...                          ...                         ...  \n",
       "5730.0                  0.972539                   -0.220741  \n",
       "5760.0                  0.969058                   -0.087249  \n",
       "5790.0                  0.972762                   -0.116365  \n",
       "5820.0                  0.993190                   -0.095585  \n",
       "5850.0                  0.995041                   -0.047863  \n",
       "\n",
       "[196 rows x 39 columns]"
      ]
     },
     "execution_count": 44,
     "metadata": {},
     "output_type": "execute_result"
    }
   ],
   "source": [
    "pipe.features\n"
   ]
  },
  {
   "cell_type": "code",
   "execution_count": 50,
   "metadata": {},
   "outputs": [
    {
     "data": {
      "text/plain": [
       "[<matplotlib.lines.Line2D at 0x17da50fba60>]"
      ]
     },
     "execution_count": 50,
     "metadata": {},
     "output_type": "execute_result"
    },
    {
     "data": {
      "image/png": "[encoded data removed]",
      "text/plain": [
       "<Figure size 432x288 with 1 Axes>"
      ]
     },
     "metadata": {
      "needs_background": "light"
     },
     "output_type": "display_data"
    }
   ],
   "source": [
    "import matplotlib.pyplot as plt\n",
    "plt.plot(pipe.features['EDA_Phasic_rms'])\n"
   ]
  },
  {
   "cell_type": "code",
   "execution_count": 46,
   "metadata": {},
   "outputs": [
    {
     "data": {
      "text/plain": [
       "0.0       20999.746719\n",
       "30.0      20999.689246\n",
       "60.0      20999.745588\n",
       "90.0      20999.838683\n",
       "120.0     20999.755134\n",
       "              ...     \n",
       "5730.0    20999.227507\n",
       "5760.0    20999.279072\n",
       "5790.0    20999.286993\n",
       "5820.0    20999.235638\n",
       "5850.0    20999.165633\n",
       "Name: EDA_Raw_acr_length, Length: 196, dtype: float64"
      ]
     },
     "execution_count": 46,
     "metadata": {},
     "output_type": "execute_result"
    }
   ],
   "source": [
    "pipe.features['EDA_Raw_acr_length']"
   ]
  }
 ],
 "metadata": {
  "interpreter": {
   "hash": "8950f7a71e2e41dbfe25212825f95b5df952ca15c8730d5e6e2bbb35757b3f4a"
  },
  "kernelspec": {
   "display_name": "Python 3.8.13 ('bioenv')",
   "language": "python",
   "name": "python3"
  },
  "language_info": {
   "codemirror_mode": {
    "name": "ipython",
    "version": 3
   },
   "file_extension": ".py",
   "mimetype": "text/x-python",
   "name": "python",
   "nbconvert_exporter": "python",
   "pygments_lexer": "ipython3",
   "version": "3.8.12"
  },
  "orig_nbformat": 4
 },
 "nbformat": 4,
 "nbformat_minor": 2
}
