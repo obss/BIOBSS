{
 "cells": [
  {
   "cell_type": "code",
   "execution_count": 1,
   "metadata": {},
   "outputs": [],
   "source": [
    "import sys\n",
    "import pandas as pd\n",
    "import numpy as np\n"
   ]
  },
  {
   "cell_type": "code",
   "execution_count": 2,
   "metadata": {},
   "outputs": [],
   "source": [
    "sys.path.append(\"../\")\n"
   ]
  },
  {
   "cell_type": "code",
   "execution_count": 3,
   "metadata": {},
   "outputs": [],
   "source": [
    "import biobss"
   ]
  },
  {
   "cell_type": "code",
   "execution_count": 4,
   "metadata": {},
   "outputs": [],
   "source": [
    "import neurokit2 as nk\n",
    "sample_data=pd.read_pickle(\"..\\sample_data\\\\EDA_Chest.pkl\")\n",
    "sample_data=sample_data.flatten()"
   ]
  },
  {
   "cell_type": "code",
   "execution_count": 5,
   "metadata": {},
   "outputs": [],
   "source": [
    "eda_signal=biobss.pipeline.Signal(sample_data,sampling_rate=700,modality=\"EDA\",sigtype=\"EDA_Raw\")"
   ]
  },
  {
   "cell_type": "code",
   "execution_count": 6,
   "metadata": {},
   "outputs": [
    {
     "data": {
      "text/plain": [
       "EDA Signal: EDA_Raw\n",
       "Sampling Rate: 700\n",
       "Channels: 1\n",
       "Channel Names: ['EDA_Raw']\n",
       "Multichannel: False\n",
       "Signal: [array([5.40046692, 5.40885925, 5.40161133, ..., 7.26280212, 7.26966858,\n",
       "       7.2681427 ])]"
      ]
     },
     "execution_count": 6,
     "metadata": {},
     "output_type": "execute_result"
    }
   ],
   "source": [
    "eda_signal"
   ]
  },
  {
   "cell_type": "code",
   "execution_count": 7,
   "metadata": {},
   "outputs": [],
   "source": [
    "new=biobss.edatools.eda_decompose_signal(eda_signal,method=\"highpass\")"
   ]
  },
  {
   "cell_type": "code",
   "execution_count": 8,
   "metadata": {},
   "outputs": [
    {
     "data": {
      "text/plain": [
       "numpy.ndarray"
      ]
     },
     "execution_count": 8,
     "metadata": {},
     "output_type": "execute_result"
    }
   ],
   "source": [
    "type(new['EDA_Phasic'])"
   ]
  },
  {
   "cell_type": "code",
   "execution_count": 9,
   "metadata": {},
   "outputs": [
    {
     "data": {
      "text/plain": [
       "EDA Signal: EDA_Raw\n",
       "Sampling Rate: 700\n",
       "Channels: 3\n",
       "Channel Names: ['EDA_Raw', 'EDA_Tonic', 'EDA_Phasic']\n",
       "Multichannel: True\n",
       "Signal: [array([5.40046692, 5.40885925, 5.40161133, ..., 7.26280212, 7.26966858,\n",
       "       7.2681427 ]), array([5.402642  , 5.40264293, 5.40264386, ..., 7.26978988, 7.26978988,\n",
       "       7.26978988]), array([-0.00217508,  0.00621632, -0.00103253, ..., -0.00911506,\n",
       "       -0.00225225, -0.00378178])]"
      ]
     },
     "execution_count": 9,
     "metadata": {},
     "output_type": "execute_result"
    }
   ],
   "source": [
    "new"
   ]
  },
  {
   "cell_type": "code",
   "execution_count": 10,
   "metadata": {},
   "outputs": [],
   "source": [
    "decompose=biobss.pipeline.Bio_Process(process_method=biobss.edatools.eda_decompose_signal,modality=\"EDA\",sigtype=\"EDA\",method=\"highpass\")\n",
    "normalize=biobss.pipeline.Bio_Process(process_method=biobss.signaltools.normalize_signal_object,modality=\"EDA\",sigtype=\"EDA\")\n",
    "resample=biobss.pipeline.Bio_Process(process_method=biobss.signaltools.resample_signal_object,modality=\"EDA\",sigtype=\"EDA\",target_sample_rate=350)"
   ]
  },
  {
   "cell_type": "code",
   "execution_count": 11,
   "metadata": {},
   "outputs": [],
   "source": [
    "output=decompose.process(eda_signal)"
   ]
  },
  {
   "cell_type": "code",
   "execution_count": 12,
   "metadata": {},
   "outputs": [
    {
     "data": {
      "text/plain": [
       "EDA Signal: EDA_Raw\n",
       "Sampling Rate: 700\n",
       "Channels: 3\n",
       "Channel Names: ['EDA_Raw', 'EDA_Tonic', 'EDA_Phasic']\n",
       "Multichannel: True\n",
       "Signal: [array([5.40046692, 5.40885925, 5.40161133, ..., 7.26280212, 7.26966858,\n",
       "       7.2681427 ]), array([5.402642  , 5.40264293, 5.40264386, ..., 7.26978988, 7.26978988,\n",
       "       7.26978988]), array([-0.00217508,  0.00621632, -0.00103253, ..., -0.00911506,\n",
       "       -0.00225225, -0.00378178])]"
      ]
     },
     "execution_count": 12,
     "metadata": {},
     "output_type": "execute_result"
    }
   ],
   "source": [
    "output"
   ]
  },
  {
   "cell_type": "code",
   "execution_count": 13,
   "metadata": {},
   "outputs": [],
   "source": [
    "pipe=biobss.pipeline.Bio_Pipeline([],modality=\"EDA\",sigtype=\"EDA\",windowed_process=True,window_size=60,step_size=30)"
   ]
  },
  {
   "cell_type": "code",
   "execution_count": 14,
   "metadata": {},
   "outputs": [],
   "source": [
    "pipe.preprocess_queue.add_process(normalize)\n",
    "pipe.preprocess_queue.add_process(normalize)\n",
    "pipe.process_queue.add_process(decompose)"
   ]
  },
  {
   "cell_type": "code",
   "execution_count": 15,
   "metadata": {},
   "outputs": [],
   "source": [
    "pipe.set_input(eda_signal,700,\"EDA\",\"EDA\")"
   ]
  },
  {
   "cell_type": "code",
   "execution_count": 16,
   "metadata": {},
   "outputs": [],
   "source": [
    "pipe.run_pipeline()"
   ]
  },
  {
   "cell_type": "code",
   "execution_count": 17,
   "metadata": {},
   "outputs": [
    {
     "data": {
      "text/plain": [
       "EDA Signal: EDA_Raw\n",
       "Sampling Rate: 700\n",
       "Channels: 3\n",
       "Channel Names: ['EDA_Raw', 'EDA_Tonic', 'EDA_Phasic']\n",
       "Multichannel: True\n",
       "Signal: [array([-1.34650432, -1.33614792, -1.34509208, ...,  0.95167532,\n",
       "        0.96014874,  0.95826576]), array([-1.34382019, -1.34381905, -1.3438179 , ...,  0.96029843,\n",
       "        0.96029843,  0.96029843]), array([-0.00268412,  0.00767113, -0.00127418, ..., -0.01124827,\n",
       "       -0.00277935, -0.00466684])]"
      ]
     },
     "execution_count": 17,
     "metadata": {},
     "output_type": "execute_result"
    }
   ],
   "source": [
    "pipe.processed_signal"
   ]
  }
 ],
 "metadata": {
  "interpreter": {
   "hash": "a6178572b9a90d2c5e062ed8640c411078523c298b0cf90d87d3da07bebbeb5c"
  },
  "kernelspec": {
   "display_name": "Python 3.8.12 ('mlenv')",
   "language": "python",
   "name": "python3"
  },
  "language_info": {
   "codemirror_mode": {
    "name": "ipython",
    "version": 3
   },
   "file_extension": ".py",
   "mimetype": "text/x-python",
   "name": "python",
   "nbconvert_exporter": "python",
   "pygments_lexer": "ipython3",
   "version": "3.8.12"
  },
  "orig_nbformat": 4
 },
 "nbformat": 4,
 "nbformat_minor": 2
}
