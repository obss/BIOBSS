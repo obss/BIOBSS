{
 "cells": [
  {
   "cell_type": "markdown",
   "metadata": {},
   "source": [
    "__BIOBSS - Polar reader__\n",
    "\n",
    "_This notebook includes guidelines to save Polar data files as csv file and and synchronize the signal from different sensors._"
   ]
  },
  {
   "cell_type": "code",
   "execution_count": 1,
   "metadata": {},
   "outputs": [],
   "source": [
    "#Import BIOBSS and the other required packages\n",
    "\n",
    "import biobss\n",
    "import os\n",
    "import numpy as np\n",
    "import matplotlib.pyplot as plt\n",
    "import pandas as pd\n",
    "\n",
    "#help(biobss)"
   ]
  },
  {
   "cell_type": "markdown",
   "metadata": {},
   "source": [
    "# Table of Contents\n",
    "1.[Polar Sample Data](#polar)<br>\n",
    "2.[Timestamp Conversion](#polar_time)<br>\n",
    "3.[Synchronization of Signals from Different Sensors](#polar_sync)<br>\n",
    "4.[Data Segmentation Based on Events](#polar_event)<br>\n",
    "5.[Loading and Saving Alternatives](#polar_files)<br>"
   ]
  },
  {
   "cell_type": "markdown",
   "metadata": {},
   "source": [
    "### __Polar Sample Data__\n",
    "<a id=\"polar\"></a>"
   ]
  },
  {
   "cell_type": "code",
   "execution_count": null,
   "metadata": {},
   "outputs": [],
   "source": [
    "#Define the file paths for the files\n",
    "txt_dir=\"C:\\\\Users\\\\ipek.karakus\\\\Desktop\\\\biobss\\\\Polar_files\\\\txt_files\\\\\"\n",
    "csv_dir=\"C:\\\\Users\\\\ipek.karakus\\\\Desktop\\\\biobss\\\\Polar_files\\\\csv_files\\\\\"\n",
    "pkl_dir=\"C:\\\\Users\\\\ipek.karakus\\\\Desktop\\\\biobss\\\\Polar_files\\\\pkl_files\\\\\"\n",
    "\n",
    "#Txt files can be saved as csv files\n",
    "biobss.reader.polar_format.txt_to_csv(txt_dir)"
   ]
  },
  {
   "cell_type": "markdown",
   "metadata": {},
   "source": [
    "### __Timestamp Conversion__\n",
    "<a id=\"polar_time\"></a>"
   ]
  },
  {
   "cell_type": "code",
   "execution_count": null,
   "metadata": {},
   "outputs": [],
   "source": [
    "#Timestamps in iso format can be converted to milliseconds for a specific file. This can be done by referencing either to start time of the sensor or a given start time.\n",
    "filepath=r'C:\\Users\\ipek.karakus\\Desktop\\biobss\\Polar_files\\csv_files\\ik_d1_25042022_forearm_left\\Polar_Sense_A40F6F28_20220425_113903_PPG.csv'\n",
    "df= pd.read_csv(filepath)\n",
    "time_msec=biobss.reader.polar_format.timestamp_to_msec(df['Phone timestamp']) \n",
    "\n",
    "#If required, the selected csv files can be updated by adding a 'Time_record (ms)' column, corresponds to time points in ms. The timepoints are calculated referenced to the earliest timestamp for all sensors.\n",
    "csv_subdir=\"C:\\\\Users\\\\ipek.karakus\\\\Desktop\\\\biobss\\\\Polar_files\\\\csv_files\\\\ik_d1_25042022_forearm_left\" #This time, the path should be defined for a specific record.\n",
    "biobss.reader.update_csv(csv_dir=csv_subdir,marker=True)"
   ]
  },
  {
   "cell_type": "markdown",
   "metadata": {},
   "source": [
    "### __Synchronization of Signals from Different Sensors__\n",
    "<a id=\"polar_sync\"></a>"
   ]
  },
  {
   "cell_type": "code",
   "execution_count": null,
   "metadata": {},
   "outputs": [],
   "source": [
    "#For synchronization of the signals, a common (overlapping region for all sensors) time array can be generated. This time, the path should be defined for a specific record.\n",
    "time_list=biobss.reader.calculate_sync_time(csv_dir=csv_subdir,time_step=1,marker=True)\n",
    "\n",
    "#If required, the time array can be saved as a txt file.\n",
    "time_list=biobss.reader.calculate_sync_time(csv_dir=csv_subdir,time_step=1,marker=True,save_file=True)\n",
    "\n",
    "#The signals can be synchronized by interpolating the signal for the given time_list.\n",
    "data=biobss.reader.synchronize_signals(csv_subdir,time_list)\n",
    "\n",
    "#Resampling can be applied if the required parameters (sampling_rate and resampling_rate are given) \n",
    "data=biobss.reader.synchronize_signals(csv_subdir,time_list,resampling_rate=100)\n",
    "\n",
    "#If required, the synchronized signals can be saved as a csv file.\n",
    "data=biobss.reader.synchronize_signals(csv_subdir,time_list,resampling_rate=100,save_files=True)\n"
   ]
  },
  {
   "cell_type": "markdown",
   "metadata": {},
   "source": [
    "### __Data Segmentation Based on Events__\n",
    "<a id=\"polar_event\"></a>"
   ]
  },
  {
   "cell_type": "code",
   "execution_count": null,
   "metadata": {},
   "outputs": [],
   "source": [
    "#The synchronized signals can be segmented for events\n",
    "filepath=r'C:\\Users\\ipek.karakus\\Desktop\\biobss\\Polar_files\\csv_files\\ik_d1_25042022_forearm_left\\sync_ACC_PPG_MAGN_GYRO.csv'\n",
    "markerpath=r'C:\\Users\\ipek.karakus\\Desktop\\biobss\\Polar_files\\csv_files\\ik_d1_25042022_forearm_left\\MARKER_20220425_114002.csv'\n",
    "out_path=r'C:\\Users\\ipek.karakus\\Desktop\\biobss\\Polar_files\\csv_files\\ik_d1_25042022_forearm_left\\event_list.txt'\n",
    "data=biobss.reader.segment_events(filepath,markerpath,['rest'],out_path)\n",
    "\n",
    "#The event list can also be saved as txt file for later use\n",
    "biobss.reader.segment_events(filepath,markerpath,['rest'],out_path,save_file=True)\n",
    "\n"
   ]
  },
  {
   "cell_type": "markdown",
   "metadata": {},
   "source": [
    "### __Loading and Saving Alternatives__\n",
    "<a id=\"polar_files\"></a>"
   ]
  },
  {
   "cell_type": "code",
   "execution_count": null,
   "metadata": {},
   "outputs": [],
   "source": [
    "#Csv file can be read into a dictionary\n",
    "filepath=r'C:\\Users\\ipek.karakus\\Desktop\\biobss\\Polar_files\\csv_files\\ik_d1_25042022_forearm_left\\Polar_Sense_A40F6F28_20220425_113903_PPG.csv'\n",
    "data=biobss.reader.polar_csv_reader(filepath,signal_type='PPG')\n",
    "\n",
    "#Csv files can be saved as pkl files\n",
    "biobss.reader.csv_to_pkl(csv_dir)"
   ]
  }
 ],
 "metadata": {
  "kernelspec": {
   "display_name": "Python 3.8.5 64-bit ('biolib')",
   "language": "python",
   "name": "python3"
  },
  "language_info": {
   "codemirror_mode": {
    "name": "ipython",
    "version": 3
   },
   "file_extension": ".py",
   "mimetype": "text/x-python",
   "name": "python",
   "nbconvert_exporter": "python",
   "pygments_lexer": "ipython3",
   "version": "3.8.13"
  },
  "orig_nbformat": 4,
  "vscode": {
   "interpreter": {
    "hash": "3a4bcfb23c7e6ad66c655087280fa9f4d0273121ae7909f7735d1e02563a2438"
   }
  }
 },
 "nbformat": 4,
 "nbformat_minor": 2
}
