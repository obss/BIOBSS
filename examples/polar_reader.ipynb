{
 "cells": [
  {
   "cell_type": "markdown",
   "metadata": {},
   "source": [
    "__BIOBSS - Polar reader__\n",
    "\n",
    "_This notebook includes guidelines to save Polar data files as csv file and and synchronize the signal from different sensors._"
   ]
  },
  {
   "cell_type": "code",
   "execution_count": 1,
   "metadata": {},
   "outputs": [],
   "source": [
    "#Import BIOBSS and the other required packages\n",
    "\n",
    "import biobss\n",
    "import os\n",
    "import numpy as np\n",
    "import matplotlib.pyplot as plt\n",
    "import pandas as pd"
   ]
  },
  {
   "cell_type": "markdown",
   "metadata": {},
   "source": [
    "# Table of Contents\n",
    "1.[Polar Sample Data](#polar)<br>\n",
    "2.[Timestamp Conversion](#polar_time)<br>\n",
    "3.[Synchronization of Signals from Different Sensors](#polar_sync)<br>\n",
    "4.[Data Segmentation Based on Events](#polar_event)<br>\n",
    "5.[Loading and Saving Alternatives](#polar_files)<br>"
   ]
  },
  {
   "cell_type": "markdown",
   "metadata": {},
   "source": [
    "### __Polar Sample Data__\n",
    "<a id=\"polar\"></a>"
   ]
  },
  {
   "cell_type": "markdown",
   "metadata": {},
   "source": [
    "Polar sample data is provided as txt files in BIOBSS\\sample data\\Polar_files\\txt_files. A seperate txt file is available for each sensor. The sampling rates are 52 Hz, 52 Hz, 50 Hz and 55 Hz for ACC, GYRO, MAGN and PPG sensors respectively. "
   ]
  },
  {
   "cell_type": "code",
   "execution_count": 2,
   "metadata": {},
   "outputs": [],
   "source": [
    "#Define the paths for the sample files\n",
    "polar_dir=os.path.join(os.path.normpath(os.getcwd() + os.sep + os.pardir),\"sample_data\",\"Polar_files\")\n",
    "txt_dir=os.path.join(polar_dir,'txt_files')\n",
    "csv_dir=os.path.join(polar_dir,'csv_files')\n",
    "pkl_dir=os.path.join(polar_dir,'pkl_files')"
   ]
  },
  {
   "cell_type": "markdown",
   "metadata": {},
   "source": [
    "Txt files can be saved as csv files into BIOBSS\\sample_data\\Polar_files\\csv_files. If required, the files can be renamed using the function ___rename_csv___."
   ]
  },
  {
   "cell_type": "code",
   "execution_count": 3,
   "metadata": {},
   "outputs": [
    {
     "name": "stderr",
     "output_type": "stream",
     "text": [
      "c:\\Users\\ipek.karakus\\.conda\\envs\\biolib\\lib\\site-packages\\biobss\\reader\\polar_format.py:72: UserWarning: No files found in c:\\Users\\ipek.karakus\\Desktop\\biobss\\sample_data\\Polar_files\\txt_files.\n",
      "  warnings.warn(f'No files found in {root}.')\n",
      "c:\\Users\\ipek.karakus\\.conda\\envs\\biolib\\lib\\site-packages\\biobss\\reader\\polar_format.py:70: UserWarning: c:\\Users\\ipek.karakus\\Desktop\\biobss\\sample_data\\Polar_files\\csv_files\\sample_record already present, skipping txt to csv conversion.\n",
      "  warnings.warn(f'{csv_dir} already present, skipping txt to csv conversion.')\n",
      "c:\\Users\\ipek.karakus\\.conda\\envs\\biolib\\lib\\site-packages\\biobss\\reader\\polar_format.py:110: UserWarning: No files found in c:\\Users\\ipek.karakus\\Desktop\\biobss\\sample_data\\Polar_files\\csv_files.\n",
      "  warnings.warn(f'No files found in {csv_dir}.')\n"
     ]
    }
   ],
   "source": [
    "#Save txt files as csv files\n",
    "biobss.reader.polar_format.txt_to_csv(txt_dir)\n",
    "\n",
    "#Rename csv files using the record_id\n",
    "biobss.reader.polar_format.rename_csv(csv_dir)"
   ]
  },
  {
   "cell_type": "markdown",
   "metadata": {},
   "source": [
    "### __Timestamp Conversion__\n",
    "<a id=\"polar_time\"></a>"
   ]
  },
  {
   "cell_type": "markdown",
   "metadata": {},
   "source": [
    "Timestamps in iso format can be converted to milliseconds for a specific file. If required, the reference timestamp can be provided by the parameter __start_time__. Otherwise, the first timestamp is used as reference."
   ]
  },
  {
   "cell_type": "code",
   "execution_count": 5,
   "metadata": {},
   "outputs": [],
   "source": [
    "#Convert timestamps from iso format to milliseconds for a specific file\n",
    "record_id='sample_record'\n",
    "filename='sample_record_PPG.csv'\n",
    "filepath=os.path.join(csv_dir,record_id,filename)\n",
    "df= pd.read_csv(filepath)\n",
    "time_msec=biobss.reader.polar_format.timestamp_to_msec(df['Phone timestamp'])"
   ]
  },
  {
   "cell_type": "markdown",
   "metadata": {},
   "source": [
    "The ___add_record_time___ function can be used to update the selected csv files by adding a 'Time_record (ms)' column corresponding to time points in ms. The time points are calculated referenced to the earliest timestamp for all sensors."
   ]
  },
  {
   "cell_type": "code",
   "execution_count": 6,
   "metadata": {},
   "outputs": [],
   "source": [
    "#Convert timestamps from iso format to milliseconds for all files in a record\n",
    "record_id='sample_record'\n",
    "csv_subdir=os.path.join(csv_dir,record_id) #This time, the path should be defined for a specific record.\n",
    "biobss.reader.add_record_time(csv_dir=csv_subdir,marker=True)"
   ]
  },
  {
   "cell_type": "markdown",
   "metadata": {},
   "source": [
    "### __Synchronization of Signals from Different Sensors__\n",
    "<a id=\"polar_sync\"></a>"
   ]
  },
  {
   "cell_type": "markdown",
   "metadata": {},
   "source": [
    "Signals from different sensors can be synchronized using the time points. First, a time array is generated by detecting the overlapping time points for all sensors. Then, the 'Time_record (ms)' column of each sensor is interpolated on the generated time array. If required, signals can also be resampled at this stage. "
   ]
  },
  {
   "cell_type": "code",
   "execution_count": 7,
   "metadata": {},
   "outputs": [],
   "source": [
    "#Generate a time array considering the overlapping time points for all sensors. \n",
    "#The path should be defined for a specific record.\n",
    "#If required, save the generated time array as a txt file by setting save_file=True\n",
    "time_list=biobss.reader.calculate_sync_time(csv_dir=csv_subdir,time_step=1,marker=True)"
   ]
  },
  {
   "cell_type": "code",
   "execution_count": 8,
   "metadata": {},
   "outputs": [],
   "source": [
    "#Synchronize the signals from different sensors by interpolating the signals for the given time_list.\n",
    "#Resample the signals if required by providing resampling_rate \n",
    "#Set save_files=True to save the synchronized signals as a csv file\n",
    "data=biobss.reader.synchronize_signals(csv_subdir,time_list=time_list,resampling_rate=100,save_files=True)"
   ]
  },
  {
   "cell_type": "markdown",
   "metadata": {},
   "source": [
    "### __Data Segmentation Based on Events__\n",
    "<a id=\"polar_event\"></a>"
   ]
  },
  {
   "cell_type": "markdown",
   "metadata": {},
   "source": [
    "If required, sensor data can be segmented for different events. For this purpose, a marker file is needed. Using Polar Sensor Logger App, markers can be placed during recording and a marker file can be exported. BIOBSS provides ___marker_to_events___ function to generate an event list from the marker timestamps. "
   ]
  },
  {
   "cell_type": "code",
   "execution_count": 10,
   "metadata": {},
   "outputs": [],
   "source": [
    "#Segment the synchronized signals for events\n",
    "filename = 'sync_ACC_PPG_MAGN_GYRO.csv'\n",
    "filepath=os.path.join(csv_dir, record_id, filename)\n",
    "markerpath=os.path.join(csv_dir, record_id, 'MARKER_'+record_id+'.csv')\n",
    "\n",
    "data=biobss.reader.marker_to_events(filepath,markerpath,['rest'])"
   ]
  },
  {
   "cell_type": "code",
   "execution_count": 11,
   "metadata": {},
   "outputs": [
    {
     "data": {
      "text/html": [
       "<div>\n",
       "<style scoped>\n",
       "    .dataframe tbody tr th:only-of-type {\n",
       "        vertical-align: middle;\n",
       "    }\n",
       "\n",
       "    .dataframe tbody tr th {\n",
       "        vertical-align: top;\n",
       "    }\n",
       "\n",
       "    .dataframe thead th {\n",
       "        text-align: right;\n",
       "    }\n",
       "</style>\n",
       "<table border=\"1\" class=\"dataframe\">\n",
       "  <thead>\n",
       "    <tr style=\"text-align: right;\">\n",
       "      <th></th>\n",
       "      <th>Time_record (ms)</th>\n",
       "      <th>X [mg]</th>\n",
       "      <th>Y [mg]</th>\n",
       "      <th>Z [mg]</th>\n",
       "      <th>channel 0</th>\n",
       "      <th>channel 1</th>\n",
       "      <th>channel 2</th>\n",
       "      <th>ambient</th>\n",
       "      <th>X [G]</th>\n",
       "      <th>Y [G]</th>\n",
       "      <th>Z [G]</th>\n",
       "      <th>X [dps]</th>\n",
       "      <th>Y [dps]</th>\n",
       "      <th>Z [dps]</th>\n",
       "      <th>Events</th>\n",
       "    </tr>\n",
       "  </thead>\n",
       "  <tbody>\n",
       "    <tr>\n",
       "      <th>0</th>\n",
       "      <td>60060.000000</td>\n",
       "      <td>-526.585136</td>\n",
       "      <td>55.727686</td>\n",
       "      <td>-853.177568</td>\n",
       "      <td>250388.301633</td>\n",
       "      <td>263532.324833</td>\n",
       "      <td>280800.385432</td>\n",
       "      <td>381.703351</td>\n",
       "      <td>-1.152701</td>\n",
       "      <td>-0.437369</td>\n",
       "      <td>0.381853</td>\n",
       "      <td>1.574974</td>\n",
       "      <td>-3.660218</td>\n",
       "      <td>-2.235546</td>\n",
       "      <td>rest</td>\n",
       "    </tr>\n",
       "    <tr>\n",
       "      <th>1</th>\n",
       "      <td>60069.999896</td>\n",
       "      <td>-625.533960</td>\n",
       "      <td>22.783335</td>\n",
       "      <td>-799.463856</td>\n",
       "      <td>252040.606892</td>\n",
       "      <td>265592.874472</td>\n",
       "      <td>282418.720436</td>\n",
       "      <td>225.985948</td>\n",
       "      <td>-1.196616</td>\n",
       "      <td>-0.274666</td>\n",
       "      <td>0.330571</td>\n",
       "      <td>3.730015</td>\n",
       "      <td>-5.475692</td>\n",
       "      <td>-5.285922</td>\n",
       "      <td>rest</td>\n",
       "    </tr>\n",
       "    <tr>\n",
       "      <th>2</th>\n",
       "      <td>60079.999792</td>\n",
       "      <td>-599.400215</td>\n",
       "      <td>27.346212</td>\n",
       "      <td>-814.782651</td>\n",
       "      <td>251684.148115</td>\n",
       "      <td>265136.987000</td>\n",
       "      <td>282042.764604</td>\n",
       "      <td>298.570529</td>\n",
       "      <td>-1.181697</td>\n",
       "      <td>-0.321914</td>\n",
       "      <td>0.350219</td>\n",
       "      <td>3.845627</td>\n",
       "      <td>-3.809937</td>\n",
       "      <td>-3.836145</td>\n",
       "      <td>rest</td>\n",
       "    </tr>\n",
       "    <tr>\n",
       "      <th>3</th>\n",
       "      <td>60089.999688</td>\n",
       "      <td>-612.463451</td>\n",
       "      <td>21.234104</td>\n",
       "      <td>-807.723293</td>\n",
       "      <td>251928.243205</td>\n",
       "      <td>265458.040082</td>\n",
       "      <td>282275.541016</td>\n",
       "      <td>230.199431</td>\n",
       "      <td>-1.185326</td>\n",
       "      <td>-0.300478</td>\n",
       "      <td>0.345979</td>\n",
       "      <td>4.795835</td>\n",
       "      <td>-2.841006</td>\n",
       "      <td>-3.874287</td>\n",
       "      <td>rest</td>\n",
       "    </tr>\n",
       "    <tr>\n",
       "      <th>4</th>\n",
       "      <td>60099.999584</td>\n",
       "      <td>-600.476891</td>\n",
       "      <td>24.310629</td>\n",
       "      <td>-813.420737</td>\n",
       "      <td>251745.730992</td>\n",
       "      <td>265249.777178</td>\n",
       "      <td>282092.771449</td>\n",
       "      <td>193.561620</td>\n",
       "      <td>-1.182115</td>\n",
       "      <td>-0.324994</td>\n",
       "      <td>0.356622</td>\n",
       "      <td>5.318753</td>\n",
       "      <td>-1.352278</td>\n",
       "      <td>-3.033832</td>\n",
       "      <td>rest</td>\n",
       "    </tr>\n",
       "    <tr>\n",
       "      <th>...</th>\n",
       "      <td>...</td>\n",
       "      <td>...</td>\n",
       "      <td>...</td>\n",
       "      <td>...</td>\n",
       "      <td>...</td>\n",
       "      <td>...</td>\n",
       "      <td>...</td>\n",
       "      <td>...</td>\n",
       "      <td>...</td>\n",
       "      <td>...</td>\n",
       "      <td>...</td>\n",
       "      <td>...</td>\n",
       "      <td>...</td>\n",
       "      <td>...</td>\n",
       "      <td>...</td>\n",
       "    </tr>\n",
       "    <tr>\n",
       "      <th>48097</th>\n",
       "      <td>541025.000520</td>\n",
       "      <td>-428.195491</td>\n",
       "      <td>88.392594</td>\n",
       "      <td>-910.889153</td>\n",
       "      <td>248635.809376</td>\n",
       "      <td>261422.041061</td>\n",
       "      <td>279164.289565</td>\n",
       "      <td>626.068987</td>\n",
       "      <td>-1.098664</td>\n",
       "      <td>-0.619816</td>\n",
       "      <td>0.441665</td>\n",
       "      <td>-0.066984</td>\n",
       "      <td>-1.216455</td>\n",
       "      <td>1.289091</td>\n",
       "      <td>rest</td>\n",
       "    </tr>\n",
       "    <tr>\n",
       "      <th>48098</th>\n",
       "      <td>541035.000416</td>\n",
       "      <td>-435.345796</td>\n",
       "      <td>88.028704</td>\n",
       "      <td>-905.910860</td>\n",
       "      <td>248762.440784</td>\n",
       "      <td>261574.621259</td>\n",
       "      <td>279276.018839</td>\n",
       "      <td>601.948650</td>\n",
       "      <td>-1.105475</td>\n",
       "      <td>-0.605655</td>\n",
       "      <td>0.436877</td>\n",
       "      <td>0.130918</td>\n",
       "      <td>-1.566369</td>\n",
       "      <td>0.966973</td>\n",
       "      <td>rest</td>\n",
       "    </tr>\n",
       "    <tr>\n",
       "      <th>48099</th>\n",
       "      <td>541045.000312</td>\n",
       "      <td>-423.847690</td>\n",
       "      <td>92.451562</td>\n",
       "      <td>-911.053143</td>\n",
       "      <td>248617.159787</td>\n",
       "      <td>261393.275394</td>\n",
       "      <td>279105.052543</td>\n",
       "      <td>614.165347</td>\n",
       "      <td>-1.102484</td>\n",
       "      <td>-0.622649</td>\n",
       "      <td>0.444154</td>\n",
       "      <td>-0.094809</td>\n",
       "      <td>-1.212794</td>\n",
       "      <td>1.399047</td>\n",
       "      <td>rest</td>\n",
       "    </tr>\n",
       "    <tr>\n",
       "      <th>48100</th>\n",
       "      <td>541055.000208</td>\n",
       "      <td>-437.546494</td>\n",
       "      <td>86.508435</td>\n",
       "      <td>-901.198165</td>\n",
       "      <td>248872.456402</td>\n",
       "      <td>261697.601615</td>\n",
       "      <td>279330.639753</td>\n",
       "      <td>574.232155</td>\n",
       "      <td>-1.110673</td>\n",
       "      <td>-0.595695</td>\n",
       "      <td>0.437026</td>\n",
       "      <td>0.079811</td>\n",
       "      <td>-1.494375</td>\n",
       "      <td>0.942646</td>\n",
       "      <td>rest</td>\n",
       "    </tr>\n",
       "    <tr>\n",
       "      <th>48101</th>\n",
       "      <td>541065.000104</td>\n",
       "      <td>-411.676809</td>\n",
       "      <td>92.620195</td>\n",
       "      <td>-914.695959</td>\n",
       "      <td>248464.139833</td>\n",
       "      <td>261149.774805</td>\n",
       "      <td>278895.670852</td>\n",
       "      <td>594.854260</td>\n",
       "      <td>-1.099668</td>\n",
       "      <td>-0.637660</td>\n",
       "      <td>0.450827</td>\n",
       "      <td>-0.426437</td>\n",
       "      <td>-0.721738</td>\n",
       "      <td>1.874106</td>\n",
       "      <td>rest</td>\n",
       "    </tr>\n",
       "  </tbody>\n",
       "</table>\n",
       "<p>48102 rows × 15 columns</p>\n",
       "</div>"
      ],
      "text/plain": [
       "       Time_record (ms)      X [mg]     Y [mg]      Z [mg]      channel 0  \\\n",
       "0          60060.000000 -526.585136  55.727686 -853.177568  250388.301633   \n",
       "1          60069.999896 -625.533960  22.783335 -799.463856  252040.606892   \n",
       "2          60079.999792 -599.400215  27.346212 -814.782651  251684.148115   \n",
       "3          60089.999688 -612.463451  21.234104 -807.723293  251928.243205   \n",
       "4          60099.999584 -600.476891  24.310629 -813.420737  251745.730992   \n",
       "...                 ...         ...        ...         ...            ...   \n",
       "48097     541025.000520 -428.195491  88.392594 -910.889153  248635.809376   \n",
       "48098     541035.000416 -435.345796  88.028704 -905.910860  248762.440784   \n",
       "48099     541045.000312 -423.847690  92.451562 -911.053143  248617.159787   \n",
       "48100     541055.000208 -437.546494  86.508435 -901.198165  248872.456402   \n",
       "48101     541065.000104 -411.676809  92.620195 -914.695959  248464.139833   \n",
       "\n",
       "           channel 1      channel 2     ambient     X [G]     Y [G]     Z [G]  \\\n",
       "0      263532.324833  280800.385432  381.703351 -1.152701 -0.437369  0.381853   \n",
       "1      265592.874472  282418.720436  225.985948 -1.196616 -0.274666  0.330571   \n",
       "2      265136.987000  282042.764604  298.570529 -1.181697 -0.321914  0.350219   \n",
       "3      265458.040082  282275.541016  230.199431 -1.185326 -0.300478  0.345979   \n",
       "4      265249.777178  282092.771449  193.561620 -1.182115 -0.324994  0.356622   \n",
       "...              ...            ...         ...       ...       ...       ...   \n",
       "48097  261422.041061  279164.289565  626.068987 -1.098664 -0.619816  0.441665   \n",
       "48098  261574.621259  279276.018839  601.948650 -1.105475 -0.605655  0.436877   \n",
       "48099  261393.275394  279105.052543  614.165347 -1.102484 -0.622649  0.444154   \n",
       "48100  261697.601615  279330.639753  574.232155 -1.110673 -0.595695  0.437026   \n",
       "48101  261149.774805  278895.670852  594.854260 -1.099668 -0.637660  0.450827   \n",
       "\n",
       "        X [dps]   Y [dps]   Z [dps] Events  \n",
       "0      1.574974 -3.660218 -2.235546   rest  \n",
       "1      3.730015 -5.475692 -5.285922   rest  \n",
       "2      3.845627 -3.809937 -3.836145   rest  \n",
       "3      4.795835 -2.841006 -3.874287   rest  \n",
       "4      5.318753 -1.352278 -3.033832   rest  \n",
       "...         ...       ...       ...    ...  \n",
       "48097 -0.066984 -1.216455  1.289091   rest  \n",
       "48098  0.130918 -1.566369  0.966973   rest  \n",
       "48099 -0.094809 -1.212794  1.399047   rest  \n",
       "48100  0.079811 -1.494375  0.942646   rest  \n",
       "48101 -0.426437 -0.721738  1.874106   rest  \n",
       "\n",
       "[48102 rows x 15 columns]"
      ]
     },
     "execution_count": 11,
     "metadata": {},
     "output_type": "execute_result"
    }
   ],
   "source": [
    "#The event list can also be saved as txt file for later use\n",
    "out_path=os.path.join(csv_dir, record_id, 'event_list.txt' )\n",
    "biobss.reader.marker_to_events(filepath,markerpath,['rest'],out_path,save_file=True)"
   ]
  },
  {
   "cell_type": "markdown",
   "metadata": {},
   "source": [
    "### __Loading and Saving Alternatives__\n",
    "<a id=\"polar_files\"></a>"
   ]
  },
  {
   "cell_type": "markdown",
   "metadata": {},
   "source": [
    "BIOBSS provides loading and saving alternatives for the Polar sensor files. Csv files can be read into dictionaries using the ___polar_csv_reader___ function by setting the signal_type parameter. \n",
    "\n",
    "Csv files can also be saved as pkl files using the ___csv_to_pkl___ function."
   ]
  },
  {
   "cell_type": "code",
   "execution_count": 15,
   "metadata": {},
   "outputs": [
    {
     "name": "stdout",
     "output_type": "stream",
     "text": [
      "dict_keys(['Timestamp', 'Time_sensor (ms)', 'Time_record (ms)', 'PPG_Ch0', 'PPG_Ch1', 'PPG_Ch2', 'Ambient'])\n"
     ]
    },
    {
     "name": "stderr",
     "output_type": "stream",
     "text": [
      "c:\\Users\\ipek.karakus\\.conda\\envs\\biolib\\lib\\site-packages\\biobss\\reader\\polar_format.py:481: UserWarning: No files found in c:\\Users\\ipek.karakus\\Desktop\\biobss\\sample_data\\Polar_files\\csv_files.\n",
      "  warnings.warn(f'No files found in {csv_dir}.')\n",
      "c:\\Users\\ipek.karakus\\.conda\\envs\\biolib\\lib\\site-packages\\biobss\\reader\\polar_format.py:478: UserWarning: c:\\Users\\ipek.karakus\\Desktop\\biobss\\sample_data\\Polar_files\\pkl_files\\sample_record already present, skipping csv to pkl conversion.\n",
      "  warnings.warn(f'{pkl_dir} already present, skipping csv to pkl conversion.')\n"
     ]
    }
   ],
   "source": [
    "#Read csv files into a dictionary\n",
    "filename='sample_record_PPG.csv'\n",
    "filepath=os.path.join(csv_dir,record_id,filename)\n",
    "data=biobss.reader.polar_csv_reader(filepath,signal_type='PPG')\n",
    "print(data.keys())\n",
    "\n",
    "#Save signals as pkl files\n",
    "biobss.reader.csv_to_pkl(csv_dir)"
   ]
  }
 ],
 "metadata": {
  "kernelspec": {
   "display_name": "Python 3.8.13 ('biolib')",
   "language": "python",
   "name": "python3"
  },
  "language_info": {
   "codemirror_mode": {
    "name": "ipython",
    "version": 3
   },
   "file_extension": ".py",
   "mimetype": "text/x-python",
   "name": "python",
   "nbconvert_exporter": "python",
   "pygments_lexer": "ipython3",
   "version": "3.8.13"
  },
  "orig_nbformat": 4,
  "vscode": {
   "interpreter": {
    "hash": "3a4bcfb23c7e6ad66c655087280fa9f4d0273121ae7909f7735d1e02563a2438"
   }
  }
 },
 "nbformat": 4,
 "nbformat_minor": 2
}
