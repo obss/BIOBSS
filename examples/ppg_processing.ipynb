{
 "cells": [
  {
   "cell_type": "markdown",
   "metadata": {},
   "source": [
    "__BIOBSS - PPG Signal Processing__\n",
    "\n",
    "_This notebook includes guidelines to help using BIOBSS for PPG signal processing and feature extraction._"
   ]
  },
  {
   "cell_type": "code",
   "execution_count": 1,
   "metadata": {},
   "outputs": [],
   "source": [
    "#Import BIOBSS and other required packages\n",
    "\n",
    "import biobss\n",
    "import os\n",
    "import numpy as np\n",
    "import matplotlib.pyplot as plt\n",
    "import pandas as pd"
   ]
  },
  {
   "cell_type": "markdown",
   "metadata": {},
   "source": [
    "# Table of Contents\n",
    "1. [PPG Sample Data](#sampledata)<br>\n",
    "2. [PPG Signal Preprocessing](#ppg_pre)<br>\n",
    "    2.1. [Filtering](#ppg_filter)<br>\n",
    "    2.2. [Peak Detection](#ppg_peak)<br>\n",
    "4. [PPG Signal Quality Assessment](#ppg_sqa)<br>\n",
    "    4.1. [Clipping and Flatline Detection](#ppg_cf)<br>\n",
    "    4.2. [Physiological and Morphological Limits](#ppg_pm)<br>\n",
    "    4.3. [Template Matching](#ppg_tm)<br>\n",
    "5. [PPG Feature Extraction](#ppg_features)<br>"
   ]
  },
  {
   "cell_type": "markdown",
   "metadata": {},
   "source": [
    "### __PPG Sample Data__\n",
    "<a id=\"sampledata\"></a>"
   ]
  },
  {
   "cell_type": "markdown",
   "metadata": {},
   "source": [
    "PPG sample data is provided as a csv file in BIOBSS\\sample data. The data file contains 100 PPG segments of 10-seconds length. The sampling rate is 64 Hz for all segments."
   ]
  },
  {
   "cell_type": "code",
   "execution_count": 2,
   "metadata": {},
   "outputs": [],
   "source": [
    "#Load the sample data\n",
    "data_dir = os.path.join(os.path.normpath(os.getcwd() + os.sep + os.pardir),\"sample_data\")\n",
    "filename='ppg_sample_data.csv'\n",
    "data=pd.read_csv(os.path.join(data_dir,filename), header=None)\n",
    "\n",
    "#Select the first segment to be used in the examples\n",
    "fs=64\n",
    "L=10\n",
    "sig=np.asarray(data.iloc[0,:])  "
   ]
  },
  {
   "cell_type": "markdown",
   "metadata": {},
   "source": [
    "### __PPG Signal Preprocessing__\n",
    "<a id=\"ppg_pre\"></a>"
   ]
  },
  {
   "cell_type": "markdown",
   "metadata": {},
   "source": [
    "#### __Filtering__\n",
    "<a id=\"ppg_filter\"></a>"
   ]
  },
  {
   "cell_type": "markdown",
   "metadata": {},
   "source": [
    "BIOBSS provides a filtering function which uses Scipy. This function can be used to implement Butterworth filter by defining the filter parameters (filter type, filter order, cutoff frequencies) as shown below. "
   ]
  },
  {
   "cell_type": "code",
   "execution_count": 3,
   "metadata": {},
   "outputs": [],
   "source": [
    "#Filter PPG signal by defining the filter parameters\n",
    "f_sig= biobss.preprocess.filter_signal(sig,sampling_rate=fs,filter_type='bandpass',N=2,f_lower=0.5,f_upper=5)"
   ]
  },
  {
   "cell_type": "markdown",
   "metadata": {},
   "source": [
    "As an alternative, predefined filters can be used for each signal type. In order to use this option for PPG signal, signal_type should be selected as 'PPG'. "
   ]
  },
  {
   "cell_type": "code",
   "execution_count": 4,
   "metadata": {},
   "outputs": [
    {
     "name": "stderr",
     "output_type": "stream",
     "text": [
      "c:\\Users\\ipek.karakus\\.conda\\envs\\biolib\\lib\\site-packages\\biobss\\ppgtools\\ppg_filter.py:17: UserWarning: Default parameters will be used for filtering. 2th order bandpass bandpass filter with f1=0.5 Hz and f2=5 Hz.\n",
      "  warnings.warn(f\"Default parameters will be used for filtering. {N}th order {method} {btype} filter with f1=0.5 Hz and f2=5 Hz.\")\n"
     ]
    }
   ],
   "source": [
    "#Filter PPG signal by using predefined filters\n",
    "filtered_ppg = biobss.preprocess.filter_signal(sig, sampling_rate=fs, signal_type='PPG', method='bandpass')"
   ]
  },
  {
   "cell_type": "markdown",
   "metadata": {},
   "source": [
    "#### __Peak Detection__\n",
    "<a id=\"ppg_peak\"></a>"
   ]
  },
  {
   "cell_type": "markdown",
   "metadata": {},
   "source": [
    "BIOBSS provides a peak detection function with different alternatives for the peak detection method. These methods are appropriate for PPG signal, however the parameters should be selected properly if the second peak (diastolic peak) is observable in the signal. The ___peak_detection___ function returns a dictionary including peak locations, peak amplitudes, trough locations and trough amplitudes."
   ]
  },
  {
   "cell_type": "code",
   "execution_count": 5,
   "metadata": {},
   "outputs": [],
   "source": [
    "#Detect peaks using 'peakdet' method (delta=0.01). Delta parameter should be adjusted related to the amplitude of the signal.\n",
    "\n",
    "info=biobss.preprocess.peak_detection(sig,fs,'peakdet',delta=0.01)\n",
    "\n",
    "locs_peaks=info['Peak_locs']\n",
    "peaks=info['Peaks']\n",
    "locs_onsets=info['Trough_locs']\n",
    "onsets=info['Troughs']"
   ]
  },
  {
   "cell_type": "markdown",
   "metadata": {},
   "source": [
    "In case of PPG waveform has low amplitude, PPG beats can be detected more accurately from the rising edge of the signal, instead of peaks. BIOBSS provides the function ___ppg_beats___ for this purpose. The function calculates the first derivative of the PPG signal (velocity plethysmogram - VPG) and detects peaks of VPG. The peaks of VPG signal corresponds maximum slope point on the rising edge of the PPG signal. Note that, the ___ppg_beats___ function returns only peak locations and __delta__ parameter should be adjusted considering the amplitude of VPG signal."
   ]
  },
  {
   "cell_type": "code",
   "execution_count": 6,
   "metadata": {},
   "outputs": [],
   "source": [
    "locs_peaks=biobss.ppgtools.ppg_beats(sig, sampling_rate=fs, method='peakdet', delta=0.005)\n",
    "peaks=sig[locs_peaks]\n",
    "locs_onsets=info['Trough_locs']\n",
    "onsets=info['Troughs']"
   ]
  },
  {
   "cell_type": "markdown",
   "metadata": {},
   "source": [
    "For further analysis, a peak control step is required to prevent errors resulting from incorrect peak detection results (missing or dupliciate peaks). The ___peak_control___ function checks the relative locations of peaks and troughs, ensuring only a single peak is located between consecutive troughs."
   ]
  },
  {
   "cell_type": "code",
   "execution_count": 7,
   "metadata": {},
   "outputs": [],
   "source": [
    "#Correct the peak detection results by considering the order of peaks and troughs\n",
    "info=biobss.ppgtools.peak_control(peaks_locs=locs_peaks, peaks_amp=peaks, troughs_locs=locs_onsets, troughs_amp=onsets)\n",
    "\n",
    "locs_peaks=info['Peak_locs']\n",
    "peaks=info['Peaks']\n",
    "locs_onsets=info['Trough_locs']\n",
    "onsets=info['Troughs']"
   ]
  },
  {
   "cell_type": "markdown",
   "metadata": {},
   "source": [
    "### __PPG Signal Quality Assessment__\n",
    "<a id=\"ppg_sqa\"></a>"
   ]
  },
  {
   "cell_type": "markdown",
   "metadata": {},
   "source": [
    "PPG signal is very sensitive to motion artifacts, so signal quality assessment is an important step which should be applied prior to signal analysis. For this purpose, rule-based or machine learning based approaches can be applied based on the morphological information from PPG waveform. BIOBSS provides a set of functions for assessing signal quality, which can be applied seperately or consecutively."
   ]
  },
  {
   "cell_type": "markdown",
   "metadata": {},
   "source": [
    "#### __Clipping and Flatline Detection__\n",
    "<a id=\"ppg_cf\"></a>"
   ]
  },
  {
   "cell_type": "markdown",
   "metadata": {},
   "source": [
    "The ___detect_flatline_clipping___ function is used to detect clipped or flat segments of a signal by setting the parameters and returns a dictionary of boundaries. \n",
    "\n",
    "Clipping occurs because of exceeding voltage limits of the signal conditioning circuits. Clipped segments can be detected by setting a threshold and applying rules on the signal amplitude. "
   ]
  },
  {
   "cell_type": "code",
   "execution_count": 8,
   "metadata": {},
   "outputs": [],
   "source": [
    "#Detect clipped segments of PPG signal by setting a threshold value for signal amplitude\n",
    "info=biobss.sqatools.detect_flatline_clipping(sig,threshold=1.0, clipping=True)"
   ]
  },
  {
   "cell_type": "markdown",
   "metadata": {},
   "source": [
    "Flatline detection differs from clipping such that it can occur at any level of signal amplitude and duration of flat segments also matters to detect flatlines. Thus, both an amplitude and duration threshold should be defined to apply the rules. Note that, threshold of signal amplitude is defined as the minimum level of amplitude change required for a signal to be considered as non-flat segment."
   ]
  },
  {
   "cell_type": "code",
   "execution_count": 9,
   "metadata": {},
   "outputs": [],
   "source": [
    "#Detect flat segments of PPG signal by setting thresholds for signal amplitude change and duration of flat segments\n",
    "info=biobss.sqatools.detect_flatline_clipping(sig,threshold=0.0001, flatline=True, duration=10)"
   ]
  },
  {
   "cell_type": "markdown",
   "metadata": {},
   "source": [
    "#### __Physiological and Morphological Limits__\n",
    "<a id=\"ppg_pm\"></a>"
   ]
  },
  {
   "cell_type": "markdown",
   "metadata": {},
   "source": [
    "The ___check_phys___ and ___check_morph___ functions can be used to check for physiological and morphological limits respectively. These functions takes peak and trough locations as argument and return a dictionary of boolean results of the applied rules.\n",
    "\n",
    "To be able to calculate the morphological features, number of peaks and troughs should match. Thus, peak control procedure should also be applied following peak detection."
   ]
  },
  {
   "cell_type": "code",
   "execution_count": 10,
   "metadata": {},
   "outputs": [],
   "source": [
    "#Peak detection\n",
    "info=biobss.preprocess.peak_detection(sig,fs,'peakdet',delta=0.01)\n",
    "locs_peaks=info['Peak_locs']\n",
    "peaks=info['Peaks']\n",
    "locs_onsets=info['Trough_locs']\n",
    "onsets=info['Troughs']\n",
    "\n",
    "#Peak correction\n",
    "info=biobss.ppgtools.peak_control(locs_peaks,peaks,locs_onsets,onsets)\n",
    "locs_peaks=info['Peak_locs']\n",
    "peaks=info['Peaks']\n",
    "locs_onsets=info['Trough_locs']\n",
    "onsets=info['Troughs']"
   ]
  },
  {
   "cell_type": "markdown",
   "metadata": {},
   "source": [
    "Now, the phsyiological and morphological limits can be compared to the accepted values in the literature. \n",
    "Reference: https://link.springer.com/book/10.1007/978-3-319-68415-4\n",
    "\n",
    "These values are defined as constants in the corresponding modules as given below. \n",
    "\n",
    "Physiological limits:\n",
    "- HR_MIN = 40 #minimum heart rate\n",
    "- HR_MAX = 180 #maximum heart rate\n",
    "- PP_MAX = 3 #maximum peak to peak interval\n",
    "- MAX_PP_RATIO = 2.2 #maximum P-P interval / minimum P-P interval \n",
    "\n",
    "Morphological limits:\n",
    " \n",
    "- MIN_SPD = 0.08 #minimum systolic phase duration\n",
    "- MAX_SPD = 0.49 #maximum systolic phase duration\n",
    "- SP_DP_RATIO = 1.1 #maximum ratio of systolic to diastolic phase \n",
    "- MIN_PWD = 0.27 #minimum pulse wave duration\n",
    "- MAX_PWD = 2.4 #maximum pulse wave duration\n",
    "- MAX_VAR_DUR = 300 #maximum variation in pulse wave duration (%)\n",
    "- MAX_VAR_AMP = 400 #maximum variation in pulse wave amplitude (%)"
   ]
  },
  {
   "cell_type": "code",
   "execution_count": 11,
   "metadata": {},
   "outputs": [],
   "source": [
    "#Check for physiological and morphological limits \n",
    "info_phys=biobss.sqatools.check_phys(locs_peaks,fs)\n",
    "info_morph=biobss.sqatools.check_morph(locs_peaks,peaks,locs_onsets,onsets,fs)"
   ]
  },
  {
   "cell_type": "markdown",
   "metadata": {},
   "source": [
    "#### __Template Matching__\n",
    "<a id=\"ppg_tm\"></a>"
   ]
  },
  {
   "cell_type": "markdown",
   "metadata": {},
   "source": [
    "A common method for signal quality assessment is known as \"Template Matching\". This method is based on the expectation that pulse waveforms will have similar morphology in a PPG segment. A template is generated by aligning the pulses by their peaks and averaging them. Then, similarity of each pulse with the template is assessed using a measure. The ___template_matching___ function uses Pearson correlation as similarity measure. A threshold should be determined for correlation coefficient below which the pulse is \"unacceptable\". The default value is setted as 0.9 for the threshold. The function returns a tuple of correlation coefficients and a boolean result for the quality of the segment."
   ]
  },
  {
   "cell_type": "code",
   "execution_count": 15,
   "metadata": {},
   "outputs": [],
   "source": [
    "#Template matching \n",
    "info=biobss.sqatools.template_matching(sig,locs_peaks)"
   ]
  },
  {
   "cell_type": "markdown",
   "metadata": {},
   "source": [
    "The methods defined above can also be applied simultaneously using the function ___ppg_sqa___. Methods can be provided as a list and the function returns a dictionary of results. "
   ]
  },
  {
   "cell_type": "code",
   "execution_count": 16,
   "metadata": {},
   "outputs": [],
   "source": [
    "info=biobss.ppgtools.ppg_sqa(ppg_sig=sig, sampling_rate=fs, methods=['clipping', 'flatline','physiological','morphological','template'], clipping_threshold=1.0, flatline_threshold=0.0001, duration=10, peaks_locs=locs_peaks, peaks_amp=peaks, troughs_locs=locs_onsets, troughs_amp=onsets)"
   ]
  },
  {
   "cell_type": "markdown",
   "metadata": {},
   "source": [
    "### __PPG Feature Extraction__\n",
    "<a id=\"ppg_features\"></a>"
   ]
  },
  {
   "cell_type": "markdown",
   "metadata": {},
   "source": [
    "PPG signal is mostly used for heart rate calculation and heart rate variability analysis. However it can also be used to estimate physiological parameters such as respiration rate and blood pressure. There are several different approaches for estimation and one of them is to use machine learning models. Generally morphological / time domain, frequency domain and statistical features are used to train the machine learning models. BIOBSS provides a set of functions for calculation of the most common features in the literature. "
   ]
  },
  {
   "cell_type": "markdown",
   "metadata": {},
   "source": [
    "<b>Time domain / morphological features</b>:\n",
    "\n",
    "<u>Cycle-based features</u>:\n",
    "- a_S: Mean amplitude of the systolic peaks \n",
    "- t_S: Mean systolic peak duration\n",
    "- t_C: Mean cycle duration\n",
    "- DW: Mean diastolic peak duration\n",
    "- SW_10: The systolic peak duration at 10% amplitude of systolic amplitude\n",
    "- SW_25: The systolic peak duration at 25% amplitude of systolic amplitude\n",
    "- SW_33: The systolic peak duration at 33% amplitude of systolic amplitude\n",
    "- SW_50: The systolic peak duration at 50% amplitude of systolic amplitude\n",
    "- SW_66: The systolic peak duration at 66% amplitude of systolic amplitude\n",
    "- SW_75: The systolic peak duration at 75% amplitude of systolic amplitude\n",
    "- DW_10: The diastolic peak duration at 10% amplitude of systolic amplitude\n",
    "- DW_25: The diastolic peak duration at 25% amplitude of systolic amplitude\n",
    "- DW_33: The diastolic peak duration at 33% amplitude of systolic amplitude\n",
    "- DW_50: The diastolic peak duration at 50% amplitude of systolic amplitude\n",
    "- DW_66: The diastolic peak duration at 66% amplitude of systolic amplitude\n",
    "- DW_75: The diastolic peak duration at 75% amplitude of systolic amplitude\n",
    "- DW_SW_10: The ratio of diastolic peak duration to systolic peak duration at 10% amplitude of systolic amplitude\n",
    "- DW_SW_25: The ratio of diastolic peak duration to systolic peak duration at 25% amplitude of systolic amplitude\n",
    "- DW_SW_33: The ratio of diastolic peak duration to systolic peak duration at 33% amplitude of systolic amplitude\n",
    "- DW_SW_50: The ratio of diastolic peak duration to systolic peak duration at 50% amplitude of systolic amplitude\n",
    "- DW_SW_66: The ratio of diastolic peak duration to systolic peak duration at 66% amplitude of systolic amplitude\n",
    "- DW_SW_75: The ratio of diastolic peak duration to systolic peak duration at 75% amplitude of systolic amplitude\n",
    "- PR_mean: Mean pulse rate\n",
    "\n",
    "<u>Segment-based features</u>:\n",
    "- zcr: Zero crossing rate\n",
    "- snr: Signal to noise ratio\n",
    "\n",
    "<b>Frequency domain features</b>:\n",
    "\n",
    "<u>Segment-based features</u>:\n",
    "\n",
    "- p_1: The amplitude of the first peak from the fft of the signal\n",
    "- f_1: The frequency at which the first peak from the fft of the signal occurred\n",
    "- p_2: The amplitude of the second peak from the fft of the signal\n",
    "- f_2: The frequency at which the second peak from the fft of the signal occurred\n",
    "- p_3: The amplitude of the third peak from the fft of the signal\n",
    "- f_3: The frequency at which the third peak from the fft of the signal occurred\n",
    "- pow: Power of the signal at a given range of frequencies\n",
    "- rpow: Ratio of the powers of the signal at given ranges of frequencies\n",
    "\n",
    "<b>Statistical features</b>:\n",
    "\n",
    "<u>Cycle-based features</u>: \n",
    "\n",
    "- std_peaks: Standard deviation of the peak amplitudes\n",
    "\n",
    "<u>Segment-based features</u>:\n",
    "    \n",
    "- mean: Mean value of the signal\n",
    "- median: Median value of the signal\n",
    "- std: Standard deviation of the signal\n",
    "- pct_25: 25th percentile of the signal\n",
    "- pct_75 75th percentile of the signal\n",
    "- mad: Mean absolute deviation of the signal\n",
    "- skewness: Skewness of the signal\n",
    "- kurtosis: Kurtosis of the signal\n",
    "- entropy: Entropy of the signal"
   ]
  },
  {
   "cell_type": "markdown",
   "metadata": {},
   "source": [
    "These features can be calculated seperately for each domain using the functions ___get_time_features___, ___get_freq_features___ and ___get_stat_features___. These functions requires a parameter 'type' to select for the feature subset. Cycle-based features are calculated for each cycle (waveform) and averaged for all cycles in a segment. Segment-based features are calculated for the whole segment. "
   ]
  },
  {
   "cell_type": "code",
   "execution_count": 19,
   "metadata": {},
   "outputs": [],
   "source": [
    "#Calculate cycle-based time-domain features\n",
    "ppg_time = biobss.ppgtools.ppg_features.get_time_features(sig, sampling_rate=fs, feature_types=['cycle','segment'], peaks_amp=peaks, peaks_locs=locs_peaks, troughs_locs=locs_onsets)\n",
    "\n",
    "#Calculate frequency-domain features\n",
    "ppg_freq = biobss.ppgtools.ppg_features.get_freq_features(sig, sampling_rate=fs, feature_types=['segment'])\n",
    "\n",
    "#Calculate cycle-based statistical features\n",
    "ppg_stat = biobss.ppgtools.ppg_features.get_stat_features(sig, sampling_rate=fs, feature_types=['segment'], peaks_amp=peaks, peaks_locs=locs_peaks, troughs_locs=locs_onsets)"
   ]
  },
  {
   "cell_type": "markdown",
   "metadata": {},
   "source": [
    "As an alternative, ___from_cyles___ and ___from_segment___ functions can be used to calculate features of multiple domains. "
   ]
  },
  {
   "cell_type": "code",
   "execution_count": null,
   "metadata": {},
   "outputs": [],
   "source": [
    "#Calculate cycle-based features for all valid domains\n",
    "ppg_cycle=biobss.ppgtools.ppg_features.from_cycles(sig,locs_peaks,peaks,locs_onsets,onsets,fs,feature_types=['Time','Stat'],prefix='ppg')\n",
    "\n",
    "#Calculate segment-based features for all valid domains\n",
    "ppg_segment=biobss.ppgtools.ppg_features.from_segment(sig,fs,feature_types=['Time','Stat','Freq'], prefix='ppg')"
   ]
  }
 ],
 "metadata": {
  "kernelspec": {
   "display_name": "Python 3.8.5 64-bit ('biolib')",
   "language": "python",
   "name": "python3"
  },
  "language_info": {
   "codemirror_mode": {
    "name": "ipython",
    "version": 3
   },
   "file_extension": ".py",
   "mimetype": "text/x-python",
   "name": "python",
   "nbconvert_exporter": "python",
   "pygments_lexer": "ipython3",
   "version": "3.8.13"
  },
  "orig_nbformat": 4,
  "vscode": {
   "interpreter": {
    "hash": "3a4bcfb23c7e6ad66c655087280fa9f4d0273121ae7909f7735d1e02563a2438"
   }
  }
 },
 "nbformat": 4,
 "nbformat_minor": 2
}
