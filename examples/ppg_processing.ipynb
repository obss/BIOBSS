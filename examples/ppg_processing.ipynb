{
 "cells": [
  {
   "cell_type": "markdown",
   "metadata": {},
   "source": [
    "__BIOBSS - PPG Signal Processing__\n",
    "\n",
    "_This notebook includes guidelines to help using BIOBSS for PPG signal processing and feature extraction._"
   ]
  },
  {
   "cell_type": "code",
   "execution_count": 1,
   "metadata": {},
   "outputs": [],
   "source": [
    "#Import BIOBSS and the other required packages\n",
    "\n",
    "import biobss\n",
    "import os\n",
    "import numpy as np\n",
    "import matplotlib.pyplot as plt\n",
    "import pandas as pd\n",
    "\n",
    "#help(biobss)"
   ]
  },
  {
   "cell_type": "markdown",
   "metadata": {},
   "source": [
    "# Table of Contents\n",
    "1.[PPG Sample Data](#sampledata)<br>\n",
    "2.[PPG Signal Filtering](#ppg_pre)<br>\n",
    "3.[PPG Peak Detection](#ppg_peak)<br>\n",
    "4.[PPG Signal Quality Assessment](#ppg_sqa)<br>\n",
    "5.[PPG Feature Extraction](#ppg_features)<br>"
   ]
  },
  {
   "cell_type": "markdown",
   "metadata": {},
   "source": [
    "### __PPG Sample Data__\n",
    "<a id=\"sampledata\"></a>"
   ]
  },
  {
   "cell_type": "code",
   "execution_count": 2,
   "metadata": {},
   "outputs": [],
   "source": [
    "#Load the sample data. The sample data file contains 100 10-s PPG segments. The samling rate of the segments is 64 Hz. \n",
    "\n",
    "data_dir=r'C:\\Users\\ipek.karakus\\Desktop\\biobss\\sample_data'\n",
    "\n",
    "filename='ppg_sample_data.csv'\n",
    "\n",
    "data=pd.read_csv(os.path.join(data_dir,filename), header=None)\n",
    "sig=np.asarray(data.iloc[0,:]) #The first segment is selected to be used as sample signal. \n",
    "fs=64\n",
    "L=10"
   ]
  },
  {
   "cell_type": "markdown",
   "metadata": {},
   "source": [
    "### __PPG Signal Preprocessing__\n",
    "<a id=\"ppg_pre\"></a>"
   ]
  },
  {
   "cell_type": "markdown",
   "metadata": {},
   "source": [
    "BIOBSS library provides a filtering function based on Scipy. This function can be used to implement Butterworth filter by defining the filter parameters. "
   ]
  },
  {
   "cell_type": "code",
   "execution_count": 4,
   "metadata": {},
   "outputs": [],
   "source": [
    "#or defining the parameters.\n",
    "\n",
    "f_sig= biobss.preprocess.filter_signal(sig,fs,'bandpass',N=2,f_lower=0.5,f_upper=5)"
   ]
  },
  {
   "cell_type": "markdown",
   "metadata": {},
   "source": [
    "Additionally, pre-defined filter parameters can be used for each specific signal type. In order to use this option, signal_type should be selected as 'PPG'. "
   ]
  },
  {
   "cell_type": "code",
   "execution_count": 3,
   "metadata": {},
   "outputs": [
    {
     "name": "stderr",
     "output_type": "stream",
     "text": [
      "c:\\Users\\ipek.karakus\\.conda\\envs\\biolib\\lib\\site-packages\\biobss\\ppgtools\\ppg_filter.py:12: UserWarning: Default parameters will be used for filtering. 2th order None bandpass filter with f1=0.5 and f2=5.\n",
      "  warnings.warn(f\"Default parameters will be used for filtering. {N}th order {method} {filter_type} filter with f1={f_lower} and f2={f_upper}.\")\n"
     ]
    }
   ],
   "source": [
    "#PPG signals can be filtered using the method below using pre-determined filter parameters\n",
    "\n",
    "filtered_ppg=biobss.preprocess.filter_signal(sig, fs, signal_type='PPG')"
   ]
  },
  {
   "cell_type": "markdown",
   "metadata": {},
   "source": [
    "### __PPG Peak Detection__\n",
    "<a id=\"ppg_peak\"></a>"
   ]
  },
  {
   "cell_type": "code",
   "execution_count": 5,
   "metadata": {},
   "outputs": [],
   "source": [
    "#Signal peaks can be detected as below\n",
    "\n",
    "info=biobss.preprocess.peak_detection(sig,fs,'peakdet',delta=0.01)\n",
    "\n",
    "locs_peaks=info['Peak_locs']\n",
    "peaks=info['Peaks']\n",
    "locs_onsets=info['Trough_locs']\n",
    "onsets=info['Troughs']\n",
    "\n",
    "#and the results can be corrected considering the order of peaks and onsets\n",
    "info=biobss.ppgtools.peak_control(locs_peaks,peaks,locs_onsets,onsets)\n",
    "\n",
    "locs_peaks=info['Peak_locs']\n",
    "peaks=info['Peaks']\n",
    "locs_onsets=info['Trough_locs']\n",
    "onsets=info['Troughs']"
   ]
  },
  {
   "cell_type": "code",
   "execution_count": 7,
   "metadata": {},
   "outputs": [],
   "source": [
    "#If needed, first and second derivatives of the signal can be calculated using the method below.\n",
    "info=biobss.preprocess.signal_differentiate.differentiate_signal(sig)\n",
    "vpg_sig=info['VPG']\n",
    "apg_sig=info['APG']"
   ]
  },
  {
   "cell_type": "markdown",
   "metadata": {},
   "source": [
    "### __PPG Signal Quality Assessment__\n",
    "<a id=\"ppg_sqa\"></a>"
   ]
  },
  {
   "cell_type": "code",
   "execution_count": 8,
   "metadata": {},
   "outputs": [],
   "source": [
    "#Clipping and flatline detection can be done using the methods below\n",
    "#For clipping detection\n",
    "info=biobss.ppgtools.detect_flatline_clipping(sig,threshold=1.0, clipping=True)\n"
   ]
  },
  {
   "cell_type": "code",
   "execution_count": 9,
   "metadata": {},
   "outputs": [],
   "source": [
    "#For flatline detection\n",
    "info=biobss.ppgtools.detect_flatline_clipping(sig,threshold=0.0001,flatline=True, duration=10)"
   ]
  },
  {
   "cell_type": "code",
   "execution_count": 10,
   "metadata": {},
   "outputs": [],
   "source": [
    "#The peaks should be detected for the following steps\n",
    "\n",
    "info=biobss.preprocess.peak_detection(sig,fs,'peakdet',delta=0.01)\n",
    "locs_peaks=info['Peak_locs']\n",
    "peaks=info['Peaks']\n",
    "locs_onsets=info['Trough_locs']\n",
    "onsets=info['Troughs']"
   ]
  },
  {
   "cell_type": "code",
   "execution_count": 11,
   "metadata": {},
   "outputs": [],
   "source": [
    "#and the results should be corrected considering the order of peaks and onsets\n",
    "info=biobss.ppgtools.peak_control(locs_peaks,peaks,locs_onsets,onsets)\n",
    "locs_peaks=info['Peak_locs']\n",
    "peaks=info['Peaks']\n",
    "locs_onsets=info['Trough_locs']\n",
    "onsets=info['Troughs']"
   ]
  },
  {
   "cell_type": "code",
   "execution_count": 12,
   "metadata": {},
   "outputs": [],
   "source": [
    "#Using the peak locations, the physiological and morphological limits can be checked\n",
    "\n",
    "info=biobss.ppgtools.check_phys(locs_peaks,fs)\n",
    "info=biobss.ppgtools.check_morph(locs_peaks,peaks,locs_onsets,onsets,fs)"
   ]
  },
  {
   "cell_type": "code",
   "execution_count": 13,
   "metadata": {},
   "outputs": [],
   "source": [
    "#Template matching method can be applied using the method below.\n",
    "\n",
    "info=biobss.ppgtools.template_matching(sig,locs_peaks)"
   ]
  },
  {
   "cell_type": "markdown",
   "metadata": {},
   "source": [
    "### __PPG Feature Extraction__\n",
    "<a id=\"ppg_features\"></a>"
   ]
  },
  {
   "cell_type": "code",
   "execution_count": 14,
   "metadata": {},
   "outputs": [],
   "source": [
    "#Cycle-based features can be calculated\n",
    "ppg_cycle=biobss.ppgtools.ppg_features.from_cycles(sig,locs_peaks,peaks,locs_onsets,onsets,fs,feature_types=['Time','Stat'],prefix='ppg')\n"
   ]
  },
  {
   "cell_type": "code",
   "execution_count": 16,
   "metadata": {},
   "outputs": [],
   "source": [
    "#Segment-based features can be calculated\n",
    "ppg_segment=biobss.ppgtools.ppg_features.from_segment(sig,fs,feature_types=['Time','Stat','Freq'], prefix='ppg')"
   ]
  }
 ],
 "metadata": {
  "kernelspec": {
   "display_name": "Python 3.8.5 64-bit ('biolib')",
   "language": "python",
   "name": "python3"
  },
  "language_info": {
   "codemirror_mode": {
    "name": "ipython",
    "version": 3
   },
   "file_extension": ".py",
   "mimetype": "text/x-python",
   "name": "python",
   "nbconvert_exporter": "python",
   "pygments_lexer": "ipython3",
   "version": "3.8.13"
  },
  "orig_nbformat": 4,
  "vscode": {
   "interpreter": {
    "hash": "3a4bcfb23c7e6ad66c655087280fa9f4d0273121ae7909f7735d1e02563a2438"
   }
  }
 },
 "nbformat": 4,
 "nbformat_minor": 2
}
