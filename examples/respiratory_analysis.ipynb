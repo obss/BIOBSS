{
 "cells": [
  {
   "cell_type": "markdown",
   "metadata": {},
   "source": [
    "__BIOBSS - Respiratory Analysis__\n",
    "\n",
    "_This notebook includes guidelines to help using BIOBSS for respiratory signal extraction and respiratory rate estimation from PPG or ECG signal._"
   ]
  },
  {
   "cell_type": "code",
   "execution_count": 1,
   "metadata": {},
   "outputs": [],
   "source": [
    "#Import BIOBSS and the other required packages\n",
    "\n",
    "import biobss\n",
    "import os\n",
    "import numpy as np\n",
    "import matplotlib.pyplot as plt\n",
    "import pandas as pd\n",
    "\n",
    "#help(biobss)"
   ]
  },
  {
   "cell_type": "markdown",
   "metadata": {},
   "source": [
    "# Table of Contents\n",
    "1.[PPG Sample Data](#sampledata)<br>\n",
    "2.[Preprocessing](#resp_pre)<br>\n",
    "3.[Extraction of Respiratory Signals](#resp_sig)<br>\n",
    "4.[Respiratory Signal Filtering](#filt_resp)<br>\n",
    "5.[Calculation of Respiratory Quality Indices](#resp_rqi)<br>\n",
    "6.[Respiratory Rate Estimation](#resp_rr)<br>\n",
    "7.[Fusion of Respiratory Rates](#resp_fusion)<br>"
   ]
  },
  {
   "cell_type": "markdown",
   "metadata": {},
   "source": [
    "### __PPG Sample Data__\n",
    "<a id=\"sampledata\"></a>"
   ]
  },
  {
   "cell_type": "code",
   "execution_count": 2,
   "metadata": {},
   "outputs": [],
   "source": [
    "#Load the sample data. The sample data file contains 100 10-s PPG segments. The samling rate of the segments is 64 Hz. \n",
    "\n",
    "data_dir=r'C:\\Users\\ipek.karakus\\Desktop\\biobss\\sample_data'\n",
    "\n",
    "filename='ppg_sample_data.csv'\n",
    "\n",
    "data=pd.read_csv(os.path.join(data_dir,filename), header=None)\n",
    "sig=np.asarray(data.iloc[0,:]) #The first segment is selected to be used as sample signal. \n",
    "fs=64\n",
    "L=10"
   ]
  },
  {
   "cell_type": "markdown",
   "metadata": {},
   "source": [
    "### __Preprocessing__\n",
    "<a id=\"resp_pre\"></a>"
   ]
  },
  {
   "cell_type": "code",
   "execution_count": 3,
   "metadata": {},
   "outputs": [],
   "source": [
    "#For respiratory rate estimation, the ppg signal should be filtered before extracting respiratory signal\n",
    "filt_sig=biobss.resptools.elim_vlf(sig,fs)\n",
    "filt_sig=biobss.resptools.elim_vhf(sig,fs)"
   ]
  },
  {
   "cell_type": "code",
   "execution_count": 4,
   "metadata": {},
   "outputs": [],
   "source": [
    "#Next, the PPG signal peaks and onsets are detected\n",
    "info=biobss.preprocess.peak_detection(sig,fs,'peakdet',delta=0.01)\n",
    "locs_peaks=info['Peak_locs']\n",
    "peaks=info['Peaks']\n",
    "locs_onsets=info['Trough_locs']\n",
    "onsets=info['Troughs']"
   ]
  },
  {
   "cell_type": "code",
   "execution_count": 5,
   "metadata": {},
   "outputs": [],
   "source": [
    "#In order to calculate the features correctly, the signal segment should start and end with an onset.  \n",
    "#Additionally, there should be a single peak between consecutive onsets.\n",
    "\n",
    "info=biobss.ppgtools.peak_control(locs_peaks,peaks,locs_onsets,onsets)\n",
    "locs_peaks=info['Peak_locs']\n",
    "peaks=info['Peaks']\n",
    "locs_onsets=info['Trough_locs']\n",
    "onsets=info['Troughs']"
   ]
  },
  {
   "cell_type": "markdown",
   "metadata": {},
   "source": [
    "### __Extraction of Respiratory Signals__\n",
    "<a id=\"resp_sig\"></a>"
   ]
  },
  {
   "cell_type": "code",
   "execution_count": 6,
   "metadata": {},
   "outputs": [],
   "source": [
    "#The next step is to extract the respiratory signal from the PPG signal.\n",
    "\n",
    "info=biobss.resptools.extract_resp_sig(locs_peaks,peaks,onsets,fs,['AM','FM','BW'],10)\n",
    "\n",
    "#The method above extracts the respiratory signals based on three modulation types seperately. To select the signal for a specific method.\n",
    "\n",
    "y_am=info['am_y']\n",
    "x_am=info['am_x']\n",
    "y_fm=info['fm_y']\n",
    "x_fm=info['fm_x']\n",
    "y_bw=info['bw_y']\n",
    "x_bw=info['bw_x']"
   ]
  },
  {
   "cell_type": "markdown",
   "metadata": {},
   "source": [
    "### __Respiratory Signal Filtering__\n",
    "<a id=\"filt_resp\"></a>"
   ]
  },
  {
   "cell_type": "code",
   "execution_count": 7,
   "metadata": {},
   "outputs": [],
   "source": [
    "#If required, the extracted respiratory signal can be filtered prior to respiratory rate estimation.\n",
    "\n",
    "info=biobss.resptools.filter_resp_sig(resampling_rate=10, am_sig=y_am, am_x=x_am, fm_sig=y_fm, fm_x=x_fm, bw_sig=y_bw, bw_x=x_bw)\n",
    "\n",
    "y_am=info['am_sig']\n",
    "x_am=info['am_x']\n",
    "y_fm=info['fm_sig']\n",
    "x_fm=info['fm_x']\n",
    "y_bw=info['bw_sig']\n",
    "x_bw=info['bw_x']"
   ]
  },
  {
   "cell_type": "markdown",
   "metadata": {},
   "source": [
    "### __Calculation of Respiratory Quality Indices__\n",
    "<a id=\"resp_rqi\"></a>"
   ]
  },
  {
   "cell_type": "code",
   "execution_count": 8,
   "metadata": {},
   "outputs": [
    {
     "name": "stderr",
     "output_type": "stream",
     "text": [
      "C:\\Users\\ipek.karakus\\AppData\\Roaming\\Python\\Python38\\site-packages\\numpy\\lib\\function_base.py:2683: RuntimeWarning: Degrees of freedom <= 0 for slice\n",
      "  c = cov(x, y, rowvar, dtype=dtype)\n"
     ]
    }
   ],
   "source": [
    "#If required, the respiratory quality assessment can be applied. Autocorrelation or Hjorth approaches can be used. \n",
    "#Note that, this step should be applied for a specific modulation type.\n",
    "\n",
    "rqi_am=biobss.resptools.calc_rqi(y_am,resampling_rate=10)\n",
    "rqi_fm=biobss.resptools.calc_rqi(y_fm,resampling_rate=10)\n",
    "rqi_bw=biobss.resptools.calc_rqi(y_bw,resampling_rate=10)"
   ]
  },
  {
   "cell_type": "markdown",
   "metadata": {},
   "source": [
    "### __Respiratory Rate Estimation__\n",
    "<a id=\"resp_rr\"></a>"
   ]
  },
  {
   "cell_type": "code",
   "execution_count": 9,
   "metadata": {},
   "outputs": [],
   "source": [
    "#Now, the respiratory rate can be estimated. Note that, this method should be used for a specific modulation type.\n",
    "\n",
    "rr_am=biobss.resptools.estimate_rr(y_am,10,method='peakdet')\n",
    "rr_fm=biobss.resptools.estimate_rr(y_fm,10,method='peakdet')\n",
    "rr_bw=biobss.resptools.estimate_rr(y_bw,10,method='peakdet')\n"
   ]
  },
  {
   "cell_type": "markdown",
   "metadata": {},
   "source": [
    "### __Fusion of Respiratory Rates__\n",
    "<a id=\"resp_fusion\"></a>"
   ]
  },
  {
   "cell_type": "code",
   "execution_count": 10,
   "metadata": {},
   "outputs": [],
   "source": [
    "#Seperate respiratory rates can be fused into a single value. SmartFusion method does not take RQIs into consideration.\n",
    "\n",
    "rr_fused=biobss.resptools.fuse_rr(fusion_method='SmartFusion', rqi=None, rr_am=rr_am, rr_fm=rr_fm, rr_bw=rr_bw)\n"
   ]
  },
  {
   "cell_type": "code",
   "execution_count": 13,
   "metadata": {},
   "outputs": [],
   "source": [
    "#In order to calculate the weighted average for fusion of RRs, the fusion_method should be selected as 'QualityFusion'.\n",
    "#RQIs (array) should be provided as a keyworded argument. The order of elements in the array should match with the order RRs of different modulation types.\n",
    "rqi=[rqi_am['hjorth'],rqi_fm['hjorth'],rqi_bw['hjorth']]\n",
    "rr_fused=biobss.resptools.fuse_rr(fusion_method='QualityFusion', rqi=rqi, rr_am=rr_am, rr_fm=rr_fm, rr_bw=rr_bw)"
   ]
  }
 ],
 "metadata": {
  "kernelspec": {
   "display_name": "Python 3.8.5 64-bit ('biolib')",
   "language": "python",
   "name": "python3"
  },
  "language_info": {
   "codemirror_mode": {
    "name": "ipython",
    "version": 3
   },
   "file_extension": ".py",
   "mimetype": "text/x-python",
   "name": "python",
   "nbconvert_exporter": "python",
   "pygments_lexer": "ipython3",
   "version": "3.8.13"
  },
  "orig_nbformat": 4,
  "vscode": {
   "interpreter": {
    "hash": "3a4bcfb23c7e6ad66c655087280fa9f4d0273121ae7909f7735d1e02563a2438"
   }
  }
 },
 "nbformat": 4,
 "nbformat_minor": 2
}
